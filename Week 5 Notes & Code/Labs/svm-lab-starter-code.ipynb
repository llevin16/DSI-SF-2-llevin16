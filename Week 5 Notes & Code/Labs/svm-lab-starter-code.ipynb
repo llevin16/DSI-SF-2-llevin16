{
 "cells": [
  {
   "cell_type": "markdown",
   "metadata": {},
   "source": [
    "# Support Vector Machines Lab\n",
    "\n",
    "In this lab you can explore several datasets with SVM classifiers compared to logistic regression and kNN classifiers. \n",
    "\n",
    "Your datasets folder has these four datasets to choose from for the lab:\n",
    "\n",
    "**Breast cancer**\n",
    "\n",
    "    ./DSI-SF-2/datasets/breast_cancer_wisconsin\n",
    "\n",
    "**Spambase**\n",
    "\n",
    "    ./DSI-SF-2/datasets/spam\n",
    "\n",
    "**Car evaluation**\n",
    "\n",
    "    ./DSI-SF-2/datasets/car_evaluation\n",
    "    \n",
    "**Mushroom**\n",
    "\n",
    "    ./DSI-SF-2/datasets/car_evaluation\n"
   ]
  },
  {
   "cell_type": "code",
   "execution_count": 12,
   "metadata": {
    "collapsed": false
   },
   "outputs": [],
   "source": [
    "import pandas as pd\n",
    "import numpy as np\n",
    "import matplotlib.pyplot as plt\n",
    "import seaborn as sns\n",
    "\n",
    "plt.style.use('fivethirtyeight')\n",
    "\n",
    "from ipywidgets import *\n",
    "from IPython.display import display\n",
    "from sklearn.grid_search import GridSearchCV\n",
    "from sklearn.svm import SVC, LinearSVC\n",
    "from sklearn.cross_validation import cross_val_score\n",
    "%matplotlib inline\n",
    "%config InlineBackend.figure_format = 'retina'"
   ]
  },
  {
   "cell_type": "markdown",
   "metadata": {},
   "source": [
    "## 1.: Breast Cancer\n",
    "\n",
    "\n",
    "\n",
    "### Load the Data\n",
    "\n",
    "- Are there any missing values? Impute or clean if so.\n",
    "- Select a classification target and predictors."
   ]
  },
  {
   "cell_type": "code",
   "execution_count": 2,
   "metadata": {
    "collapsed": false
   },
   "outputs": [],
   "source": [
    "bc = pd.read_csv('../Datasets/breast_cancer.csv')"
   ]
  },
  {
   "cell_type": "code",
   "execution_count": 3,
   "metadata": {
    "collapsed": false
   },
   "outputs": [
    {
     "name": "stdout",
     "output_type": "stream",
     "text": [
      "<class 'pandas.core.frame.DataFrame'>\n",
      "RangeIndex: 699 entries, 0 to 698\n",
      "Data columns (total 11 columns):\n",
      "Sample_code_number             699 non-null int64\n",
      "Clump_Thickness                699 non-null int64\n",
      "Uniformity_of_Cell_Size        699 non-null int64\n",
      "Uniformity_of_Cell_Shape       699 non-null int64\n",
      "Marginal_Adhesion              699 non-null int64\n",
      "Single_Epithelial_Cell_Size    699 non-null int64\n",
      "Bare_Nuclei                    699 non-null object\n",
      "Bland_Chromatin                699 non-null int64\n",
      "Normal_Nucleoli                699 non-null int64\n",
      "Mitoses                        699 non-null int64\n",
      "Class                          699 non-null int64\n",
      "dtypes: int64(10), object(1)\n",
      "memory usage: 60.1+ KB\n"
     ]
    }
   ],
   "source": [
    "bc.info()"
   ]
  },
  {
   "cell_type": "code",
   "execution_count": 4,
   "metadata": {
    "collapsed": false
   },
   "outputs": [
    {
     "data": {
      "text/plain": [
       "Sample_code_number             0\n",
       "Clump_Thickness                0\n",
       "Uniformity_of_Cell_Size        0\n",
       "Uniformity_of_Cell_Shape       0\n",
       "Marginal_Adhesion              0\n",
       "Single_Epithelial_Cell_Size    0\n",
       "Bare_Nuclei                    0\n",
       "Bland_Chromatin                0\n",
       "Normal_Nucleoli                0\n",
       "Mitoses                        0\n",
       "Class                          0\n",
       "dtype: int64"
      ]
     },
     "execution_count": 4,
     "metadata": {},
     "output_type": "execute_result"
    }
   ],
   "source": [
    "bc.isnull().sum()"
   ]
  },
  {
   "cell_type": "code",
   "execution_count": 5,
   "metadata": {
    "collapsed": false
   },
   "outputs": [
    {
     "name": "stdout",
     "output_type": "stream",
     "text": [
      "1182404    6\n",
      "1276091    5\n",
      "1198641    3\n",
      "466906     2\n",
      "1116116    2\n",
      "1070935    2\n",
      "385103     2\n",
      "1293439    2\n",
      "1240603    2\n",
      "1277792    2\n",
      "1168736    2\n",
      "560680     2\n",
      "1174057    2\n",
      "822829     2\n",
      "320675     2\n",
      "897471     2\n",
      "1114570    2\n",
      "1339781    2\n",
      "654546     2\n",
      "704097     2\n",
      "1017023    2\n",
      "734111     2\n",
      "1354840    2\n",
      "769612     2\n",
      "411453     2\n",
      "1158247    2\n",
      "1321942    2\n",
      "1061990    2\n",
      "733639     2\n",
      "1218860    2\n",
      "          ..\n",
      "1096352    1\n",
      "255644     1\n",
      "1201870    1\n",
      "1169049    1\n",
      "1041043    1\n",
      "1190546    1\n",
      "1071760    1\n",
      "797327     1\n",
      "1293966    1\n",
      "1214092    1\n",
      "1184241    1\n",
      "432809     1\n",
      "1201834    1\n",
      "1125035    1\n",
      "888523     1\n",
      "1182410    1\n",
      "640712     1\n",
      "1018561    1\n",
      "1336798    1\n",
      "1091262    1\n",
      "1173216    1\n",
      "1286943    1\n",
      "1319609    1\n",
      "1172152    1\n",
      "558538     1\n",
      "1207986    1\n",
      "1302428    1\n",
      "857774     1\n",
      "1181356    1\n",
      "625201     1\n",
      "Name: Sample_code_number, dtype: int64\n",
      "1     145\n",
      "5     130\n",
      "3     108\n",
      "4      80\n",
      "10     69\n",
      "2      50\n",
      "8      46\n",
      "6      34\n",
      "7      23\n",
      "9      14\n",
      "Name: Clump_Thickness, dtype: int64\n",
      "1     384\n",
      "10     67\n",
      "3      52\n",
      "2      45\n",
      "4      40\n",
      "5      30\n",
      "8      29\n",
      "6      27\n",
      "7      19\n",
      "9       6\n",
      "Name: Uniformity_of_Cell_Size, dtype: int64\n",
      "1     353\n",
      "2      59\n",
      "10     58\n",
      "3      56\n",
      "4      44\n",
      "5      34\n",
      "7      30\n",
      "6      30\n",
      "8      28\n",
      "9       7\n",
      "Name: Uniformity_of_Cell_Shape, dtype: int64\n",
      "1     407\n",
      "3      58\n",
      "2      58\n",
      "10     55\n",
      "4      33\n",
      "8      25\n",
      "5      23\n",
      "6      22\n",
      "7      13\n",
      "9       5\n",
      "Name: Marginal_Adhesion, dtype: int64\n",
      "2     386\n",
      "3      72\n",
      "4      48\n",
      "1      47\n",
      "6      41\n",
      "5      39\n",
      "10     31\n",
      "8      21\n",
      "7      12\n",
      "9       2\n",
      "Name: Single_Epithelial_Cell_Size, dtype: int64\n",
      "1     402\n",
      "10    132\n",
      "5      30\n",
      "2      30\n",
      "3      28\n",
      "8      21\n",
      "4      19\n",
      "?      16\n",
      "9       9\n",
      "7       8\n",
      "6       4\n",
      "Name: Bare_Nuclei, dtype: int64\n",
      "2     166\n",
      "3     165\n",
      "1     152\n",
      "7      73\n",
      "4      40\n",
      "5      34\n",
      "8      28\n",
      "10     20\n",
      "9      11\n",
      "6      10\n",
      "Name: Bland_Chromatin, dtype: int64\n",
      "1     443\n",
      "10     61\n",
      "3      44\n",
      "2      36\n",
      "8      24\n",
      "6      22\n",
      "5      19\n",
      "4      18\n",
      "9      16\n",
      "7      16\n",
      "Name: Normal_Nucleoli, dtype: int64\n",
      "1     579\n",
      "2      35\n",
      "3      33\n",
      "10     14\n",
      "4      12\n",
      "7       9\n",
      "8       8\n",
      "5       6\n",
      "6       3\n",
      "Name: Mitoses, dtype: int64\n",
      "2    458\n",
      "4    241\n",
      "Name: Class, dtype: int64\n"
     ]
    }
   ],
   "source": [
    "for col in bc.columns:\n",
    "    print bc[col].value_counts()"
   ]
  },
  {
   "cell_type": "code",
   "execution_count": 6,
   "metadata": {
    "collapsed": false
   },
   "outputs": [
    {
     "name": "stdout",
     "output_type": "stream",
     "text": [
      "Benign       444\n",
      "Malignant    239\n",
      "Name: Class, dtype: int64\n",
      "<class 'pandas.core.frame.DataFrame'>\n",
      "Int64Index: 683 entries, 0 to 698\n",
      "Data columns (total 11 columns):\n",
      "Sample_code_number             683 non-null int64\n",
      "Clump_Thickness                683 non-null int64\n",
      "Uniformity_of_Cell_Size        683 non-null int64\n",
      "Uniformity_of_Cell_Shape       683 non-null int64\n",
      "Marginal_Adhesion              683 non-null int64\n",
      "Single_Epithelial_Cell_Size    683 non-null int64\n",
      "Bare_Nuclei                    683 non-null int64\n",
      "Bland_Chromatin                683 non-null int64\n",
      "Normal_Nucleoli                683 non-null int64\n",
      "Mitoses                        683 non-null int64\n",
      "Class                          683 non-null object\n",
      "dtypes: int64(10), object(1)\n",
      "memory usage: 64.0+ KB\n"
     ]
    },
    {
     "name": "stderr",
     "output_type": "stream",
     "text": [
      "/home/llevin/anaconda2/envs/dsi/lib/python2.7/site-packages/ipykernel/__main__.py:2: SettingWithCopyWarning: \n",
      "A value is trying to be set on a copy of a slice from a DataFrame.\n",
      "Try using .loc[row_indexer,col_indexer] = value instead\n",
      "\n",
      "See the caveats in the documentation: http://pandas.pydata.org/pandas-docs/stable/indexing.html#indexing-view-versus-copy\n",
      "  from ipykernel import kernelapp as app\n",
      "/home/llevin/anaconda2/envs/dsi/lib/python2.7/site-packages/ipykernel/__main__.py:3: SettingWithCopyWarning: \n",
      "A value is trying to be set on a copy of a slice from a DataFrame.\n",
      "Try using .loc[row_indexer,col_indexer] = value instead\n",
      "\n",
      "See the caveats in the documentation: http://pandas.pydata.org/pandas-docs/stable/indexing.html#indexing-view-versus-copy\n",
      "  app.launch_new_instance()\n"
     ]
    }
   ],
   "source": [
    "bc_v2 = bc[bc['Bare_Nuclei']!='?']\n",
    "bc_v2['Bare_Nuclei'] = pd.to_numeric(bc_v2['Bare_Nuclei'])\n",
    "bc_v2['Class'] = bc_v2['Class'].map(lambda x: 'Benign' if x == 2 else 'Malignant')\n",
    "print bc_v2['Class'].value_counts()\n",
    "bc_v2.info()"
   ]
  },
  {
   "cell_type": "code",
   "execution_count": 7,
   "metadata": {
    "collapsed": false
   },
   "outputs": [
    {
     "name": "stdout",
     "output_type": "stream",
     "text": [
      "(683, 10) (683,)\n"
     ]
    }
   ],
   "source": [
    "y = bc_v2['Class'].reset_index(drop=True)\n",
    "X = bc_v2[[col for col in bc_v2.columns if col not in ['Class']]]\n",
    "\n",
    "print X.shape,y.shape"
   ]
  },
  {
   "cell_type": "code",
   "execution_count": null,
   "metadata": {
    "collapsed": true
   },
   "outputs": [],
   "source": []
  },
  {
   "cell_type": "markdown",
   "metadata": {},
   "source": [
    "## 2. Modeling\n",
    "\n",
    "For details on the SVM classifier, see here:\n",
    "\n",
    "http://scikit-learn.org/stable/modules/generated/sklearn.svm.SVC.html\n",
    "\n",
    "- What's the baseline for the accuracy?\n",
    "- Initialize and train a linear svm. What's the average accuracy score with a 5-fold cross validation?\n",
    "- Repeat using a radial basis function (rbf) classifier. Compare the scores. Which one is better?\n",
    "- Print a confusion matrix and classification report for your best model using training & testing data.\n",
    "\n",
    "Classification report:\n",
    "\n",
    "```python\n",
    "http://scikit-learn.org/stable/modules/generated/sklearn.metrics.classification_report.html\n",
    "```\n",
    "\n",
    "Confusion matrix:\n",
    "\n",
    "```python\n",
    "df_confusion = pd.crosstab(y_true, y_pred, rownames=['Actual'], colnames=['Predicted'], margins=True)\n",
    "```"
   ]
  },
  {
   "cell_type": "code",
   "execution_count": 9,
   "metadata": {
    "collapsed": true
   },
   "outputs": [],
   "source": [
    "svc = LinearSVC()\n",
    "svc_best = svc.fit(X,y)"
   ]
  },
  {
   "cell_type": "code",
   "execution_count": null,
   "metadata": {
    "collapsed": true
   },
   "outputs": [],
   "source": [
    "svc = SVC(kernel='linear')\n",
    "svc.fit(X,y)"
   ]
  },
  {
   "cell_type": "code",
   "execution_count": 10,
   "metadata": {
    "collapsed": false
   },
   "outputs": [],
   "source": [
    "# # Setup our GridSearch Parmaters\n",
    "# search_parameters = {\n",
    "#     'C':  [1,10,100,1000],\n",
    "#     'kernel':  ['linear']\n",
    "# }\n",
    "\n",
    "# # Intialize a blank model object\n",
    "# svc = SVC()\n",
    "\n",
    "# # Initialize gridsearch\n",
    "# grid = GridSearchCV(svc, search_parameters, cv=5, verbose=1)\n",
    "# svc_best = grid.fit(X,y).best_estimator_"
   ]
  },
  {
   "cell_type": "code",
   "execution_count": 16,
   "metadata": {
    "collapsed": false
   },
   "outputs": [
    {
     "name": "stdout",
     "output_type": "stream",
     "text": [
      "Cross-Val:  [ 0.64963504  0.64963504  0.64963504  0.64963504  0.34814815]\n",
      "SVC:  0.590224384969\n",
      "Baseline:  0.650073206442\n"
     ]
    }
   ],
   "source": [
    "print 'Cross-Val: ',cross_val_score(svc_best,X,y,cv=5)\n",
    "print 'SVC: ',np.mean(cross_val_score(svc_best,X,y,cv=5))\n",
    "print 'Baseline: ',len(bc_v2[bc_v2['Class']=='Benign'])/float(len(bc_v2))"
   ]
  },
  {
   "cell_type": "code",
   "execution_count": 18,
   "metadata": {
    "collapsed": true
   },
   "outputs": [],
   "source": [
    "svc = SVC()\n",
    "svc_best = svc.fit(X,y)"
   ]
  },
  {
   "cell_type": "code",
   "execution_count": 19,
   "metadata": {
    "collapsed": false
   },
   "outputs": [
    {
     "name": "stdout",
     "output_type": "stream",
     "text": [
      "Cross-Val:  [ 0.66423358  0.64963504  0.66423358  0.64963504  0.65185185]\n",
      "SVC:  0.655917815626\n",
      "Baseline:  0.650073206442\n"
     ]
    }
   ],
   "source": [
    "print 'Cross-Val: ',cross_val_score(svc_best,X,y,cv=5)\n",
    "print 'SVC: ',np.mean(cross_val_score(svc_best,X,y,cv=5))\n",
    "print 'Baseline: ',len(bc_v2[bc_v2['Class']=='Benign'])/float(len(bc_v2))"
   ]
  },
  {
   "cell_type": "code",
   "execution_count": 20,
   "metadata": {
    "collapsed": true
   },
   "outputs": [],
   "source": [
    "y_hat = svc_best.predict(X)"
   ]
  },
  {
   "cell_type": "code",
   "execution_count": 23,
   "metadata": {
    "collapsed": false
   },
   "outputs": [
    {
     "data": {
      "text/html": [
       "<div>\n",
       "<table border=\"1\" class=\"dataframe\">\n",
       "  <thead>\n",
       "    <tr style=\"text-align: right;\">\n",
       "      <th>Predicted</th>\n",
       "      <th>Benign</th>\n",
       "      <th>Malignant</th>\n",
       "      <th>All</th>\n",
       "    </tr>\n",
       "    <tr>\n",
       "      <th>Actual</th>\n",
       "      <th></th>\n",
       "      <th></th>\n",
       "      <th></th>\n",
       "    </tr>\n",
       "  </thead>\n",
       "  <tbody>\n",
       "    <tr>\n",
       "      <th>Benign</th>\n",
       "      <td>444</td>\n",
       "      <td>0</td>\n",
       "      <td>444</td>\n",
       "    </tr>\n",
       "    <tr>\n",
       "      <th>Malignant</th>\n",
       "      <td>0</td>\n",
       "      <td>239</td>\n",
       "      <td>239</td>\n",
       "    </tr>\n",
       "    <tr>\n",
       "      <th>All</th>\n",
       "      <td>444</td>\n",
       "      <td>239</td>\n",
       "      <td>683</td>\n",
       "    </tr>\n",
       "  </tbody>\n",
       "</table>\n",
       "</div>"
      ],
      "text/plain": [
       "Predicted  Benign  Malignant  All\n",
       "Actual                           \n",
       "Benign        444          0  444\n",
       "Malignant       0        239  239\n",
       "All           444        239  683"
      ]
     },
     "execution_count": 23,
     "metadata": {},
     "output_type": "execute_result"
    }
   ],
   "source": [
    "df_confusion = pd.crosstab(y, y_hat, rownames=['Actual'], colnames=['Predicted'], margins=True)\n",
    "df_confusion"
   ]
  },
  {
   "cell_type": "markdown",
   "metadata": {},
   "source": [
    "## 2. Perform the steps above with the car or mushroom dataset\n",
    "\n",
    "Repeat each step."
   ]
  },
  {
   "cell_type": "code",
   "execution_count": null,
   "metadata": {
    "collapsed": false
   },
   "outputs": [],
   "source": []
  },
  {
   "cell_type": "markdown",
   "metadata": {},
   "source": [
    "## 3. Compare SVM, kNN and logistic regression using spam data\n",
    "\n",
    "You should:\n",
    "\n",
    "- Gridsearch optimal parameters for both (for SVM, just gridsearch C and kernel).\n",
    "- Cross-validate scores.\n",
    "- Examine confusion matrices and classification reports.\n",
    "\n",
    "Bonus: \n",
    "\n",
    "Plot \"learning curves\" for the best models of each. This is a great way see how training/testing size affects the scores. Look at the documentation for how to use this function in sklearn.\n",
    "\n",
    "http://scikit-learn.org/stable/modules/learning_curve.html#learning-curves"
   ]
  },
  {
   "cell_type": "code",
   "execution_count": null,
   "metadata": {
    "collapsed": false
   },
   "outputs": [],
   "source": []
  }
 ],
 "metadata": {
  "kernelspec": {
   "display_name": "Python [dsi]",
   "language": "python",
   "name": "Python [dsi]"
  },
  "language_info": {
   "codemirror_mode": {
    "name": "ipython",
    "version": 2
   },
   "file_extension": ".py",
   "mimetype": "text/x-python",
   "name": "python",
   "nbconvert_exporter": "python",
   "pygments_lexer": "ipython2",
   "version": "2.7.12"
  }
 },
 "nbformat": 4,
 "nbformat_minor": 0
}
