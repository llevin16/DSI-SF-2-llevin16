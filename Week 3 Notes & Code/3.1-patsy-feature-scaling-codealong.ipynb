{
 "cells": [
  {
   "cell_type": "markdown",
   "metadata": {},
   "source": [
    "```\n",
    "---\n",
    "title: Patsy + Feature Scaling\n",
    "duration: \"~1:5\"\n",
    "creator:\n",
    "    name: David Yerrington\n",
    "    city: SF\n",
    "---\n",
    "```\n",
    "<img src=\"https://ga-dash.s3.amazonaws.com/production/assets/logo-9f88ae6c9c3871690e33280fcf557f33.png\" style=\"float: left; margin: 15px;\">\n",
    "\n",
    "# Patsy + Feature Scaling\n",
    "\n",
    "Week 3 | Codealong 3.1\n",
    "\n",
    "---\n",
    "\n",
    "To round out our workflow in what we sometimes refer to as the **preprocessing pipeline**, we will be working with normalizing features within our dataset(s), and converting our data to design matrices with **Patsy**, before using models with a linear component (ie: linear regression).\n",
    "\n",
    "\n",
    "\n",
    "\n"
   ]
  },
  {
   "cell_type": "markdown",
   "metadata": {},
   "source": [
    "## Why Feature Scaling\n",
    "\n",
    "The majority of machine learning methods will perform better when our variables are on the same scale.  Some methods will optimize for larger errors in spaces that have a bigger range in the case where some features are weighted by errors.  Other cases include methods that rely on euclidean distances (ie: KNN, K-Means), or linearly sperable points, which means that scaling can have a desirable impact.  The most obvious cases were this makes sense is when you have features that are drastically different _and_ we want them within a bound interval.\n",
    "\n",
    "### Normalizing or standarding prevents features from dominating each other in machine learning.  The larger numbers are going to be larger in weight.\n",
    "\n",
    "<br>\n",
    "\n",
    "Consider the example we've talked about a times when we are predicting the value of real-estate properties, and we have a variable \"square feet\" within 1-10,000, and \"number of bathrooms\" between 1-3.\n",
    "\n"
   ]
  },
  {
   "cell_type": "code",
   "execution_count": 2,
   "metadata": {
    "collapsed": false
   },
   "outputs": [
    {
     "data": {
      "text/plain": [
       "<matplotlib.axes._subplots.AxesSubplot at 0x7f319610abd0>"
      ]
     },
     "execution_count": 2,
     "metadata": {},
     "output_type": "execute_result"
    },
    {
     "data": {
      "image/png": "[encoded data removed]",
      "text/plain": [
       "<matplotlib.figure.Figure at 0x7f3195c37050>"
      ]
     },
     "metadata": {},
     "output_type": "display_data"
    }
   ],
   "source": [
    "import seaborn as sns, pandas as pd\n",
    "import numpy as np\n",
    "\n",
    "%matplotlib inline\n",
    "\n",
    "# Creating some artificial data\n",
    "df = pd.DataFrame()\n",
    "df['square_feet'] = np.random.randint(500, 10000, 500)\n",
    "df['bathrooms'] = np.random.choice(np.arange(1, 4, 0.5), size=500)\n",
    "\n",
    "# Plot it!\n",
    "df.plot(kind=\"scatter\", x=\"bathrooms\", y=\"square_feet\", figsize=(8,5))"
   ]
  },
  {
   "cell_type": "markdown",
   "metadata": {},
   "source": [
    "There are two approaches to scaling.\n",
    "\n",
    "**Min-max scaling** (sometimes called _normalization_), which typically means rescaling features from 0 to 1.  There are a lot of different methods for transforming your data to scale.  The methods in `sklean.preprocessing` are extremely fast compared to doing this calculation by hand and are very well tested.\n",
    "\n",
    "![](https://snag.gy/DEwF4T.jpg)\n"
   ]
  },
  {
   "cell_type": "code",
   "execution_count": 3,
   "metadata": {
    "collapsed": false
   },
   "outputs": [
    {
     "data": {
      "text/html": [
       "<div>\n",
       "<table border=\"1\" class=\"dataframe\">\n",
       "  <thead>\n",
       "    <tr style=\"text-align: right;\">\n",
       "      <th></th>\n",
       "      <th>count</th>\n",
       "      <th>mean</th>\n",
       "      <th>std</th>\n",
       "      <th>min</th>\n",
       "      <th>25%</th>\n",
       "      <th>50%</th>\n",
       "      <th>75%</th>\n",
       "      <th>max</th>\n",
       "    </tr>\n",
       "  </thead>\n",
       "  <tbody>\n",
       "    <tr>\n",
       "      <th>norm_square_feet</th>\n",
       "      <td>500.0</td>\n",
       "      <td>0.477198</td>\n",
       "      <td>0.293429</td>\n",
       "      <td>0.0</td>\n",
       "      <td>0.220539</td>\n",
       "      <td>0.474386</td>\n",
       "      <td>0.732028</td>\n",
       "      <td>1.0</td>\n",
       "    </tr>\n",
       "    <tr>\n",
       "      <th>norm_bathrooms</th>\n",
       "      <td>500.0</td>\n",
       "      <td>0.502400</td>\n",
       "      <td>0.341977</td>\n",
       "      <td>0.0</td>\n",
       "      <td>0.200000</td>\n",
       "      <td>0.400000</td>\n",
       "      <td>0.800000</td>\n",
       "      <td>1.0</td>\n",
       "    </tr>\n",
       "  </tbody>\n",
       "</table>\n",
       "</div>"
      ],
      "text/plain": [
       "                  count      mean       std  min       25%       50%  \\\n",
       "norm_square_feet  500.0  0.477198  0.293429  0.0  0.220539  0.474386   \n",
       "norm_bathrooms    500.0  0.502400  0.341977  0.0  0.200000  0.400000   \n",
       "\n",
       "                       75%  max  \n",
       "norm_square_feet  0.732028  1.0  \n",
       "norm_bathrooms    0.800000  1.0  "
      ]
     },
     "execution_count": 3,
     "metadata": {},
     "output_type": "execute_result"
    }
   ],
   "source": [
    "from sklearn.preprocessing import MinMaxScaler, StandardScaler\n",
    "\n",
    "scaler = MinMaxScaler()\n",
    "scaled_data = scaler.fit_transform(df)\n",
    "\n",
    "normalized = pd.DataFrame(scaled_data, columns=[\"norm_square_feet\", \"norm_bathrooms\"])\n",
    "normalized.describe().T"
   ]
  },
  {
   "cell_type": "code",
   "execution_count": 4,
   "metadata": {
    "collapsed": false
   },
   "outputs": [
    {
     "data": {
      "text/plain": [
       "<matplotlib.axes._subplots.AxesSubplot at 0x7f3195432fd0>"
      ]
     },
     "execution_count": 4,
     "metadata": {},
     "output_type": "execute_result"
    },
    {
     "data": {
      "image/png": "[encoded data removed]",
      "text/plain": [
       "<matplotlib.figure.Figure at 0x7f3195432350>"
      ]
     },
     "metadata": {},
     "output_type": "display_data"
    }
   ],
   "source": [
    "normalized.plot(kind=\"scatter\", x=\"norm_bathrooms\", y=\"norm_square_feet\", figsize=(8,5))"
   ]
  },
  {
   "cell_type": "markdown",
   "metadata": {},
   "source": [
    "Alternatively, we may want to use **standardization** to scale our variables to 0 for the mean, with a standard deviantion of 1, in effect creating a normal distribution.  This actually makes it easier for machine learning methods to learn variable weights (ie: stochastic gradient descent, [Newton-CG](https://en.wikipedia.org/wiki/Nonlinear_conjugate_gradient_method), or OLS regression!)\n",
    "\n",
    "![](https://snag.gy/VNbp4H.jpg)\n",
    "\n",
    "> _In this form, the mean and standard deviation is represented for each variable that is being standardized._\n",
    "\n",
    "Where **min-max normalization** is sensitive to outliers, **standardization** is not as sensitive to outliers but still retains some of those characteristics because the range isn't limited to a set of fixed values (0-1).\n"
   ]
  },
  {
   "cell_type": "code",
   "execution_count": 10,
   "metadata": {
    "collapsed": false
   },
   "outputs": [
    {
     "data": {
      "text/html": [
       "<div>\n",
       "<table border=\"1\" class=\"dataframe\">\n",
       "  <thead>\n",
       "    <tr style=\"text-align: right;\">\n",
       "      <th></th>\n",
       "      <th>count</th>\n",
       "      <th>mean</th>\n",
       "      <th>std</th>\n",
       "      <th>min</th>\n",
       "      <th>25%</th>\n",
       "      <th>50%</th>\n",
       "      <th>75%</th>\n",
       "      <th>max</th>\n",
       "    </tr>\n",
       "  </thead>\n",
       "  <tbody>\n",
       "    <tr>\n",
       "      <th>stand_square_feet</th>\n",
       "      <td>500.0</td>\n",
       "      <td>-9.781065e-17</td>\n",
       "      <td>1.001002</td>\n",
       "      <td>-1.627913</td>\n",
       "      <td>-0.875568</td>\n",
       "      <td>-0.009594</td>\n",
       "      <td>0.869325</td>\n",
       "      <td>1.783484</td>\n",
       "    </tr>\n",
       "    <tr>\n",
       "      <th>stand_bathrooms</th>\n",
       "      <td>500.0</td>\n",
       "      <td>2.686740e-16</td>\n",
       "      <td>1.001002</td>\n",
       "      <td>-1.470577</td>\n",
       "      <td>-0.885156</td>\n",
       "      <td>-0.299735</td>\n",
       "      <td>0.871106</td>\n",
       "      <td>1.456527</td>\n",
       "    </tr>\n",
       "  </tbody>\n",
       "</table>\n",
       "</div>"
      ],
      "text/plain": [
       "                   count          mean       std       min       25%  \\\n",
       "stand_square_feet  500.0 -9.781065e-17  1.001002 -1.627913 -0.875568   \n",
       "stand_bathrooms    500.0  2.686740e-16  1.001002 -1.470577 -0.885156   \n",
       "\n",
       "                        50%       75%       max  \n",
       "stand_square_feet -0.009594  0.869325  1.783484  \n",
       "stand_bathrooms   -0.299735  0.871106  1.456527  "
      ]
     },
     "execution_count": 10,
     "metadata": {},
     "output_type": "execute_result"
    }
   ],
   "source": [
    "scaler = StandardScaler()\n",
    "scaled_data = scaler.fit_transform(df)\n",
    "\n",
    "standardized = pd.DataFrame(scaled_data, columns=[\"stand_square_feet\", \"stand_bathrooms\"])\n",
    "standardized.describe().T"
   ]
  },
  {
   "cell_type": "code",
   "execution_count": 6,
   "metadata": {
    "collapsed": false
   },
   "outputs": [
    {
     "data": {
      "text/plain": [
       "<matplotlib.axes._subplots.AxesSubplot at 0x7f3194f120d0>"
      ]
     },
     "execution_count": 6,
     "metadata": {},
     "output_type": "execute_result"
    },
    {
     "data": {
      "image/png": "[encoded data removed]",
      "text/plain": [
       "<matplotlib.figure.Figure at 0x7f31c97772d0>"
      ]
     },
     "metadata": {},
     "output_type": "display_data"
    }
   ],
   "source": [
    "standardized.plot(kind=\"scatter\", x=\"stand_bathrooms\", y=\"stand_square_feet\", figsize=(8,5))"
   ]
  },
  {
   "cell_type": "markdown",
   "metadata": {},
   "source": [
    "### Normalized vs Standardized Compared"
   ]
  },
  {
   "cell_type": "code",
   "execution_count": 12,
   "metadata": {
    "collapsed": false
   },
   "outputs": [
    {
     "name": "stdout",
     "output_type": "stream",
     "text": [
      "Bathrooms\n"
     ]
    },
    {
     "data": {
      "text/html": [
       "<div>\n",
       "<table border=\"1\" class=\"dataframe\">\n",
       "  <thead>\n",
       "    <tr style=\"text-align: right;\">\n",
       "      <th></th>\n",
       "      <th>bathrooms</th>\n",
       "      <th>norm_bathrooms</th>\n",
       "      <th>stand_bathrooms</th>\n",
       "    </tr>\n",
       "  </thead>\n",
       "  <tbody>\n",
       "    <tr>\n",
       "      <th>0</th>\n",
       "      <td>3.5</td>\n",
       "      <td>1.0</td>\n",
       "      <td>1.456527</td>\n",
       "    </tr>\n",
       "    <tr>\n",
       "      <th>1</th>\n",
       "      <td>2.0</td>\n",
       "      <td>0.4</td>\n",
       "      <td>-0.299735</td>\n",
       "    </tr>\n",
       "    <tr>\n",
       "      <th>2</th>\n",
       "      <td>3.0</td>\n",
       "      <td>0.8</td>\n",
       "      <td>0.871106</td>\n",
       "    </tr>\n",
       "    <tr>\n",
       "      <th>3</th>\n",
       "      <td>1.0</td>\n",
       "      <td>0.0</td>\n",
       "      <td>-1.470577</td>\n",
       "    </tr>\n",
       "    <tr>\n",
       "      <th>4</th>\n",
       "      <td>1.5</td>\n",
       "      <td>0.2</td>\n",
       "      <td>-0.885156</td>\n",
       "    </tr>\n",
       "  </tbody>\n",
       "</table>\n",
       "</div>"
      ],
      "text/plain": [
       "   bathrooms  norm_bathrooms  stand_bathrooms\n",
       "0        3.5             1.0         1.456527\n",
       "1        2.0             0.4        -0.299735\n",
       "2        3.0             0.8         0.871106\n",
       "3        1.0             0.0        -1.470577\n",
       "4        1.5             0.2        -0.885156"
      ]
     },
     "execution_count": 12,
     "metadata": {},
     "output_type": "execute_result"
    }
   ],
   "source": [
    "# Consolidate some data\n",
    "df['norm_bathrooms']    =  normalized['norm_bathrooms']\n",
    "df['norm_square_feet']  =  normalized['norm_square_feet']\n",
    "\n",
    "df['stand_bathrooms']   =  standardized['stand_bathrooms']\n",
    "df['stand_square_feet'] =  standardized['stand_square_feet']\n",
    "\n",
    "print \"Bathrooms\"\n",
    "df[['bathrooms', 'norm_bathrooms', 'stand_bathrooms']].head()"
   ]
  },
  {
   "cell_type": "code",
   "execution_count": 13,
   "metadata": {
    "collapsed": false
   },
   "outputs": [
    {
     "name": "stdout",
     "output_type": "stream",
     "text": [
      "Square Feet\n"
     ]
    },
    {
     "data": {
      "text/html": [
       "<div>\n",
       "<table border=\"1\" class=\"dataframe\">\n",
       "  <thead>\n",
       "    <tr style=\"text-align: right;\">\n",
       "      <th></th>\n",
       "      <th>square_feet</th>\n",
       "      <th>norm_square_feet</th>\n",
       "      <th>stand_square_feet</th>\n",
       "    </tr>\n",
       "  </thead>\n",
       "  <tbody>\n",
       "    <tr>\n",
       "      <th>0</th>\n",
       "      <td>1422</td>\n",
       "      <td>0.096764</td>\n",
       "      <td>-1.297812</td>\n",
       "    </tr>\n",
       "    <tr>\n",
       "      <th>1</th>\n",
       "      <td>8958</td>\n",
       "      <td>0.891114</td>\n",
       "      <td>1.412031</td>\n",
       "    </tr>\n",
       "    <tr>\n",
       "      <th>2</th>\n",
       "      <td>9167</td>\n",
       "      <td>0.913144</td>\n",
       "      <td>1.487185</td>\n",
       "    </tr>\n",
       "    <tr>\n",
       "      <th>3</th>\n",
       "      <td>5586</td>\n",
       "      <td>0.535680</td>\n",
       "      <td>0.199506</td>\n",
       "    </tr>\n",
       "    <tr>\n",
       "      <th>4</th>\n",
       "      <td>3602</td>\n",
       "      <td>0.326552</td>\n",
       "      <td>-0.513914</td>\n",
       "    </tr>\n",
       "    <tr>\n",
       "      <th>5</th>\n",
       "      <td>6595</td>\n",
       "      <td>0.642036</td>\n",
       "      <td>0.562329</td>\n",
       "    </tr>\n",
       "    <tr>\n",
       "      <th>6</th>\n",
       "      <td>6591</td>\n",
       "      <td>0.641615</td>\n",
       "      <td>0.560890</td>\n",
       "    </tr>\n",
       "    <tr>\n",
       "      <th>7</th>\n",
       "      <td>982</td>\n",
       "      <td>0.050385</td>\n",
       "      <td>-1.456030</td>\n",
       "    </tr>\n",
       "    <tr>\n",
       "      <th>8</th>\n",
       "      <td>534</td>\n",
       "      <td>0.003162</td>\n",
       "      <td>-1.617125</td>\n",
       "    </tr>\n",
       "    <tr>\n",
       "      <th>9</th>\n",
       "      <td>849</td>\n",
       "      <td>0.036366</td>\n",
       "      <td>-1.503855</td>\n",
       "    </tr>\n",
       "  </tbody>\n",
       "</table>\n",
       "</div>"
      ],
      "text/plain": [
       "   square_feet  norm_square_feet  stand_square_feet\n",
       "0         1422          0.096764          -1.297812\n",
       "1         8958          0.891114           1.412031\n",
       "2         9167          0.913144           1.487185\n",
       "3         5586          0.535680           0.199506\n",
       "4         3602          0.326552          -0.513914\n",
       "5         6595          0.642036           0.562329\n",
       "6         6591          0.641615           0.560890\n",
       "7          982          0.050385          -1.456030\n",
       "8          534          0.003162          -1.617125\n",
       "9          849          0.036366          -1.503855"
      ]
     },
     "execution_count": 13,
     "metadata": {},
     "output_type": "execute_result"
    }
   ],
   "source": [
    "print \"Square Feet\"\n",
    "\n",
    "# df['square_feet'].hist()\n",
    "# df['norm_square_feet'].hist()\n",
    "# df['stand_square_feet'].hist()\n",
    "df[['square_feet', 'norm_square_feet', 'stand_square_feet']].head(10)"
   ]
  },
  {
   "cell_type": "markdown",
   "metadata": {},
   "source": [
    "## Some Guidelines\n",
    "\n",
    "- Standardize when there is a huge variance in values.\n",
    "- Standardize when a single feature can have both a positive and negative effect.\n",
    "- **Consider** normalizing anything that will be used with Euclidean distance.\n",
    "\n",
    "### General Questions\n",
    "- Is the algorithm heavily influenced by different scales of different features?\n",
    "- Do your features share the comparable scales already?\n",
    "- Does your algorithm already normalize your data? _(Linear Discriminant Analysis and Naive Bayes)_\n",
    "  - Does it care? _(ie: decision trees / CART models)_\n",
    "  \n",
    "#### Don't forget to keep your original UNSCALED variables if you care about referencing the original values.  You can omit them from your models.\n",
    "\n",
    "## Feature Scaling\n",
    "\n",
    "1. Fitting your model will be faster on larger datasets.\n",
    "1. Prevents getting stuck in local optima.\n",
    "1. When scales of variables are vastly different.\n",
    "1. When we want small valued features to contribute more equally."
   ]
  },
  {
   "cell_type": "markdown",
   "metadata": {},
   "source": [
    "# Patsy!\n",
    "\n",
    "Yes we learened a lot this week.  Yes Patsy may seem like yet another unecessary step but we it's actually very useful.  We will explore this utility that gives us the power of design matrices in a live coding example.\n",
    "\n",
    ">_patsy is a Python package for describing statistical models (especially linear models, or models that have a linear component) and building design matrices. It is closely inspired by and compatible with the formula mini-language used in R and S._\n",
    "\n",
    "> Check out the docs:  https://patsy.readthedocs.io/en/latest/overview.html\n",
    "\n",
    "Patsy is not just useful for linear models, but anytime you may want to encode or modify your dataset in preprocessing step before modeling."
   ]
  },
  {
   "cell_type": "markdown",
   "metadata": {},
   "source": [
    "### Load Patsy"
   ]
  },
  {
   "cell_type": "code",
   "execution_count": 15,
   "metadata": {
    "collapsed": true
   },
   "outputs": [],
   "source": [
    "import patsy"
   ]
  },
  {
   "cell_type": "markdown",
   "metadata": {},
   "source": [
    "### Create Some Fake Data\n",
    "With 2-3 continious variables, and one categorical."
   ]
  },
  {
   "cell_type": "code",
   "execution_count": 16,
   "metadata": {
    "collapsed": false
   },
   "outputs": [],
   "source": [
    "df = pd.DataFrame()\n",
    "df['size'] = np.random.choice([\"big\", \"med\", \"large\", \"giantic\"], size=500)\n",
    "df['baths'] = np.random.choice(np.arange(1, 4, 0.5), size=500)"
   ]
  },
  {
   "cell_type": "markdown",
   "metadata": {},
   "source": [
    "### Let's look at the design matrix\n",
    "Using a simple formula.  \n",
    "\n",
    "Read more about how to use formulas here:  http://patsy.readthedocs.io/en/latest/formulas.html"
   ]
  },
  {
   "cell_type": "code",
   "execution_count": null,
   "metadata": {
    "collapsed": false
   },
   "outputs": [],
   "source": []
  },
  {
   "cell_type": "markdown",
   "metadata": {},
   "source": [
    "### Load up a linear model\n",
    "Demonstrate the power of the formula and how to quickly switch out our forumula, without having to reslice our data."
   ]
  },
  {
   "cell_type": "code",
   "execution_count": null,
   "metadata": {
    "collapsed": true
   },
   "outputs": [],
   "source": []
  },
  {
   "cell_type": "markdown",
   "metadata": {},
   "source": [
    "### You will have questions.\n",
    "\n",
    "More code will be written..."
   ]
  },
  {
   "cell_type": "code",
   "execution_count": null,
   "metadata": {
    "collapsed": true
   },
   "outputs": [],
   "source": []
  }
 ],
 "metadata": {
  "anaconda-cloud": {},
  "kernelspec": {
   "display_name": "Python [dsi]",
   "language": "python",
   "name": "Python [dsi]"
  },
  "language_info": {
   "codemirror_mode": {
    "name": "ipython",
    "version": 2
   },
   "file_extension": ".py",
   "mimetype": "text/x-python",
   "name": "python",
   "nbconvert_exporter": "python",
   "pygments_lexer": "ipython2",
   "version": "2.7.12"
  }
 },
 "nbformat": 4,
 "nbformat_minor": 0
}
