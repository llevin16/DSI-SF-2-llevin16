{
 "cells": [
  {
   "cell_type": "code",
   "execution_count": 12,
   "metadata": {
    "collapsed": false
   },
   "outputs": [
    {
     "name": "stdout",
     "output_type": "stream",
     "text": [
      "{'tuple': [(5, 23, 55)], 'int': [5, 1, 234, 1, 7], 'float': [23.234, 3.55, 8.01], 'list': [[1, 6, 234, 23.4], [5, 5, 5, 5, 5, 5, 5, 5, 5, 5, 5, 5, 5, 5, 5, 5, 5, 5, 5, 5]], 'dict': [{'steve': 'ballmer'}], 'str': ['Kiefer is actually pretty cool', '', '343434', '5aaaaaa2'], 'bool': [True, False, True], 'NoneType': [None]}\n"
     ]
    }
   ],
   "source": [
    "input_list = [\n",
    "        True, \n",
    "        False,\n",
    "        True,\n",
    "        5, \n",
    "        23.234, \n",
    "        3.55, \n",
    "        \"Kiefer is actually pretty cool\", \n",
    "        {\"steve\": \"ballmer\"}, \n",
    "        (5, 23, 55), \n",
    "        [1,6,234,23.4],\n",
    "        max([1, 0, 1, 1]), \n",
    "        abs(-234), \n",
    "        (5 + 3.01), \n",
    "        \"\",\n",
    "        None,\n",
    "        [5] * 20,\n",
    "        \"343434\",\n",
    "        \"5\" + \"aaaaaa2\",\n",
    "        55 % 3,\n",
    "        5^2\n",
    "    ]\n",
    "\n",
    "output = {}\n",
    "\n",
    "for element in input_list:\n",
    "    if type(element).__name__ in output.keys():\n",
    "        output[type(element).__name__].append(element)\n",
    "    else:\n",
    "        output[type(element).__name__] = [element]\n",
    "        \n",
    "    \n",
    "\n",
    "print output        \n",
    "    \n",
    "    "
   ]
  },
  {
   "cell_type": "code",
   "execution_count": 15,
   "metadata": {
    "collapsed": false
   },
   "outputs": [
    {
     "name": "stdout",
     "output_type": "stream",
     "text": [
      "[False, 23.234, 3.55, 'Kiefer is actually pretty cool', {'steve': 'ballmer'}, (5, 23, 55), [1, 6, 234, 23.4], 234, 8.01, '', None, [5, 5, 5, 5, 5, 5, 5, 5, 5, 5, 5, 5, 5, 5, 5, 5, 5, 5, 5, 5], 7]\n",
      "Filtered out: 7\n"
     ]
    }
   ],
   "source": [
    "example_input = [\n",
    "    True, \n",
    "    False,\n",
    "    True,\n",
    "    5, \n",
    "    23.234, \n",
    "    3.55, \n",
    "    \"Kiefer is actually pretty cool\", \n",
    "    {\"steve\": \"ballmer\"}, \n",
    "    (5, 23, 55), \n",
    "    [1,6,234,23.4],\n",
    "    max([1, 0, 1, 1]), \n",
    "    abs(-234), \n",
    "    (5 + 3.01), \n",
    "    \"\",\n",
    "    None,\n",
    "    [5] * 20,\n",
    "    \"343434\",\n",
    "    \"5\" + \"aaaaaa2\",\n",
    "    55 % 3,\n",
    "    5^2\n",
    "]\n",
    "\n",
    "filter_input = [\n",
    "    True,\n",
    "    5, \n",
    "    1,\n",
    "    \"343434\",\n",
    "    \"5aaaaaa2\"\n",
    "]\n",
    "\n",
    "output = []\n",
    "counter = 0\n",
    "for el in example_input:\n",
    "    if el in filter_input:\n",
    "        counter += 1\n",
    "    else:\n",
    "        output.append(el)\n",
    "\n",
    "print output\n",
    "print \"Filtered out: %s\" % counter"
   ]
  },
  {
   "cell_type": "code",
   "execution_count": 16,
   "metadata": {
    "collapsed": false
   },
   "outputs": [
    {
     "data": {
      "text/plain": [
       "7"
      ]
     },
     "execution_count": 16,
     "metadata": {},
     "output_type": "execute_result"
    }
   ],
   "source": [
    "5^2"
   ]
  },
  {
   "cell_type": "code",
   "execution_count": null,
   "metadata": {
    "collapsed": true
   },
   "outputs": [],
   "source": []
  }
 ],
 "metadata": {
  "kernelspec": {
   "display_name": "Python [dsi]",
   "language": "python",
   "name": "Python [dsi]"
  },
  "language_info": {
   "codemirror_mode": {
    "name": "ipython",
    "version": 2
   },
   "file_extension": ".py",
   "mimetype": "text/x-python",
   "name": "python",
   "nbconvert_exporter": "python",
   "pygments_lexer": "ipython2",
   "version": "2.7.12"
  }
 },
 "nbformat": 4,
 "nbformat_minor": 0
}
