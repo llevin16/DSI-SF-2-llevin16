{
 "cells": [
  {
   "cell_type": "code",
   "execution_count": null,
   "metadata": {
    "collapsed": true
   },
   "outputs": [],
   "source": [
    "# Bonus Code Challenges #3\n",
    "\n",
    "To supplement what is going on in class related to control structures and functions, we've come up with this fun challenge to explore futher practice.  Although we're not specifically covering recursive functions, they can be useful to avoid application complexity when implenting repeating processes that test repeating conditions.  You don't have to use tehm in this exercize, but we strongly suggest you try solve the challenges using recursive methods.  \n",
    "\n",
    "[Recurve Function Review](http://www.python-course.eu/recursive_functions.php)\n",
    "\n",
    "Requirements For these challenges, you will need to have a basic working knowledge of Python and be comfortable with fundamental usage. To get the most out of these exercises you should avoid using libraries (but feel free to use buil-in types ie: zip()) as much as possible and try to construct solutions by hand as much as possible. Also, if solutions are available, try not to peek to get the most out of this. Feel free to search and use resources on the web but try to figure as much of these out with careful thought."
   ]
  },
  {
   "cell_type": "markdown",
   "metadata": {},
   "source": [
    "## Challenge 1 - Guess The Number\n",
    "\n",
    "In this challenge we will be creating one of the oldest, yet arguably exciting, games in the universe: \"Guess The Number\".  In order to provide the game mechanic, we will need to use control structures to facilitate the course of the game which is:\n",
    "\n",
    " 1. Generate random number\n",
    " 2. Ask for user input\n",
    " 3. Compare user input with generated number\n",
    " 4. Check winning conditions\n",
    " 5. Output response \"too high\", \"too low\", or \"You're the winner\"\n",
    " 6. Repeat until user wins\n",
    " \n",
    " \n",
    "**Input**\n",
    "\n",
    "     User prompt for numeric input.\n",
    "     \n",
    "**Output**\n",
    "\n",
    "     \"too high\" if user_input > random_number\n",
    "     \"too low\" if user_input < random_number\n",
    "     \"You're the winner\" if user_input == random_number\n",
    "\n",
    "*** The kernel may hang during testing of this type of app so use \"Kerenel -> Inturrupt\" as needed\n"
   ]
  },
  {
   "cell_type": "code",
   "execution_count": 2,
   "metadata": {
    "collapsed": false
   },
   "outputs": [
    {
     "name": "stdout",
     "output_type": "stream",
     "text": [
      " Are you excited?  It's time to play guess that number!\n",
      "Pick a number between 1-10:  1\n",
      "You entered:   1\n",
      "Too low!\n",
      "Pick a number between 1-10:  3\n",
      "Too low!\n",
      "Pick a number between 1-10:  4\n",
      "Too low!\n",
      "Pick a number between 1-10:  6\n",
      "Too low!\n",
      "Pick a number between 1-10:  7\n",
      "You're the winner!\n"
     ]
    }
   ],
   "source": [
    "# You may enjoy writing your own random number function, but for the sake of time, let's use Python's built-in random module.\n",
    "from random import randint\n",
    "\n",
    "# Here is your random number\n",
    "random_number = randint(1, 10)\n",
    "\n",
    "# Tell the user what they are about to experience\n",
    "print \"Are you excited?  It's time to play guess that number!\"\n",
    "\n",
    "# In a notebook, this will prompt the user to enter a number, and pause execution of the app.\n",
    "# We use int() because anything that comes into\n",
    "def play_guess_that_number(random_number):\n",
    "    \n",
    "    user_number = int(raw_input(\"Pick a number between 1-10:  \"))\n",
    "    print \"You entered:  \", user_number\n",
    "    while user_number != random_number:\n",
    "        if user_number > random_number:\n",
    "            print \"Too high!\"\n",
    "            user_number = int(raw_input(\"Pick a number between 1-10:  \"))\n",
    "        elif user_number < random_number:\n",
    "            print \"Too low!\"\n",
    "            user_number = int(raw_input(\"Pick a number between 1-10:  \"))\n",
    "    print \"You're the winner!\"\n",
    "\n",
    "# We pass \"random_number\" so it can be referenced throughout\n",
    "play_guess_that_number(random_number)\n"
   ]
  },
  {
   "cell_type": "markdown",
   "metadata": {},
   "source": [
    "## Challenge 2 - Guess The Number  _(Enhanced Edition)_\n",
    "\n",
    "Guessing a number is good fun, but why don't we indroduce an element of danger shall we?  Let's give the user only 5 chances to guess!  Also, print the number of chances the user has used after each guess.  Take the previous function you created and modify it for these new features!\n",
    "\n",
    "**Input**\n",
    "\n",
    "     User prompt for numeric input.\n",
    "     \n",
    "**Output**\n",
    "\n",
    "     \"too high\" if user_input > random_number\n",
    "     \"too low\" if user_input < random_number\n",
    "     \"You're the winner\" if user_input == random_number\n",
    "     \"Game Over: Too many guesses!\"\n",
    "\n"
   ]
  },
  {
   "cell_type": "code",
   "execution_count": 20,
   "metadata": {
    "collapsed": false
   },
   "outputs": [
    {
     "name": "stdout",
     "output_type": "stream",
     "text": [
      "Are you excited?  It's time to play guess that number *ENHANCED EDITION*!\n",
      "Pick a number between 1-10:  1\n",
      "You entered:   1\n",
      "Too low!\n",
      "Chances remaining: 3\n",
      "Pick a number between 1-10:  1\n",
      "You entered:   1\n",
      "Too low!\n",
      "Chances remaining: 2\n",
      "Pick a number between 1-10:  1\n",
      "You entered:   1\n",
      "Too low!\n",
      "Chances remaining: 1\n",
      "Pick a number between 1-10:  1\n",
      "Game Over: Too many guesses!\n"
     ]
    }
   ],
   "source": [
    "# Here is your random number\n",
    "random_number = randint(1, 10)\n",
    "\n",
    "# Number of changes to allow\n",
    "chances_remaining = 4\n",
    "\n",
    "# Number of attempts\n",
    "chances_taken = 0\n",
    "\n",
    "# Tell the user what they are about to experience\n",
    "print \"Are you excited?  It's time to play guess that number *ENHANCED EDITION*!\"\n",
    "\n",
    "# In a notebook, this will prompt the user to enter a number, and pause execution of the app.\n",
    "# We use int() because anything that comes into\n",
    "def play_guess_that_number(random_number, chances_remaining, chances_taken):\n",
    "    \n",
    "    # Increment guess attempt each time\n",
    "    chances_taken += 1\n",
    "    \n",
    "    user_number = int(raw_input(\"Pick a number between 1-10:  \"))\n",
    "    for chances_taken in range(1,chances_remaining):\n",
    "        print \"You entered:  \", user_number\n",
    "        if user_number > random_number:\n",
    "            print \"Too high!\"\n",
    "            print \"Chances remaining: \" + str(chances_remaining-chances_taken)\n",
    "            user_number = int(raw_input(\"Pick a number between 1-10:  \"))\n",
    "        elif user_number < random_number:\n",
    "            print \"Too low!\"\n",
    "            print \"Chances remaining: \" + str(chances_remaining-chances_taken)\n",
    "            user_number = int(raw_input(\"Pick a number between 1-10:  \"))\n",
    "        elif user_number == random_number:\n",
    "            print \"You're the winner!\"\n",
    "            break\n",
    "    if chances_taken+1 == chances_remaining:\n",
    "        print \"Game Over: Too many guesses!\"\n",
    "\n",
    "# We pass \"random_number\" so it can be referenced throughout\n",
    "play_guess_that_number(random_number, chances_remaining, chances_taken)"
   ]
  },
  {
   "cell_type": "markdown",
   "metadata": {},
   "source": []
  }
 ],
 "metadata": {
  "kernelspec": {
   "display_name": "Python [dsi]",
   "language": "python",
   "name": "Python [dsi]"
  }
 },
 "nbformat": 4,
 "nbformat_minor": 0
}
