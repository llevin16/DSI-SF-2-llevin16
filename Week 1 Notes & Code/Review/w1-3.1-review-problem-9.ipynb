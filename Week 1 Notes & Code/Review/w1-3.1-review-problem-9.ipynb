{
 "cells": [
  {
   "cell_type": "markdown",
   "metadata": {},
   "source": [
    "### Review problem 9 (expert)\n",
    "\n",
    "For this problem you write a function that takes a multi-tiered dictionary of arbitrary depth. Your function will need to iterate through the dictionary, printing out the contents.\n",
    "\n",
    "Your function should:\n",
    "\n",
    "- Accept the predefined dictionary as an argument.\n",
    "- For each key:value pair, print out the key and the value:\n",
    "    - If the value is also a dictionary, do the same, printing out the key:value pair but with tabs equivalent to the current \"depth\" indicating what level we are on.\n",
    "    - Note: tab in strings is written as ```\\t```\n",
    "    \n",
    "Example:\n",
    "```python\n",
    "'key1' : 'value1'\n",
    "'key2' :\n",
    "    'key3' : 'value3'\n",
    "    'key4' : 'value4'\n",
    "    'key5' :\n",
    "        'key6': 'value6'\n",
    "'key7' : 'value7'\n",
    "```\n"
   ]
  },
  {
   "cell_type": "code",
   "execution_count": 20,
   "metadata": {
    "collapsed": true
   },
   "outputs": [],
   "source": [
    "tiered_dict = {'T1.1':'V1.1', \n",
    "               'T1.2':'V1.2',\n",
    "               'T1.3':{'T2.1':'V2.1',\n",
    "                       'T2.2':['V2.2.1','V2.2.2'],\n",
    "                       'T2.3':{'T3.1':['V3.1.1','V3.1.2'],\n",
    "                               'T3.2':'V3.2',\n",
    "                               'T3.3':'V3.3'}},\n",
    "               'T1.4':{'T2.4':{'T3.4':{'T4.1':'V4.1',\n",
    "                                       'T4.2':'V4.2'},\n",
    "                               'T3.5':{'T4.3':'V4.3'}},\n",
    "                       'T2.5':['V2.3.1','V2.3.2']},\n",
    "               }"
   ]
  },
  {
   "cell_type": "code",
   "execution_count": 149,
   "metadata": {
    "collapsed": false
   },
   "outputs": [],
   "source": [
    "# Write your function here:\n",
    "def multi_dict(dictionary,depth=0): \n",
    "    for key, value in dictionary.items():\n",
    "        if type(value).__name__ == \"dict\":\n",
    "            print key\n",
    "            depth += 1\n",
    "            print \"\\t\"*depth, multi_dict(value,depth)\n",
    "            depth -= 1\n",
    "        else:\n",
    "            print \"\\t\"*depth, key, value\n",
    "            depth -= 1"
   ]
  },
  {
   "cell_type": "code",
   "execution_count": 150,
   "metadata": {
    "collapsed": false
   },
   "outputs": [
    {
     "name": "stdout",
     "output_type": "stream",
     "text": [
      "T1.4\n",
      "\tT2.4\n",
      "\t\tT3.5\n",
      "\t\t\t\t\t\tT4.3 V4.3\n",
      "None\n",
      "T3.4\n",
      "\t\t\t\t\t\tT4.2 V4.2\n",
      "\t\tT4.1 V4.1\n",
      "None\n",
      "None\n",
      "\tT2.5 ['V2.3.1', 'V2.3.2']\n",
      "None\n",
      "T1.3\n",
      "\t\tT2.1 V2.1\n",
      " T2.2 ['V2.2.1', 'V2.2.2']\n",
      "T2.3\n",
      "  T3.1 ['V3.1.1', 'V3.1.2']\n",
      " T3.3 V3.3\n",
      " T3.2 V3.2\n",
      "None\n",
      "None\n",
      " T1.2 V1.2\n",
      " T1.1 V1.1\n"
     ]
    }
   ],
   "source": [
    "multi_dict(tiered_dict)"
   ]
  },
  {
   "cell_type": "code",
   "execution_count": null,
   "metadata": {
    "collapsed": true
   },
   "outputs": [],
   "source": []
  }
 ],
 "metadata": {
  "kernelspec": {
   "display_name": "Python [dsi]",
   "language": "python",
   "name": "Python [dsi]"
  },
  "language_info": {
   "codemirror_mode": {
    "name": "ipython",
    "version": 2
   },
   "file_extension": ".py",
   "mimetype": "text/x-python",
   "name": "python",
   "nbconvert_exporter": "python",
   "pygments_lexer": "ipython2",
   "version": "2.7.12"
  }
 },
 "nbformat": 4,
 "nbformat_minor": 0
}
