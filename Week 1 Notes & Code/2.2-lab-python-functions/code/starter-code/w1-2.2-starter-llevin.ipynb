{
 "cells": [
  {
   "cell_type": "code",
   "execution_count": 4,
   "metadata": {
    "collapsed": false
   },
   "outputs": [
    {
     "name": "stdout",
     "output_type": "stream",
     "text": [
      "4\n"
     ]
    }
   ],
   "source": [
    "# write a function with one argument. Find the area of a square. \n",
    "def areaSquare(side): \n",
    "    return side**2\n",
    "\n",
    "print areaSquare(2)"
   ]
  },
  {
   "cell_type": "code",
   "execution_count": 5,
   "metadata": {
    "collapsed": false
   },
   "outputs": [
    {
     "name": "stdout",
     "output_type": "stream",
     "text": [
      "4\n"
     ]
    }
   ],
   "source": [
    "# write a function with two arguments. Find the area of a rectangle. \n",
    "def areaRect(length,breadth):\n",
    "    return length*breadth\n",
    "\n",
    "print areaRect(2,2)"
   ]
  },
  {
   "cell_type": "code",
   "execution_count": 6,
   "metadata": {
    "collapsed": false
   },
   "outputs": [
    {
     "name": "stdout",
     "output_type": "stream",
     "text": [
      "24\n"
     ]
    }
   ],
   "source": [
    "# write a function with three arguments. Find the surface area of cuboid.\n",
    "def surfaceAreaCuboid(length,breadth,height): \n",
    "    area=2*(length*breadth+breadth*height+length*height)\n",
    "    return area\n",
    "\n",
    "print surfaceAreaCuboid(2,2,2)"
   ]
  },
  {
   "cell_type": "code",
   "execution_count": null,
   "metadata": {
    "collapsed": true
   },
   "outputs": [],
   "source": []
  }
 ],
 "metadata": {
  "kernelspec": {
   "display_name": "Python [dsi]",
   "language": "python",
   "name": "Python [dsi]"
  },
  "language_info": {
   "codemirror_mode": {
    "name": "ipython",
    "version": 2
   },
   "file_extension": ".py",
   "mimetype": "text/x-python",
   "name": "python",
   "nbconvert_exporter": "python",
   "pygments_lexer": "ipython2",
   "version": "2.7.12"
  }
 },
 "nbformat": 4,
 "nbformat_minor": 0
}
