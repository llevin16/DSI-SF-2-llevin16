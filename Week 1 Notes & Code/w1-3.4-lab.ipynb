{
 "cells": [
  {
   "cell_type": "markdown",
   "metadata": {},
   "source": [
    "## Lab 3.4: csvs, functions, numpy, and distributions\n",
    "\n",
    "Run the cell below to load the required packages and set up plotting in the notebook!"
   ]
  },
  {
   "cell_type": "code",
   "execution_count": 2,
   "metadata": {
    "collapsed": true
   },
   "outputs": [],
   "source": [
    "import numpy as np\n",
    "import scipy.stats as stats\n",
    "import csv\n",
    "import seaborn as sns\n",
    "%matplotlib inline"
   ]
  },
  {
   "cell_type": "markdown",
   "metadata": {},
   "source": [
    "### Sales data\n",
    "\n",
    "For this lab we will be using a truncated version of some sales data that we will be looking at further down the line in more detail. \n",
    "\n",
    "The csv has about 200 rows of data and 4 columns. The relative path to the csv ```sales_info.csv``` is provided below. If you copied files over and moved them around, this might be different for you and you will have to figure out the correct relative path to enter."
   ]
  },
  {
   "cell_type": "code",
   "execution_count": 3,
   "metadata": {
    "collapsed": true
   },
   "outputs": [],
   "source": [
    "sales_csv_path = '/home/llevin/Desktop/DSI-SF-2-llevin16/Week 1 Notes & Code/sales.csv'"
   ]
  },
  {
   "cell_type": "markdown",
   "metadata": {},
   "source": [
    "#### 1. Loading the data\n",
    "\n",
    "Set up an empty list called ```rows```.\n",
    "\n",
    "Using the pattern for loading csvs we learned earlier, add all of the rows in the csv file to the rows list.\n",
    "\n",
    "For your reference, the pattern is:\n",
    "```python\n",
    "with open(my_csv_path, 'r') as f:\n",
    "    reader = csv.reader(f)\n",
    "    ...\n",
    "```\n",
    "\n",
    "Beyond this, adding the rows in the csv file to the ```rows``` variable is up to you."
   ]
  },
  {
   "cell_type": "code",
   "execution_count": 4,
   "metadata": {
    "collapsed": false
   },
   "outputs": [],
   "source": [
    "rows = []\n",
    "\n",
    "with open(sales_csv_path, 'r') as f:\n",
    "    reader = csv.reader(f)\n",
    "    for row in reader:\n",
    "        rows.append(row)\n"
   ]
  },
  {
   "cell_type": "markdown",
   "metadata": {},
   "source": [
    "##### 2. Separate header and data\n",
    "\n",
    "The header of the csv is contained in the first index of the ```rows``` variable, as it is the first row in the csv file. \n",
    "\n",
    "Use python indexing to create two new variables: ```header``` which contains the 4 column names, and ```data``` which contains the list of lists, each sub-list representing a row from the csv.\n",
    "\n",
    "Lastly, print ```header``` to see the names of the columns."
   ]
  },
  {
   "cell_type": "code",
   "execution_count": 13,
   "metadata": {
    "collapsed": false
   },
   "outputs": [
    {
     "data": {
      "text/plain": [
       "[['18.4207604861', '93.8022814583', '337166.53', '337804.05'],\n",
       " ['4.77650991918', '21.0824246877', '22351.86', '21736.63']]"
      ]
     },
     "execution_count": 13,
     "metadata": {},
     "output_type": "execute_result"
    }
   ],
   "source": [
    "header = rows[0]\n",
    "data = rows[1:]\n",
    "data[0:2]"
   ]
  },
  {
   "cell_type": "markdown",
   "metadata": {},
   "source": [
    "#### 3. Create a dictionary with the data\n",
    "\n",
    "Use loops or list comprehensions to create a dictionary called ```sales_data```, where the keys of the dictionary are the column names, and the values of the dictionary are lists of the data points of the column corresponding to that column name."
   ]
  },
  {
   "cell_type": "code",
   "execution_count": 71,
   "metadata": {
    "collapsed": false
   },
   "outputs": [],
   "source": [
    "sales_data = {}\n",
    "for index, key in enumerate(header):\n",
    "    sales_data[key] = []\n",
    "    for val in data:\n",
    "        sales_data[key].append(float(val[index]))\n",
    "        \n",
    "        \n",
    "#sales_data = {key:val for key in header for val in data}"
   ]
  },
  {
   "cell_type": "markdown",
   "metadata": {},
   "source": [
    "**3.A** Print out the first 10 items of the 'volume_sold' column."
   ]
  },
  {
   "cell_type": "code",
   "execution_count": 74,
   "metadata": {
    "collapsed": false
   },
   "outputs": [
    {
     "data": {
      "text/plain": [
       "[18.4207604861,\n",
       " 4.77650991918,\n",
       " 16.6024006077,\n",
       " 4.29611149826,\n",
       " 8.15602328201,\n",
       " 5.00512242518,\n",
       " 14.60675,\n",
       " 4.45646649485,\n",
       " 5.04752965097,\n",
       " 5.38807023767]"
      ]
     },
     "execution_count": 74,
     "metadata": {},
     "output_type": "execute_result"
    }
   ],
   "source": [
    "sales_data[\"volume_sold\"][0:10]"
   ]
  },
  {
   "cell_type": "markdown",
   "metadata": {},
   "source": [
    "#### 4. Convert data from string to float\n",
    "\n",
    "As you can see, the data is still in string format (which is how it is read in from the csv). For each key:value pair in our ```sales_data``` dictionary, convert the values (column data) from string values to float values."
   ]
  },
  {
   "cell_type": "code",
   "execution_count": 67,
   "metadata": {
    "collapsed": false
   },
   "outputs": [
    {
     "data": {
      "text/plain": [
       "[93.8022814583,\n",
       " 21.0824246877,\n",
       " 93.6124943024,\n",
       " 16.8247038328,\n",
       " 35.0114570034,\n",
       " 31.8774372328,\n",
       " 76.5189730216,\n",
       " 19.3373453608,\n",
       " 26.142470349,\n",
       " 22.4270237673]"
      ]
     },
     "execution_count": 67,
     "metadata": {},
     "output_type": "execute_result"
    }
   ],
   "source": [
    "# for key in sales_data.keys():\n",
    "#     for val in sales_data.values():\n",
    "#         new_line = []\n",
    "#         for num in val:\n",
    "#             new_line.append(float(num))\n",
    "#     sales_data[key] = new_line\n",
    "    \n",
    "# sales_data[\"2015_margin\"][0:10]"
   ]
  },
  {
   "cell_type": "markdown",
   "metadata": {},
   "source": [
    "#### 5. Write function to print summary statistics\n",
    "\n",
    "Now write a function to print out summary statistics for the data.\n",
    "\n",
    "Your function should:\n",
    "\n",
    "- Accept two arguments: the column name and the data associated with that column\n",
    "- Print out information, clearly labeling each item when you print it:\n",
    "    1. Print out the column name\n",
    "    2. Print the mean of the data using ```np.mean()```\n",
    "    3. Print out the median of the data using ```np.median()```\n",
    "    4. Print out the mode of the **rounded data** using ```stats.mode()```\n",
    "    5. Print out the variance of the data using ```np.var()```\n",
    "    6. Print out the standard deviation of the data using ```np.std()```\n",
    "    \n",
    "Remember that you will need to convert the numeric data from these function to strings by wrapping them in the ```str()``` function."
   ]
  },
  {
   "cell_type": "code",
   "execution_count": 75,
   "metadata": {
    "collapsed": false,
    "scrolled": true
   },
   "outputs": [],
   "source": [
    "def sum_stats(column,data):\n",
    "    print \"Column: \", column\n",
    "    print \"Mean: \", np.mean(data[column])\n",
    "    print \"Median: \", np.median(data[column])\n",
    "    rounded_data = [float(round(val)) for val in data[column]]\n",
    "    print \"Mode: \", float(stats.mode(rounded_data)[0])\n",
    "    print \"Variance: \", np.var(data[column])\n",
    "    print \"St. Dev.: \", np.std(data[column])"
   ]
  },
  {
   "cell_type": "markdown",
   "metadata": {},
   "source": [
    "**5.A** Using your function, print the summary statistics for 'volume_sold'"
   ]
  },
  {
   "cell_type": "code",
   "execution_count": 76,
   "metadata": {
    "collapsed": false
   },
   "outputs": [
    {
     "name": "stdout",
     "output_type": "stream",
     "text": [
      "Column:  volume_sold\n",
      "Mean:  10.018684079\n",
      "Median:  8.16634551564\n",
      "Mode:  8.0\n",
      "Variance:  84.1299652005\n",
      "St. Dev.:  9.1722388325\n"
     ]
    }
   ],
   "source": [
    "sum_stats(\"volume_sold\",sales_data)"
   ]
  },
  {
   "cell_type": "markdown",
   "metadata": {},
   "source": [
    "**5.B** Using your function, print the summary statistics for '2015_margin'"
   ]
  },
  {
   "cell_type": "code",
   "execution_count": 77,
   "metadata": {
    "collapsed": false
   },
   "outputs": [
    {
     "name": "stdout",
     "output_type": "stream",
     "text": [
      "Column:  2015_margin\n",
      "Mean:  46.8588951379\n",
      "Median:  36.5621438181\n",
      "Mode:  35.0\n",
      "Variance:  2016.06166296\n",
      "St. Dev.:  44.9005753077\n"
     ]
    }
   ],
   "source": [
    "sum_stats(\"2015_margin\",sales_data)"
   ]
  },
  {
   "cell_type": "markdown",
   "metadata": {},
   "source": [
    "**5.C** Using your function, print the summary statistics for '2015_q1_sales'"
   ]
  },
  {
   "cell_type": "code",
   "execution_count": 78,
   "metadata": {
    "collapsed": false
   },
   "outputs": [
    {
     "name": "stdout",
     "output_type": "stream",
     "text": [
      "Column:  2015_q1_sales\n",
      "Mean:  154631.6682\n",
      "Median:  104199.41\n",
      "Mode:  4152.0\n",
      "Variance:  47430301462.3\n",
      "St. Dev.:  217784.989066\n"
     ]
    }
   ],
   "source": [
    "sum_stats(\"2015_q1_sales\",sales_data)"
   ]
  },
  {
   "cell_type": "markdown",
   "metadata": {},
   "source": [
    "**5.D** Using your function, print the summary statistics for '2016_q1_sales'"
   ]
  },
  {
   "cell_type": "code",
   "execution_count": 79,
   "metadata": {
    "collapsed": false
   },
   "outputs": [
    {
     "name": "stdout",
     "output_type": "stream",
     "text": [
      "Column:  2016_q1_sales\n",
      "Mean:  154699.17875\n",
      "Median:  103207.2\n",
      "Mode:  3536.0\n",
      "Variance:  47139411653.4\n",
      "St. Dev.:  217116.124812\n"
     ]
    }
   ],
   "source": [
    "sum_stats(\"2016_q1_sales\",sales_data)"
   ]
  },
  {
   "cell_type": "markdown",
   "metadata": {},
   "source": [
    "#### 6. Plot the distributions\n",
    "\n",
    "We've provided a plotting function below called ```distribution_plotter()```. It takes two arguments, the name of the column and the data associated with that column.\n",
    "\n",
    "In individual cells, plot the distributions for each of the 4 columns. Do the data appear skewed? Symmetrical? If skewed, what would be your hypothesis for why?"
   ]
  },
  {
   "cell_type": "code",
   "execution_count": 82,
   "metadata": {
    "collapsed": true
   },
   "outputs": [],
   "source": [
    "def distribution_plotter(column, data):\n",
    "    sns.set(rc={\"figure.figsize\": (10, 7)})\n",
    "    sns.set_style(\"white\")\n",
    "    dist = sns.distplot(data[column], hist_kws={'alpha':0.2}, kde_kws={'linewidth':5})\n",
    "    dist.set_title('Distribution of ' + column + '\\n', fontsize=16)"
   ]
  },
  {
   "cell_type": "code",
   "execution_count": 83,
   "metadata": {
    "collapsed": false
   },
   "outputs": [
    {
     "data": {
      "image/png": "[encoded data removed]",
      "text/plain": [
       "<matplotlib.figure.Figure at 0x7f57580cf1d0>"
      ]
     },
     "metadata": {},
     "output_type": "display_data"
    }
   ],
   "source": [
    "distribution_plotter(\"volume_sold\",sales_data)"
   ]
  },
  {
   "cell_type": "markdown",
   "metadata": {
    "collapsed": false
   },
   "source": [
    "## Prologue to Plotting / Visual Elements\n",
    "\n",
    "Check out this example:\n",
    "\n",
    "```python\n",
    "   1.  sns.set(rc={\"figure.figsize\": (10, 7)})\n",
    "   2.  sns.set_style(\"white\")\n",
    "   3.  dist = sns.distplot(data, hist_kws={'alpha':0.2}, kde_kws={'linewidth':5})\n",
    "   4.  dist.set_title(\"I'm a fairly cool plot!\", fontsize=16)\n",
    "```\n",
    "\n",
    "**1.** With Seaborn (the `sns` object in context), the `sns.set()` method with `{\"figure.figsize\": (10, 7)}` parameter will control the size of the plot based on aspect ratio and scale.<br><br>\n",
    "**2.** Seaborn comes with a variety of styles.  They can be set using `sns.set_style([The style])`.  There are five preset seaborn themes: `darkgrid`, `whitegrid`, `dark`, `white`, and ticks. They are each suited to different applications and personal preferences. The default theme is `darkgrid`. <br><br>\n",
    "**3.** There are plenty of different types of plot types available.  For getting sense of the distribution of your data, `sns.distplot()` is a great choice.  The first paramter `data` is the only required parameter.  The other parameters in our example on line 3, control the visual aesthetics.  You can read more about [controling the visual aesthetics](https://stanford.edu/~mwaskom/software/seaborn/tutorial/aesthetics.html) of Seaborn.\n",
    "<br><br>\n",
    "**4.** Notice on line 3, we've assigned a reference to sns.distplot(), to a variable called `dist`.  In order to control certain visual elements, it's necessary to have a reference to the specific instance that initially references the plotting function. In this case, with the plot refernece to \"distplot\", it's possible to set the title using `.set_title`."
   ]
  },
  {
   "cell_type": "code",
   "execution_count": null,
   "metadata": {
    "collapsed": false
   },
   "outputs": [],
   "source": [
    "# We are going to convert our sales data to a Pandas DataFrame for convenience.\n",
    "# We will go into much more depth about Pandas in the near future\n",
    "\n",
    "# For the rest of the lab, use this `sales_data` object, as if it where a dictionary.\n",
    "# ** A DataFrame is much different than a python dictionary!!! Don't worry about yet! **\n",
    "import pandas as pd\n",
    "\n",
    "sales_data = pd.DataFrame(sales_data)"
   ]
  },
  {
   "cell_type": "markdown",
   "metadata": {
    "collapsed": false
   },
   "source": [
    "### 7. Different Plot Methods\n",
    "\n",
    "Plot some of your variables from our prior dataset (ie: sales_data[KEY_NAME_HERE]) using these plotting methods:\n",
    "\n",
    "- **kdeplot** /w params `shading=True`\n",
    "- **jointplot** /w params `x=\"volume_sold\", y=\"2015_margin\"`\n",
    "- **tsplot** /w params `data=sales_data['2015_q1_sales']`\n",
    "- **pairplot** (pass the entire sales_data as the `data` parameter)"
   ]
  },
  {
   "cell_type": "code",
   "execution_count": null,
   "metadata": {
    "collapsed": false
   },
   "outputs": [],
   "source": []
  },
  {
   "cell_type": "markdown",
   "metadata": {},
   "source": [
    "### 8. Multiple Plots\n",
    "\n",
    "There are times when we would like to plot different distributions in context with each other on the same plot.  By default, using the Seaborn library, when we attempt to call multiple plots, using different datasets, the display with consolitdate to a single figure output.\n",
    "\n",
    "Call multiple `kdeplot` in a single frame, using the keys: ['volume_sold', '2015_margin']\n",
    "\n",
    "** Bonus:  Do it with a loop **\n",
    "\n",
    "_Protip:  It's helpful to change the alpha parameter to less than 1.0 to control the visual transperancy of the layered plots that are displayed, so each of the distributions can be much more differentiated._\n",
    "\n"
   ]
  },
  {
   "cell_type": "code",
   "execution_count": null,
   "metadata": {
    "collapsed": true
   },
   "outputs": [],
   "source": []
  },
  {
   "cell_type": "markdown",
   "metadata": {},
   "source": [
    "### 9. Bonus Challenge:  Explore The Seaborn Gallery\n",
    "\n",
    "Explore the [Seaborn Gallery](https://stanford.edu/~mwaskom/software/seaborn/examples/index.html), and attempt to adapt 2-3 other plot methods using our `sales_data`.  This should give you a little context and familliarity with some of the most common plotting functions in Seaborn.  \n",
    "\n",
    "Beyond this we will be diving into `matplotlib`, `pandas`, and other plotting packages.  The best way to get good at data visualization, is practicing.  Each package has their own nuance and convention, but most of these packages are rooted to matplotlib at a low level so it's possible to use these packages together.  Generally, seaborn and Pandas will get you most of the way there, but then using Matplotlib will help you \"tweek\" the finer aesthetics of the output."
   ]
  },
  {
   "cell_type": "code",
   "execution_count": null,
   "metadata": {
    "collapsed": true
   },
   "outputs": [],
   "source": []
  }
 ],
 "metadata": {
  "anaconda-cloud": {},
  "kernelspec": {
   "display_name": "Python [dsi]",
   "language": "python",
   "name": "Python [dsi]"
  },
  "language_info": {
   "codemirror_mode": {
    "name": "ipython",
    "version": 2
   },
   "file_extension": ".py",
   "mimetype": "text/x-python",
   "name": "python",
   "nbconvert_exporter": "python",
   "pygments_lexer": "ipython2",
   "version": "2.7.12"
  }
 },
 "nbformat": 4,
 "nbformat_minor": 0
}
