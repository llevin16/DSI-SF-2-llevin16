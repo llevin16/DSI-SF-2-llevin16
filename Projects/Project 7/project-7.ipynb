{
 "cells": [
  {
   "cell_type": "markdown",
   "metadata": {},
   "source": [
    "<img src=\"http://imgur.com/1ZcRyrc.png\" style=\"float: left; margin: 15px; height: 80px\">\n",
    "\n",
    "# Project 7\n",
    "\n",
    "## NLP and Machine Learning on [travel.statsexchange.com](http://travel.stackexchange.com/) data\n",
    "\n",
    "---\n",
    "\n",
    "In Project 7 you'll be doing NLP and machine learning on post data from stackexchange's travel subdomain. \n",
    "\n",
    "This project is setup like a mini Kaggle competition. You are given the training data and when projects are submitted your model will be tested on the held-out testing data. There will be prizes for the people who build models that perform best on the held out test set!\n",
    "\n",
    "---\n",
    "\n",
    "## Notes on the data\n",
    "\n",
    "The data is again compressed into the `.7z` file format to save space. There are 6 .csv files and one readme file that contains some information on the fields.\n",
    "\n",
    "    posts_train.csv\n",
    "    comments_train.csv\n",
    "    users.csv\n",
    "    badges.csv\n",
    "    votes_train.csv\n",
    "    tags.csv\n",
    "    readme.txt\n",
    "    \n",
    "The data is located in your datasets folder:\n",
    "\n",
    "    DSI-SF-2/datasets/stack_exchange_travel.7z\n",
    "    \n",
    "If you're interested in where this data came from and where to get more data from other stackexchange subdomains, see here:\n",
    "\n",
    "https://ia800500.us.archive.org/22/items/stackexchange/readme.txt\n",
    "\n",
    "\n",
    "### Recommended Utilities for .7z\n",
    "\n",
    "- For OSX [Keka](http://www.kekaosx.com/en/) or [The Unarchiver](http://wakaba.c3.cx/s/apps/unarchiver.html). \n",
    "- For Windows [7-zip](http://www.7-zip.org/) is the standard. \n",
    "- For Linux try the `p7zip` utility.  `sudo apt-get install p7zip`.\n",
    "\n"
   ]
  },
  {
   "cell_type": "code",
   "execution_count": 1,
   "metadata": {
    "collapsed": false
   },
   "outputs": [],
   "source": [
    "import pandas as pd\n",
    "import numpy as np\n",
    "from bs4 import BeautifulSoup\n",
    "from gensim import corpora, models, matutils\n",
    "from sklearn.feature_extraction.text import CountVectorizer, TfidfVectorizer\n",
    "from sklearn.linear_model import LogisticRegression, Lasso, Ridge\n",
    "from collections import defaultdict\n",
    "from sklearn.feature_extraction import text\n",
    "from sklearn.ensemble import BaggingClassifier, BaggingRegressor\n",
    "from sklearn.cross_validation import cross_val_score, train_test_split"
   ]
  },
  {
   "cell_type": "code",
   "execution_count": 2,
   "metadata": {
    "collapsed": true
   },
   "outputs": [],
   "source": [
    "posts = pd.read_csv('/home/llevin/Desktop/DSI-SF-2-llevin16/Projects/Project 7/Data/stack_exchange_travel/posts_train.csv')\n",
    "comments = pd.read_csv('/home/llevin/Desktop/DSI-SF-2-llevin16/Projects/Project 7/Data/stack_exchange_travel/comments_train.csv')\n",
    "tags = pd.read_csv('/home/llevin/Desktop/DSI-SF-2-llevin16/Projects/Project 7/Data/stack_exchange_travel/tags.csv')"
   ]
  },
  {
   "cell_type": "code",
   "execution_count": 3,
   "metadata": {
    "collapsed": false
   },
   "outputs": [
    {
     "data": {
      "text/html": [
       "<div>\n",
       "<table border=\"1\" class=\"dataframe\">\n",
       "  <thead>\n",
       "    <tr style=\"text-align: right;\">\n",
       "      <th></th>\n",
       "      <th>0</th>\n",
       "      <th>1</th>\n",
       "      <th>2</th>\n",
       "    </tr>\n",
       "  </thead>\n",
       "  <tbody>\n",
       "    <tr>\n",
       "      <th>AcceptedAnswerId</th>\n",
       "      <td>393</td>\n",
       "      <td>NaN</td>\n",
       "      <td>770</td>\n",
       "    </tr>\n",
       "    <tr>\n",
       "      <th>AnswerCount</th>\n",
       "      <td>4</td>\n",
       "      <td>1</td>\n",
       "      <td>5</td>\n",
       "    </tr>\n",
       "    <tr>\n",
       "      <th>Body</th>\n",
       "      <td>&lt;p&gt;My fiancée and I are looking for a good Car...</td>\n",
       "      <td>&lt;p&gt;Singapore Airlines has an all-business clas...</td>\n",
       "      <td>&lt;p&gt;Another definition question that interested...</td>\n",
       "    </tr>\n",
       "    <tr>\n",
       "      <th>ClosedDate</th>\n",
       "      <td>2013-02-25T23:52:47.953</td>\n",
       "      <td>NaN</td>\n",
       "      <td>NaN</td>\n",
       "    </tr>\n",
       "    <tr>\n",
       "      <th>CommentCount</th>\n",
       "      <td>4</td>\n",
       "      <td>1</td>\n",
       "      <td>0</td>\n",
       "    </tr>\n",
       "    <tr>\n",
       "      <th>CommunityOwnedDate</th>\n",
       "      <td>NaN</td>\n",
       "      <td>NaN</td>\n",
       "      <td>NaN</td>\n",
       "    </tr>\n",
       "    <tr>\n",
       "      <th>CreationDate</th>\n",
       "      <td>2011-06-21T20:19:34.730</td>\n",
       "      <td>2011-06-21T20:24:57.160</td>\n",
       "      <td>2011-06-21T20:25:56.787</td>\n",
       "    </tr>\n",
       "    <tr>\n",
       "      <th>FavoriteCount</th>\n",
       "      <td>NaN</td>\n",
       "      <td>NaN</td>\n",
       "      <td>2</td>\n",
       "    </tr>\n",
       "    <tr>\n",
       "      <th>Id</th>\n",
       "      <td>1</td>\n",
       "      <td>4</td>\n",
       "      <td>5</td>\n",
       "    </tr>\n",
       "    <tr>\n",
       "      <th>LastActivityDate</th>\n",
       "      <td>2012-05-24T14:52:14.760</td>\n",
       "      <td>2013-01-09T09:55:22.743</td>\n",
       "      <td>2012-10-12T20:49:08.110</td>\n",
       "    </tr>\n",
       "    <tr>\n",
       "      <th>LastEditDate</th>\n",
       "      <td>2011-12-28T21:36:43.910</td>\n",
       "      <td>2013-01-09T09:55:22.743</td>\n",
       "      <td>2011-12-28T21:36:18.230</td>\n",
       "    </tr>\n",
       "    <tr>\n",
       "      <th>LastEditorDisplayName</th>\n",
       "      <td>NaN</td>\n",
       "      <td>NaN</td>\n",
       "      <td>NaN</td>\n",
       "    </tr>\n",
       "    <tr>\n",
       "      <th>LastEditorUserId</th>\n",
       "      <td>101</td>\n",
       "      <td>693</td>\n",
       "      <td>101</td>\n",
       "    </tr>\n",
       "    <tr>\n",
       "      <th>OwnerDisplayName</th>\n",
       "      <td>NaN</td>\n",
       "      <td>NaN</td>\n",
       "      <td>NaN</td>\n",
       "    </tr>\n",
       "    <tr>\n",
       "      <th>OwnerUserId</th>\n",
       "      <td>9</td>\n",
       "      <td>24</td>\n",
       "      <td>13</td>\n",
       "    </tr>\n",
       "    <tr>\n",
       "      <th>ParentId</th>\n",
       "      <td>NaN</td>\n",
       "      <td>NaN</td>\n",
       "      <td>NaN</td>\n",
       "    </tr>\n",
       "    <tr>\n",
       "      <th>PostTypeId</th>\n",
       "      <td>1</td>\n",
       "      <td>1</td>\n",
       "      <td>1</td>\n",
       "    </tr>\n",
       "    <tr>\n",
       "      <th>Score</th>\n",
       "      <td>8</td>\n",
       "      <td>8</td>\n",
       "      <td>11</td>\n",
       "    </tr>\n",
       "    <tr>\n",
       "      <th>Tags</th>\n",
       "      <td>&lt;caribbean&gt;&lt;cruising&gt;&lt;vacations&gt;</td>\n",
       "      <td>&lt;loyalty-programs&gt;&lt;routes&gt;&lt;ewr&gt;&lt;singapore-airl...</td>\n",
       "      <td>&lt;romania&gt;&lt;transportation&gt;</td>\n",
       "    </tr>\n",
       "    <tr>\n",
       "      <th>Title</th>\n",
       "      <td>What are some Caribbean cruises for October?</td>\n",
       "      <td>Does Singapore Airlines offer any reward seats...</td>\n",
       "      <td>What is the easiest transportation to use thro...</td>\n",
       "    </tr>\n",
       "    <tr>\n",
       "      <th>ViewCount</th>\n",
       "      <td>361</td>\n",
       "      <td>219</td>\n",
       "      <td>340</td>\n",
       "    </tr>\n",
       "  </tbody>\n",
       "</table>\n",
       "</div>"
      ],
      "text/plain": [
       "                                                                       0  \\\n",
       "AcceptedAnswerId                                                     393   \n",
       "AnswerCount                                                            4   \n",
       "Body                   <p>My fiancée and I are looking for a good Car...   \n",
       "ClosedDate                                       2013-02-25T23:52:47.953   \n",
       "CommentCount                                                           4   \n",
       "CommunityOwnedDate                                                   NaN   \n",
       "CreationDate                                     2011-06-21T20:19:34.730   \n",
       "FavoriteCount                                                        NaN   \n",
       "Id                                                                     1   \n",
       "LastActivityDate                                 2012-05-24T14:52:14.760   \n",
       "LastEditDate                                     2011-12-28T21:36:43.910   \n",
       "LastEditorDisplayName                                                NaN   \n",
       "LastEditorUserId                                                     101   \n",
       "OwnerDisplayName                                                     NaN   \n",
       "OwnerUserId                                                            9   \n",
       "ParentId                                                             NaN   \n",
       "PostTypeId                                                             1   \n",
       "Score                                                                  8   \n",
       "Tags                                    <caribbean><cruising><vacations>   \n",
       "Title                       What are some Caribbean cruises for October?   \n",
       "ViewCount                                                            361   \n",
       "\n",
       "                                                                       1  \\\n",
       "AcceptedAnswerId                                                     NaN   \n",
       "AnswerCount                                                            1   \n",
       "Body                   <p>Singapore Airlines has an all-business clas...   \n",
       "ClosedDate                                                           NaN   \n",
       "CommentCount                                                           1   \n",
       "CommunityOwnedDate                                                   NaN   \n",
       "CreationDate                                     2011-06-21T20:24:57.160   \n",
       "FavoriteCount                                                        NaN   \n",
       "Id                                                                     4   \n",
       "LastActivityDate                                 2013-01-09T09:55:22.743   \n",
       "LastEditDate                                     2013-01-09T09:55:22.743   \n",
       "LastEditorDisplayName                                                NaN   \n",
       "LastEditorUserId                                                     693   \n",
       "OwnerDisplayName                                                     NaN   \n",
       "OwnerUserId                                                           24   \n",
       "ParentId                                                             NaN   \n",
       "PostTypeId                                                             1   \n",
       "Score                                                                  8   \n",
       "Tags                   <loyalty-programs><routes><ewr><singapore-airl...   \n",
       "Title                  Does Singapore Airlines offer any reward seats...   \n",
       "ViewCount                                                            219   \n",
       "\n",
       "                                                                       2  \n",
       "AcceptedAnswerId                                                     770  \n",
       "AnswerCount                                                            5  \n",
       "Body                   <p>Another definition question that interested...  \n",
       "ClosedDate                                                           NaN  \n",
       "CommentCount                                                           0  \n",
       "CommunityOwnedDate                                                   NaN  \n",
       "CreationDate                                     2011-06-21T20:25:56.787  \n",
       "FavoriteCount                                                          2  \n",
       "Id                                                                     5  \n",
       "LastActivityDate                                 2012-10-12T20:49:08.110  \n",
       "LastEditDate                                     2011-12-28T21:36:18.230  \n",
       "LastEditorDisplayName                                                NaN  \n",
       "LastEditorUserId                                                     101  \n",
       "OwnerDisplayName                                                     NaN  \n",
       "OwnerUserId                                                           13  \n",
       "ParentId                                                             NaN  \n",
       "PostTypeId                                                             1  \n",
       "Score                                                                 11  \n",
       "Tags                                           <romania><transportation>  \n",
       "Title                  What is the easiest transportation to use thro...  \n",
       "ViewCount                                                            340  "
      ]
     },
     "execution_count": 3,
     "metadata": {},
     "output_type": "execute_result"
    }
   ],
   "source": [
    "posts.head(3).T"
   ]
  },
  {
   "cell_type": "markdown",
   "metadata": {},
   "source": [
    "<img src=\"http://imgur.com/l5NasQj.png\" style=\"float: left; margin: 25px 15px 0px 0px; height: 25px\">\n",
    "\n",
    "### 1. Use LDA to find what topics are discussed on travel.stackexchange.com.\n",
    "\n",
    "---\n",
    "\n",
    "Text can be found in the posts and the comments datasets. The `ParentId` column in the posts dataset indicates what the \"question\" post was for a given post. Comment text can be merged onto the post they are part of with the `PostId` field.\n",
    "\n",
    "The text may have some HTML tags. BeautifulSoup has convenient ways to get rid of markup or extract text if you need to. You can also parse the strings yourself if you like.\n",
    "\n",
    "The tags dataset has the \"tags\" that the users have officially given the post.\n",
    "\n",
    "**1.1 Implement LDA against the text features of the dataset(s).**\n",
    "\n",
    "- This can be posts or a combination of posts and comments if you want more power.\n",
    "- Find optimal **K/num_topics**.\n",
    "\n",
    "**1.2 Compare your topics to the tags. Do the LDA topics make sense? How do they compare to the tags?**\n"
   ]
  },
  {
   "cell_type": "code",
   "execution_count": 4,
   "metadata": {
    "collapsed": false
   },
   "outputs": [
    {
     "name": "stderr",
     "output_type": "stream",
     "text": [
      "/home/llevin/anaconda2/envs/dsi/lib/python2.7/site-packages/ipykernel/__main__.py:2: SettingWithCopyWarning: \n",
      "A value is trying to be set on a copy of a slice from a DataFrame.\n",
      "Try using .loc[row_indexer,col_indexer] = value instead\n",
      "\n",
      "See the caveats in the documentation: http://pandas.pydata.org/pandas-docs/stable/indexing.html#indexing-view-versus-copy\n",
      "  from ipykernel import kernelapp as app\n",
      "/home/llevin/anaconda2/envs/dsi/lib/python2.7/site-packages/ipykernel/__main__.py:3: SettingWithCopyWarning: \n",
      "A value is trying to be set on a copy of a slice from a DataFrame.\n",
      "Try using .loc[row_indexer,col_indexer] = value instead\n",
      "\n",
      "See the caveats in the documentation: http://pandas.pydata.org/pandas-docs/stable/indexing.html#indexing-view-versus-copy\n",
      "  app.launch_new_instance()\n"
     ]
    }
   ],
   "source": [
    "post_lda = posts[['Body','Id','ParentId','Title']]\n",
    "post_lda['Body'] = post_lda['Body'].map(lambda x: BeautifulSoup(str(x),'html.parser').get_text())\n",
    "post_lda['Body'] = post_lda['Body'].map(lambda x: x.replace('\\n',''))"
   ]
  },
  {
   "cell_type": "code",
   "execution_count": 5,
   "metadata": {
    "collapsed": false
   },
   "outputs": [],
   "source": [
    "comments_lda = comments[['PostId','Text']]"
   ]
  },
  {
   "cell_type": "code",
   "execution_count": 6,
   "metadata": {
    "collapsed": false
   },
   "outputs": [],
   "source": [
    "sequence = [post_lda['Body'],post_lda['Title'],comments_lda['Text']]\n",
    "lda = pd.concat(sequence)\n",
    "lda.dropna(inplace=True)"
   ]
  },
  {
   "cell_type": "code",
   "execution_count": 7,
   "metadata": {
    "collapsed": false
   },
   "outputs": [
    {
     "data": {
      "text/plain": [
       "0"
      ]
     },
     "execution_count": 7,
     "metadata": {},
     "output_type": "execute_result"
    }
   ],
   "source": [
    "lda.isnull().sum()"
   ]
  },
  {
   "cell_type": "code",
   "execution_count": 8,
   "metadata": {
    "collapsed": false
   },
   "outputs": [],
   "source": [
    "lda = lda[~lda.map(lambda x: any(i.isdigit() for i in x))]"
   ]
  },
  {
   "cell_type": "code",
   "execution_count": 9,
   "metadata": {
    "collapsed": false
   },
   "outputs": [
    {
     "data": {
      "text/plain": [
       "1        Singapore Airlines has an all-business class f...\n",
       "2        Another definition question that interested me...\n",
       "4        We are considering visiting Argentina for up t...\n",
       "6        I need to travel from Cusco, Peru to La Paz, B...\n",
       "7        I am aware of travel agencies catering to US c...\n",
       "8        My wife and I have decided to move across Euro...\n",
       "9        EURail should be a good place to plan the trip...\n",
       "12       I'm looking for data plans I can use while tou...\n",
       "13       I have heard rumours of such things, and have ...\n",
       "14       When traveling, one of my favorite things to d...\n",
       "15       Possible Duplicate:What are the best ways to a...\n",
       "17       The next time family from overseas comes to vi...\n",
       "18       Round-the-world fares do exist.Most airline al...\n",
       "19       I'm dreaming of visiting remote islands such a...\n",
       "20       Tropical destinations have to be one of the mo...\n",
       "22       This listing should get you started: http://ww...\n",
       "23       Google's your friend. I would definitely searc...\n",
       "24       I don't know about the services these agencies...\n",
       "25       Here are two great communities for discussing ...\n",
       "28       This spring I was in Tallinn, and I heard abou...\n",
       "29       The best advice you can get is from the guy th...\n",
       "30       Ask the locals!Hands down the best way.  The p...\n",
       "31       You don't mention what kind of trips you like,...\n",
       "34       December is summer time in Argentina. So I do ...\n",
       "36         No it isn't - Europe have per country operators\n",
       "37       I am confused about how I go about getting a p...\n",
       "38       Aside from the Disney World, what else is ther...\n",
       "39       Lots. You can see all the attractions at http:...\n",
       "41       There's a Wakepark if you want to go wakeboard...\n",
       "42       While Europe does have per country operators, ...\n",
       "                               ...                        \n",
       "81461    I have seen instances where small bags, purses...\n",
       "81462    I don't know how anybody manage to fit a bag u...\n",
       "81463          Thank you for the extensive answer francis!\n",
       "81464    This question contains so many circumstance-sp...\n",
       "81465    Also, the cooling effect of the evaporation ca...\n",
       "81468    @HenningMakholm Adding a day here and removing...\n",
       "81469    @MichaelHampton, by all means, airports do thi...\n",
       "81470    @Tor, thanks for that info.  (It's not so much...\n",
       "81471    John, you might do well to split this up into ...\n",
       "81472    That being said, if I was Ryanair and I had ki...\n",
       "81473    Anyone who can work WINE TASTING in to this QA...\n",
       "81474    Thank you Gayout and Phog. I will redo them an...\n",
       "81476    Previous travel history does have an impact. F...\n",
       "81478    Although online sites may not show the through...\n",
       "81479    @AndrewLazarus I'm not sure about that. Aer Li...\n",
       "81480    Makes sense. No. this is not the first time ou...\n",
       "81484    In addition, a \"carrier-imposed international ...\n",
       "81486                     Thanks for the edit @Zach_Lipton\n",
       "81489    And how do the big transatlantic ships find ou...\n",
       "81490    First on AA is a big leg up: you get out of th...\n",
       "81491    @Malvolio Please don't answer questions posted...\n",
       "81493             Cannot remember. It was a long time ago.\n",
       "81494    I think this is good advice in the broad gener...\n",
       "81496       Thank you hilmar....WTF.......we will make it!\n",
       "81497    I have kayaked to and back from Alcatraz. Both...\n",
       "81499                                You might. Good luck!\n",
       "81500    I *assume* that the same logic applies to Disn...\n",
       "81501    a trivial look at anything really that contain...\n",
       "81504    @AndrewLazarus, that would make a great questi...\n",
       "81505    There is also the airport \"Vienna\" Bratislava,...\n",
       "dtype: object"
      ]
     },
     "execution_count": 9,
     "metadata": {},
     "output_type": "execute_result"
    }
   ],
   "source": [
    "lda"
   ]
  },
  {
   "cell_type": "code",
   "execution_count": 10,
   "metadata": {
    "collapsed": false
   },
   "outputs": [
    {
     "data": {
      "text/plain": [
       "332"
      ]
     },
     "execution_count": 10,
     "metadata": {},
     "output_type": "execute_result"
    }
   ],
   "source": [
    "stop_words = text.ENGLISH_STOP_WORDS.union(['http','www','don','ve','com','yeah','just','like','think','en','org',\n",
    "                                           'https','wiki','phoog'])\n",
    "len(stop_words)"
   ]
  },
  {
   "cell_type": "code",
   "execution_count": 11,
   "metadata": {
    "collapsed": false
   },
   "outputs": [],
   "source": [
    "vectorizer = CountVectorizer(stop_words=stop_words)\n",
    "X = vectorizer.fit_transform(lda)"
   ]
  },
  {
   "cell_type": "code",
   "execution_count": 12,
   "metadata": {
    "collapsed": false
   },
   "outputs": [],
   "source": [
    "vocab = {v: k for k, v in vectorizer.vocabulary_.iteritems()}\n",
    "#vocab"
   ]
  },
  {
   "cell_type": "code",
   "execution_count": 13,
   "metadata": {
    "collapsed": false
   },
   "outputs": [],
   "source": [
    "lda_model = models.LdaModel(\n",
    "    matutils.Sparse2Corpus(X, documents_columns=False),\n",
    "    num_topics  =  8,\n",
    "    passes      =  10,\n",
    "    id2word     =  vocab\n",
    ")"
   ]
  },
  {
   "cell_type": "code",
   "execution_count": 14,
   "metadata": {
    "collapsed": false
   },
   "outputs": [
    {
     "data": {
      "text/plain": [
       "[(0,\n",
       "  u'0.038*visa + 0.021*passport + 0.017*uk + 0.016*country + 0.013*need + 0.011*schengen'),\n",
       " (1,\n",
       "  u'0.016*luggage + 0.010*security + 0.010*bag + 0.010*water + 0.008*baggage + 0.008*carry'),\n",
       " (2,\n",
       "  u'0.023*time + 0.014*day + 0.014*flight + 0.013*airport + 0.010*train + 0.009*going'),\n",
       " (3,\n",
       "  u'0.013*people + 0.010*op + 0.009*know + 0.007*say + 0.006*make + 0.005*airline'),\n",
       " (4,\n",
       "  u'0.029*car + 0.011*drive + 0.010*driving + 0.009*road + 0.009*voting + 0.009*wikipedia'),\n",
       " (5,\n",
       "  u'0.008*good + 0.008*people + 0.008*english + 0.008*know + 0.007*travel + 0.006*hotel'),\n",
       " (6,\n",
       "  u'0.023*ticket + 0.016*card + 0.013*tickets + 0.012*pay + 0.011*use + 0.010*buy'),\n",
       " (7,\n",
       "  u'0.056*question + 0.046*answer + 0.022*thanks + 0.012*travel + 0.010*information + 0.010*questions')]"
      ]
     },
     "execution_count": 14,
     "metadata": {},
     "output_type": "execute_result"
    }
   ],
   "source": [
    "lda_model.print_topics(num_words=6)"
   ]
  },
  {
   "cell_type": "markdown",
   "metadata": {},
   "source": [
    "<img src=\"http://imgur.com/l5NasQj.png\" style=\"float: left; margin: 25px 15px 0px 0px; height: 25px\">\n",
    "\n",
    "### 2. What makes an answer likely to be \"accepted\"?\n",
    "\n",
    "---\n",
    "\n",
    "**2.1 Build a model to predict whether a post will be marked as the answer.**\n",
    "\n",
    "- This is a classification problem.\n",
    "- You're free to use any of the machine learning algorithms or techniques we have learned in class to build the best model you can.\n",
    "- NLP will be very useful here for pulling out useful and relevant features from the data. \n",
    "- Though not required, using bagging and boosting models like Random Forests and Gradient Boosted Trees will _probably_ get you the highest performance on the test data (but who knows!).\n",
    "\n",
    "\n",
    "**2.2 Evaluate the performance of your classifier with a confusion matrix and accuracy. Explain how your model is performing.**\n",
    "\n",
    "**2.3 Plot either a ROC curve or precision-recall curve (or both!) and explain what they tell you about your model.**\n",
    "\n",
    "NOTE: You should only be predicting this for `PostTypeID=2` posts, which are the \"answer\" posts. This doesn't mean, however, that you can't or shouldn't use the parent questions as predictors!\n"
   ]
  },
  {
   "cell_type": "code",
   "execution_count": 15,
   "metadata": {
    "collapsed": false
   },
   "outputs": [],
   "source": [
    "answers = posts[posts['PostTypeId']==2]\n",
    "questions = posts[posts['PostTypeId']==1]"
   ]
  },
  {
   "cell_type": "code",
   "execution_count": 16,
   "metadata": {
    "collapsed": false
   },
   "outputs": [
    {
     "data": {
      "text/plain": [
       "23967"
      ]
     },
     "execution_count": 16,
     "metadata": {},
     "output_type": "execute_result"
    }
   ],
   "source": [
    "len(answers)"
   ]
  },
  {
   "cell_type": "code",
   "execution_count": 17,
   "metadata": {
    "collapsed": false
   },
   "outputs": [
    {
     "data": {
      "text/plain": [
       "AcceptedAnswerId         23967\n",
       "AnswerCount              23967\n",
       "Body                         0\n",
       "ClosedDate               23967\n",
       "CommentCount                 0\n",
       "CommunityOwnedDate       23818\n",
       "CreationDate                 0\n",
       "FavoriteCount            23967\n",
       "Id                           0\n",
       "LastActivityDate             0\n",
       "LastEditDate             15015\n",
       "LastEditorDisplayName    23650\n",
       "LastEditorUserId         15089\n",
       "OwnerDisplayName         23262\n",
       "OwnerUserId                403\n",
       "ParentId                     0\n",
       "PostTypeId                   0\n",
       "Score                        0\n",
       "Tags                     23967\n",
       "Title                    23967\n",
       "ViewCount                23967\n",
       "dtype: int64"
      ]
     },
     "execution_count": 17,
     "metadata": {},
     "output_type": "execute_result"
    }
   ],
   "source": [
    "answers.isnull().sum()"
   ]
  },
  {
   "cell_type": "code",
   "execution_count": 18,
   "metadata": {
    "collapsed": true
   },
   "outputs": [],
   "source": [
    "answers = answers[['Body','CommentCount','CreationDate','Id','LastActivityDate','OwnerUserId','ParentId','PostTypeId',\n",
    "                  'Score']]"
   ]
  },
  {
   "cell_type": "code",
   "execution_count": 19,
   "metadata": {
    "collapsed": false
   },
   "outputs": [
    {
     "data": {
      "text/plain": [
       "13988"
      ]
     },
     "execution_count": 19,
     "metadata": {},
     "output_type": "execute_result"
    }
   ],
   "source": [
    "len(questions)"
   ]
  },
  {
   "cell_type": "code",
   "execution_count": 20,
   "metadata": {
    "collapsed": false
   },
   "outputs": [
    {
     "data": {
      "text/plain": [
       "AcceptedAnswerId          7472\n",
       "AnswerCount                  0\n",
       "Body                         0\n",
       "ClosedDate               11361\n",
       "CommentCount                 0\n",
       "CommunityOwnedDate       13975\n",
       "CreationDate                 0\n",
       "FavoriteCount            10466\n",
       "Id                           0\n",
       "LastActivityDate             0\n",
       "LastEditDate              2911\n",
       "LastEditorDisplayName    13621\n",
       "LastEditorUserId          3231\n",
       "OwnerDisplayName         13613\n",
       "OwnerUserId                307\n",
       "ParentId                 13988\n",
       "PostTypeId                   0\n",
       "Score                        0\n",
       "Tags                         0\n",
       "Title                        0\n",
       "ViewCount                    0\n",
       "dtype: int64"
      ]
     },
     "execution_count": 20,
     "metadata": {},
     "output_type": "execute_result"
    }
   ],
   "source": [
    "questions.isnull().sum()"
   ]
  },
  {
   "cell_type": "code",
   "execution_count": 21,
   "metadata": {
    "collapsed": true
   },
   "outputs": [],
   "source": [
    "questions = questions[['AcceptedAnswerId','AnswerCount','Body','CommentCount','CreationDate','Id','LastActivityDate',\n",
    "                      'LastEditDate','LastEditorUserId','OwnerUserId','PostTypeId','Score','Tags','Title','ViewCount']]"
   ]
  },
  {
   "cell_type": "code",
   "execution_count": 22,
   "metadata": {
    "collapsed": false
   },
   "outputs": [],
   "source": [
    "merged_posts = questions.merge(answers,how='inner',left_on='Id',right_on='ParentId')"
   ]
  },
  {
   "cell_type": "code",
   "execution_count": 23,
   "metadata": {
    "collapsed": false
   },
   "outputs": [],
   "source": [
    "merged_posts.rename(columns={'Body_x':'question_body','CommentCount_x':'question_comment_count','Score_x':'question_score',\n",
    "                            'Body_y':'answer_body','CommentCount_y':'answer_comment_count','Score_y':'answer_score'},\n",
    "                   inplace=True)"
   ]
  },
  {
   "cell_type": "code",
   "execution_count": 24,
   "metadata": {
    "collapsed": true
   },
   "outputs": [],
   "source": [
    "merged_posts['CreationDate_y'] = pd.to_datetime(merged_posts['CreationDate_y'])\n",
    "merged_posts['CreationDate_x'] = pd.to_datetime(merged_posts['CreationDate_x'])"
   ]
  },
  {
   "cell_type": "code",
   "execution_count": 25,
   "metadata": {
    "collapsed": false
   },
   "outputs": [],
   "source": [
    "merged_posts['answer_time'] = merged_posts['CreationDate_y']-merged_posts['CreationDate_x']\n",
    "merged_posts['answer_time'] = (merged_posts['answer_time']/np.timedelta64(1,'D')).astype(float)"
   ]
  },
  {
   "cell_type": "code",
   "execution_count": 26,
   "metadata": {
    "collapsed": true
   },
   "outputs": [],
   "source": [
    "merged_posts['target'] = merged_posts['AcceptedAnswerId'] - merged_posts['Id_y']\n",
    "merged_posts['target'] = merged_posts['target'].map(lambda x: 1 if x==0 else 0)"
   ]
  },
  {
   "cell_type": "code",
   "execution_count": 27,
   "metadata": {
    "collapsed": false
   },
   "outputs": [],
   "source": [
    "merged_posts['last_editor'] = merged_posts['LastEditorUserId']-merged_posts['OwnerUserId_y']\n",
    "merged_posts['last_editor'] = merged_posts['last_editor'].map(lambda x: 1 if x==0 else 0)"
   ]
  },
  {
   "cell_type": "code",
   "execution_count": 28,
   "metadata": {
    "collapsed": false
   },
   "outputs": [
    {
     "name": "stdout",
     "output_type": "stream",
     "text": [
      "<class 'pandas.core.frame.DataFrame'>\n",
      "Int64Index: 23967 entries, 0 to 23966\n",
      "Data columns (total 27 columns):\n",
      "AcceptedAnswerId          13700 non-null float64\n",
      "AnswerCount               23967 non-null float64\n",
      "question_body             23967 non-null object\n",
      "question_comment_count    23967 non-null int64\n",
      "CreationDate_x            23967 non-null datetime64[ns]\n",
      "Id_x                      23967 non-null int64\n",
      "LastActivityDate_x        23967 non-null object\n",
      "LastEditDate              19729 non-null object\n",
      "LastEditorUserId          18965 non-null float64\n",
      "OwnerUserId_x             23242 non-null float64\n",
      "PostTypeId_x              23967 non-null int64\n",
      "question_score            23967 non-null int64\n",
      "Tags                      23967 non-null object\n",
      "Title                     23967 non-null object\n",
      "ViewCount                 23967 non-null float64\n",
      "answer_body               23967 non-null object\n",
      "answer_comment_count      23967 non-null int64\n",
      "CreationDate_y            23967 non-null datetime64[ns]\n",
      "Id_y                      23967 non-null int64\n",
      "LastActivityDate_y        23967 non-null object\n",
      "OwnerUserId_y             23564 non-null float64\n",
      "ParentId                  23967 non-null float64\n",
      "PostTypeId_y              23967 non-null int64\n",
      "answer_score              23967 non-null int64\n",
      "answer_time               23967 non-null float64\n",
      "target                    23967 non-null int64\n",
      "last_editor               23967 non-null int64\n",
      "dtypes: datetime64[ns](2), float64(8), int64(10), object(7)\n",
      "memory usage: 5.1+ MB\n"
     ]
    }
   ],
   "source": [
    "merged_posts.info()"
   ]
  },
  {
   "cell_type": "code",
   "execution_count": 29,
   "metadata": {
    "collapsed": false
   },
   "outputs": [],
   "source": [
    "merged_posts['Text'] = merged_posts['question_body']+merged_posts['Tags']+merged_posts['answer_body']+merged_posts['Title']\n",
    "merged_posts['Text'] = merged_posts['Text'].map(lambda x: BeautifulSoup(str(x),'html.parser').get_text())\n",
    "merged_posts['Text'] = merged_posts['Text'].map(lambda x: x.replace('\\n',''))"
   ]
  },
  {
   "cell_type": "code",
   "execution_count": 30,
   "metadata": {
    "collapsed": false
   },
   "outputs": [
    {
     "data": {
      "text/html": [
       "<div>\n",
       "<table border=\"1\" class=\"dataframe\">\n",
       "  <thead>\n",
       "    <tr style=\"text-align: right;\">\n",
       "      <th></th>\n",
       "      <th>0</th>\n",
       "      <th>1</th>\n",
       "      <th>2</th>\n",
       "    </tr>\n",
       "  </thead>\n",
       "  <tbody>\n",
       "    <tr>\n",
       "      <th>AcceptedAnswerId</th>\n",
       "      <td>393</td>\n",
       "      <td>393</td>\n",
       "      <td>393</td>\n",
       "    </tr>\n",
       "    <tr>\n",
       "      <th>AnswerCount</th>\n",
       "      <td>4</td>\n",
       "      <td>4</td>\n",
       "      <td>4</td>\n",
       "    </tr>\n",
       "    <tr>\n",
       "      <th>question_body</th>\n",
       "      <td>&lt;p&gt;My fiancée and I are looking for a good Car...</td>\n",
       "      <td>&lt;p&gt;My fiancée and I are looking for a good Car...</td>\n",
       "      <td>&lt;p&gt;My fiancée and I are looking for a good Car...</td>\n",
       "    </tr>\n",
       "    <tr>\n",
       "      <th>question_comment_count</th>\n",
       "      <td>4</td>\n",
       "      <td>4</td>\n",
       "      <td>4</td>\n",
       "    </tr>\n",
       "    <tr>\n",
       "      <th>CreationDate_x</th>\n",
       "      <td>2011-06-21 20:19:34.730000</td>\n",
       "      <td>2011-06-21 20:19:34.730000</td>\n",
       "      <td>2011-06-21 20:19:34.730000</td>\n",
       "    </tr>\n",
       "    <tr>\n",
       "      <th>Id_x</th>\n",
       "      <td>1</td>\n",
       "      <td>1</td>\n",
       "      <td>1</td>\n",
       "    </tr>\n",
       "    <tr>\n",
       "      <th>LastActivityDate_x</th>\n",
       "      <td>2012-05-24T14:52:14.760</td>\n",
       "      <td>2012-05-24T14:52:14.760</td>\n",
       "      <td>2012-05-24T14:52:14.760</td>\n",
       "    </tr>\n",
       "    <tr>\n",
       "      <th>LastEditDate</th>\n",
       "      <td>2011-12-28T21:36:43.910</td>\n",
       "      <td>2011-12-28T21:36:43.910</td>\n",
       "      <td>2011-12-28T21:36:43.910</td>\n",
       "    </tr>\n",
       "    <tr>\n",
       "      <th>LastEditorUserId</th>\n",
       "      <td>101</td>\n",
       "      <td>101</td>\n",
       "      <td>101</td>\n",
       "    </tr>\n",
       "    <tr>\n",
       "      <th>OwnerUserId_x</th>\n",
       "      <td>9</td>\n",
       "      <td>9</td>\n",
       "      <td>9</td>\n",
       "    </tr>\n",
       "    <tr>\n",
       "      <th>PostTypeId_x</th>\n",
       "      <td>1</td>\n",
       "      <td>1</td>\n",
       "      <td>1</td>\n",
       "    </tr>\n",
       "    <tr>\n",
       "      <th>question_score</th>\n",
       "      <td>8</td>\n",
       "      <td>8</td>\n",
       "      <td>8</td>\n",
       "    </tr>\n",
       "    <tr>\n",
       "      <th>Tags</th>\n",
       "      <td>&lt;caribbean&gt;&lt;cruising&gt;&lt;vacations&gt;</td>\n",
       "      <td>&lt;caribbean&gt;&lt;cruising&gt;&lt;vacations&gt;</td>\n",
       "      <td>&lt;caribbean&gt;&lt;cruising&gt;&lt;vacations&gt;</td>\n",
       "    </tr>\n",
       "    <tr>\n",
       "      <th>Title</th>\n",
       "      <td>What are some Caribbean cruises for October?</td>\n",
       "      <td>What are some Caribbean cruises for October?</td>\n",
       "      <td>What are some Caribbean cruises for October?</td>\n",
       "    </tr>\n",
       "    <tr>\n",
       "      <th>ViewCount</th>\n",
       "      <td>361</td>\n",
       "      <td>361</td>\n",
       "      <td>361</td>\n",
       "    </tr>\n",
       "    <tr>\n",
       "      <th>answer_body</th>\n",
       "      <td>&lt;p&gt;This is less than an answer, but more than ...</td>\n",
       "      <td>&lt;p&gt;Friends I am staying with are travelling wi...</td>\n",
       "      <td>&lt;p&gt;The Princess Cruise Line has a Caribbean cr...</td>\n",
       "    </tr>\n",
       "    <tr>\n",
       "      <th>answer_comment_count</th>\n",
       "      <td>1</td>\n",
       "      <td>0</td>\n",
       "      <td>0</td>\n",
       "    </tr>\n",
       "    <tr>\n",
       "      <th>CreationDate_y</th>\n",
       "      <td>2011-06-24 05:12:01.133000</td>\n",
       "      <td>2011-08-27 00:09:51.023000</td>\n",
       "      <td>2011-09-11 15:09:51.957000</td>\n",
       "    </tr>\n",
       "    <tr>\n",
       "      <th>Id_y</th>\n",
       "      <td>393</td>\n",
       "      <td>1787</td>\n",
       "      <td>2022</td>\n",
       "    </tr>\n",
       "    <tr>\n",
       "      <th>LastActivityDate_y</th>\n",
       "      <td>2011-06-24T05:12:01.133</td>\n",
       "      <td>2011-09-11T19:33:52.137</td>\n",
       "      <td>2011-09-11T15:09:51.957</td>\n",
       "    </tr>\n",
       "    <tr>\n",
       "      <th>OwnerUserId_y</th>\n",
       "      <td>74</td>\n",
       "      <td>101</td>\n",
       "      <td>788</td>\n",
       "    </tr>\n",
       "    <tr>\n",
       "      <th>ParentId</th>\n",
       "      <td>1</td>\n",
       "      <td>1</td>\n",
       "      <td>1</td>\n",
       "    </tr>\n",
       "    <tr>\n",
       "      <th>PostTypeId_y</th>\n",
       "      <td>2</td>\n",
       "      <td>2</td>\n",
       "      <td>2</td>\n",
       "    </tr>\n",
       "    <tr>\n",
       "      <th>answer_score</th>\n",
       "      <td>7</td>\n",
       "      <td>2</td>\n",
       "      <td>3</td>\n",
       "    </tr>\n",
       "    <tr>\n",
       "      <th>answer_time</th>\n",
       "      <td>2.36975</td>\n",
       "      <td>66.1599</td>\n",
       "      <td>81.7849</td>\n",
       "    </tr>\n",
       "    <tr>\n",
       "      <th>target</th>\n",
       "      <td>1</td>\n",
       "      <td>0</td>\n",
       "      <td>0</td>\n",
       "    </tr>\n",
       "    <tr>\n",
       "      <th>last_editor</th>\n",
       "      <td>0</td>\n",
       "      <td>1</td>\n",
       "      <td>0</td>\n",
       "    </tr>\n",
       "    <tr>\n",
       "      <th>Text</th>\n",
       "      <td>My fiancée and I are looking for a good Caribb...</td>\n",
       "      <td>My fiancée and I are looking for a good Caribb...</td>\n",
       "      <td>My fiancée and I are looking for a good Caribb...</td>\n",
       "    </tr>\n",
       "  </tbody>\n",
       "</table>\n",
       "</div>"
      ],
      "text/plain": [
       "                                                                        0  \\\n",
       "AcceptedAnswerId                                                      393   \n",
       "AnswerCount                                                             4   \n",
       "question_body           <p>My fiancée and I are looking for a good Car...   \n",
       "question_comment_count                                                  4   \n",
       "CreationDate_x                                 2011-06-21 20:19:34.730000   \n",
       "Id_x                                                                    1   \n",
       "LastActivityDate_x                                2012-05-24T14:52:14.760   \n",
       "LastEditDate                                      2011-12-28T21:36:43.910   \n",
       "LastEditorUserId                                                      101   \n",
       "OwnerUserId_x                                                           9   \n",
       "PostTypeId_x                                                            1   \n",
       "question_score                                                          8   \n",
       "Tags                                     <caribbean><cruising><vacations>   \n",
       "Title                        What are some Caribbean cruises for October?   \n",
       "ViewCount                                                             361   \n",
       "answer_body             <p>This is less than an answer, but more than ...   \n",
       "answer_comment_count                                                    1   \n",
       "CreationDate_y                                 2011-06-24 05:12:01.133000   \n",
       "Id_y                                                                  393   \n",
       "LastActivityDate_y                                2011-06-24T05:12:01.133   \n",
       "OwnerUserId_y                                                          74   \n",
       "ParentId                                                                1   \n",
       "PostTypeId_y                                                            2   \n",
       "answer_score                                                            7   \n",
       "answer_time                                                       2.36975   \n",
       "target                                                                  1   \n",
       "last_editor                                                             0   \n",
       "Text                    My fiancée and I are looking for a good Caribb...   \n",
       "\n",
       "                                                                        1  \\\n",
       "AcceptedAnswerId                                                      393   \n",
       "AnswerCount                                                             4   \n",
       "question_body           <p>My fiancée and I are looking for a good Car...   \n",
       "question_comment_count                                                  4   \n",
       "CreationDate_x                                 2011-06-21 20:19:34.730000   \n",
       "Id_x                                                                    1   \n",
       "LastActivityDate_x                                2012-05-24T14:52:14.760   \n",
       "LastEditDate                                      2011-12-28T21:36:43.910   \n",
       "LastEditorUserId                                                      101   \n",
       "OwnerUserId_x                                                           9   \n",
       "PostTypeId_x                                                            1   \n",
       "question_score                                                          8   \n",
       "Tags                                     <caribbean><cruising><vacations>   \n",
       "Title                        What are some Caribbean cruises for October?   \n",
       "ViewCount                                                             361   \n",
       "answer_body             <p>Friends I am staying with are travelling wi...   \n",
       "answer_comment_count                                                    0   \n",
       "CreationDate_y                                 2011-08-27 00:09:51.023000   \n",
       "Id_y                                                                 1787   \n",
       "LastActivityDate_y                                2011-09-11T19:33:52.137   \n",
       "OwnerUserId_y                                                         101   \n",
       "ParentId                                                                1   \n",
       "PostTypeId_y                                                            2   \n",
       "answer_score                                                            2   \n",
       "answer_time                                                       66.1599   \n",
       "target                                                                  0   \n",
       "last_editor                                                             1   \n",
       "Text                    My fiancée and I are looking for a good Caribb...   \n",
       "\n",
       "                                                                        2  \n",
       "AcceptedAnswerId                                                      393  \n",
       "AnswerCount                                                             4  \n",
       "question_body           <p>My fiancée and I are looking for a good Car...  \n",
       "question_comment_count                                                  4  \n",
       "CreationDate_x                                 2011-06-21 20:19:34.730000  \n",
       "Id_x                                                                    1  \n",
       "LastActivityDate_x                                2012-05-24T14:52:14.760  \n",
       "LastEditDate                                      2011-12-28T21:36:43.910  \n",
       "LastEditorUserId                                                      101  \n",
       "OwnerUserId_x                                                           9  \n",
       "PostTypeId_x                                                            1  \n",
       "question_score                                                          8  \n",
       "Tags                                     <caribbean><cruising><vacations>  \n",
       "Title                        What are some Caribbean cruises for October?  \n",
       "ViewCount                                                             361  \n",
       "answer_body             <p>The Princess Cruise Line has a Caribbean cr...  \n",
       "answer_comment_count                                                    0  \n",
       "CreationDate_y                                 2011-09-11 15:09:51.957000  \n",
       "Id_y                                                                 2022  \n",
       "LastActivityDate_y                                2011-09-11T15:09:51.957  \n",
       "OwnerUserId_y                                                         788  \n",
       "ParentId                                                                1  \n",
       "PostTypeId_y                                                            2  \n",
       "answer_score                                                            3  \n",
       "answer_time                                                       81.7849  \n",
       "target                                                                  0  \n",
       "last_editor                                                             0  \n",
       "Text                    My fiancée and I are looking for a good Caribb...  "
      ]
     },
     "execution_count": 30,
     "metadata": {},
     "output_type": "execute_result"
    }
   ],
   "source": [
    "merged_posts.head(3).T"
   ]
  },
  {
   "cell_type": "code",
   "execution_count": 31,
   "metadata": {
    "collapsed": false
   },
   "outputs": [],
   "source": [
    "vectorizer = CountVectorizer(stop_words=stop_words,max_df=.9,min_df=.05)\n",
    "t_vectorizer = TfidfVectorizer(max_features=100, stop_words=stop_words,max_df=.9,min_df=.05)\n",
    "X = vectorizer.fit_transform(merged_posts['Text'])\n",
    "X_t = t_vectorizer.fit_transform(merged_posts['Text'])\n",
    "# docs = pd.DataFrame(X.toarray(), columns=vectorizer.get_feature_names())\n",
    "docs = pd.DataFrame(X_t.toarray(), columns=t_vectorizer.get_feature_names())\n",
    "# X_t = t_vectorizer.fit_transform(merged_posts['Text'])"
   ]
  },
  {
   "cell_type": "code",
   "execution_count": 32,
   "metadata": {
    "collapsed": false
   },
   "outputs": [],
   "source": [
    "# docs2 = pd.DataFrame(X_t.toarray(), columns=t_vectorizer.get_feature_names())\n",
    "# print docs2.shape\n",
    "# merged_posts.shape"
   ]
  },
  {
   "cell_type": "code",
   "execution_count": 33,
   "metadata": {
    "collapsed": true
   },
   "outputs": [],
   "source": [
    "qa_final = merged_posts[['AnswerCount','question_comment_count','question_score','ViewCount','answer_comment_count',\n",
    "                            'answer_score','answer_time','target','last_editor']]"
   ]
  },
  {
   "cell_type": "code",
   "execution_count": 34,
   "metadata": {
    "collapsed": false
   },
   "outputs": [
    {
     "name": "stderr",
     "output_type": "stream",
     "text": [
      "/home/llevin/anaconda2/envs/dsi/lib/python2.7/site-packages/pandas/core/frame.py:2378: SettingWithCopyWarning: \n",
      "A value is trying to be set on a copy of a slice from a DataFrame.\n",
      "Try using .loc[row_indexer,col_indexer] = value instead\n",
      "\n",
      "See the caveats in the documentation: http://pandas.pydata.org/pandas-docs/stable/indexing.html#indexing-view-versus-copy\n",
      "  self[k1] = value[k2]\n"
     ]
    }
   ],
   "source": [
    "qa_final[[col for col in docs.columns]] = docs[[col for col in docs.columns]]"
   ]
  },
  {
   "cell_type": "code",
   "execution_count": 35,
   "metadata": {
    "collapsed": false
   },
   "outputs": [
    {
     "data": {
      "text/html": [
       "<div>\n",
       "<table border=\"1\" class=\"dataframe\">\n",
       "  <thead>\n",
       "    <tr style=\"text-align: right;\">\n",
       "      <th></th>\n",
       "      <th>0</th>\n",
       "      <th>1</th>\n",
       "      <th>2</th>\n",
       "    </tr>\n",
       "  </thead>\n",
       "  <tbody>\n",
       "    <tr>\n",
       "      <th>AnswerCount</th>\n",
       "      <td>4.000000</td>\n",
       "      <td>4.000000</td>\n",
       "      <td>4.000000</td>\n",
       "    </tr>\n",
       "    <tr>\n",
       "      <th>question_comment_count</th>\n",
       "      <td>4.000000</td>\n",
       "      <td>4.000000</td>\n",
       "      <td>4.000000</td>\n",
       "    </tr>\n",
       "    <tr>\n",
       "      <th>question_score</th>\n",
       "      <td>8.000000</td>\n",
       "      <td>8.000000</td>\n",
       "      <td>8.000000</td>\n",
       "    </tr>\n",
       "    <tr>\n",
       "      <th>ViewCount</th>\n",
       "      <td>361.000000</td>\n",
       "      <td>361.000000</td>\n",
       "      <td>361.000000</td>\n",
       "    </tr>\n",
       "    <tr>\n",
       "      <th>answer_comment_count</th>\n",
       "      <td>1.000000</td>\n",
       "      <td>0.000000</td>\n",
       "      <td>0.000000</td>\n",
       "    </tr>\n",
       "    <tr>\n",
       "      <th>answer_score</th>\n",
       "      <td>7.000000</td>\n",
       "      <td>2.000000</td>\n",
       "      <td>3.000000</td>\n",
       "    </tr>\n",
       "    <tr>\n",
       "      <th>answer_time</th>\n",
       "      <td>2.369750</td>\n",
       "      <td>66.159911</td>\n",
       "      <td>81.784922</td>\n",
       "    </tr>\n",
       "    <tr>\n",
       "      <th>target</th>\n",
       "      <td>1.000000</td>\n",
       "      <td>0.000000</td>\n",
       "      <td>0.000000</td>\n",
       "    </tr>\n",
       "    <tr>\n",
       "      <th>last_editor</th>\n",
       "      <td>0.000000</td>\n",
       "      <td>1.000000</td>\n",
       "      <td>0.000000</td>\n",
       "    </tr>\n",
       "    <tr>\n",
       "      <th>10</th>\n",
       "      <td>0.000000</td>\n",
       "      <td>0.000000</td>\n",
       "      <td>0.000000</td>\n",
       "    </tr>\n",
       "    <tr>\n",
       "      <th>able</th>\n",
       "      <td>0.000000</td>\n",
       "      <td>0.000000</td>\n",
       "      <td>0.000000</td>\n",
       "    </tr>\n",
       "    <tr>\n",
       "      <th>airline</th>\n",
       "      <td>0.000000</td>\n",
       "      <td>0.000000</td>\n",
       "      <td>0.000000</td>\n",
       "    </tr>\n",
       "    <tr>\n",
       "      <th>airlines</th>\n",
       "      <td>0.000000</td>\n",
       "      <td>0.000000</td>\n",
       "      <td>0.000000</td>\n",
       "    </tr>\n",
       "    <tr>\n",
       "      <th>airport</th>\n",
       "      <td>0.000000</td>\n",
       "      <td>0.000000</td>\n",
       "      <td>0.000000</td>\n",
       "    </tr>\n",
       "    <tr>\n",
       "      <th>answer</th>\n",
       "      <td>0.189469</td>\n",
       "      <td>0.000000</td>\n",
       "      <td>0.000000</td>\n",
       "    </tr>\n",
       "    <tr>\n",
       "      <th>apply</th>\n",
       "      <td>0.000000</td>\n",
       "      <td>0.000000</td>\n",
       "      <td>0.000000</td>\n",
       "    </tr>\n",
       "    <tr>\n",
       "      <th>area</th>\n",
       "      <td>0.000000</td>\n",
       "      <td>0.000000</td>\n",
       "      <td>0.000000</td>\n",
       "    </tr>\n",
       "    <tr>\n",
       "      <th>ask</th>\n",
       "      <td>0.000000</td>\n",
       "      <td>0.000000</td>\n",
       "      <td>0.000000</td>\n",
       "    </tr>\n",
       "    <tr>\n",
       "      <th>available</th>\n",
       "      <td>0.000000</td>\n",
       "      <td>0.000000</td>\n",
       "      <td>0.000000</td>\n",
       "    </tr>\n",
       "    <tr>\n",
       "      <th>best</th>\n",
       "      <td>0.531820</td>\n",
       "      <td>0.231134</td>\n",
       "      <td>0.251467</td>\n",
       "    </tr>\n",
       "    <tr>\n",
       "      <th>book</th>\n",
       "      <td>0.000000</td>\n",
       "      <td>0.000000</td>\n",
       "      <td>0.000000</td>\n",
       "    </tr>\n",
       "    <tr>\n",
       "      <th>booking</th>\n",
       "      <td>0.000000</td>\n",
       "      <td>0.000000</td>\n",
       "      <td>0.000000</td>\n",
       "    </tr>\n",
       "    <tr>\n",
       "      <th>border</th>\n",
       "      <td>0.000000</td>\n",
       "      <td>0.000000</td>\n",
       "      <td>0.000000</td>\n",
       "    </tr>\n",
       "    <tr>\n",
       "      <th>bus</th>\n",
       "      <td>0.000000</td>\n",
       "      <td>0.000000</td>\n",
       "      <td>0.000000</td>\n",
       "    </tr>\n",
       "    <tr>\n",
       "      <th>buy</th>\n",
       "      <td>0.000000</td>\n",
       "      <td>0.000000</td>\n",
       "      <td>0.000000</td>\n",
       "    </tr>\n",
       "    <tr>\n",
       "      <th>canada</th>\n",
       "      <td>0.000000</td>\n",
       "      <td>0.000000</td>\n",
       "      <td>0.000000</td>\n",
       "    </tr>\n",
       "    <tr>\n",
       "      <th>car</th>\n",
       "      <td>0.000000</td>\n",
       "      <td>0.000000</td>\n",
       "      <td>0.000000</td>\n",
       "    </tr>\n",
       "    <tr>\n",
       "      <th>card</th>\n",
       "      <td>0.000000</td>\n",
       "      <td>0.000000</td>\n",
       "      <td>0.000000</td>\n",
       "    </tr>\n",
       "    <tr>\n",
       "      <th>case</th>\n",
       "      <td>0.000000</td>\n",
       "      <td>0.000000</td>\n",
       "      <td>0.000000</td>\n",
       "    </tr>\n",
       "    <tr>\n",
       "      <th>check</th>\n",
       "      <td>0.000000</td>\n",
       "      <td>0.000000</td>\n",
       "      <td>0.000000</td>\n",
       "    </tr>\n",
       "    <tr>\n",
       "      <th>...</th>\n",
       "      <td>...</td>\n",
       "      <td>...</td>\n",
       "      <td>...</td>\n",
       "    </tr>\n",
       "    <tr>\n",
       "      <th>return</th>\n",
       "      <td>0.000000</td>\n",
       "      <td>0.000000</td>\n",
       "      <td>0.000000</td>\n",
       "    </tr>\n",
       "    <tr>\n",
       "      <th>say</th>\n",
       "      <td>0.000000</td>\n",
       "      <td>0.000000</td>\n",
       "      <td>0.000000</td>\n",
       "    </tr>\n",
       "    <tr>\n",
       "      <th>schengen</th>\n",
       "      <td>0.000000</td>\n",
       "      <td>0.000000</td>\n",
       "      <td>0.000000</td>\n",
       "    </tr>\n",
       "    <tr>\n",
       "      <th>station</th>\n",
       "      <td>0.000000</td>\n",
       "      <td>0.000000</td>\n",
       "      <td>0.000000</td>\n",
       "    </tr>\n",
       "    <tr>\n",
       "      <th>stay</th>\n",
       "      <td>0.000000</td>\n",
       "      <td>0.000000</td>\n",
       "      <td>0.000000</td>\n",
       "    </tr>\n",
       "    <tr>\n",
       "      <th>sure</th>\n",
       "      <td>0.000000</td>\n",
       "      <td>0.000000</td>\n",
       "      <td>0.000000</td>\n",
       "    </tr>\n",
       "    <tr>\n",
       "      <th>ticket</th>\n",
       "      <td>0.000000</td>\n",
       "      <td>0.000000</td>\n",
       "      <td>0.000000</td>\n",
       "    </tr>\n",
       "    <tr>\n",
       "      <th>tickets</th>\n",
       "      <td>0.000000</td>\n",
       "      <td>0.000000</td>\n",
       "      <td>0.000000</td>\n",
       "    </tr>\n",
       "    <tr>\n",
       "      <th>time</th>\n",
       "      <td>0.000000</td>\n",
       "      <td>0.000000</td>\n",
       "      <td>0.000000</td>\n",
       "    </tr>\n",
       "    <tr>\n",
       "      <th>tourist</th>\n",
       "      <td>0.000000</td>\n",
       "      <td>0.000000</td>\n",
       "      <td>0.000000</td>\n",
       "    </tr>\n",
       "    <tr>\n",
       "      <th>train</th>\n",
       "      <td>0.000000</td>\n",
       "      <td>0.000000</td>\n",
       "      <td>0.000000</td>\n",
       "    </tr>\n",
       "    <tr>\n",
       "      <th>transit</th>\n",
       "      <td>0.000000</td>\n",
       "      <td>0.000000</td>\n",
       "      <td>0.000000</td>\n",
       "    </tr>\n",
       "    <tr>\n",
       "      <th>travel</th>\n",
       "      <td>0.127737</td>\n",
       "      <td>0.000000</td>\n",
       "      <td>0.000000</td>\n",
       "    </tr>\n",
       "    <tr>\n",
       "      <th>traveling</th>\n",
       "      <td>0.191099</td>\n",
       "      <td>0.000000</td>\n",
       "      <td>0.000000</td>\n",
       "    </tr>\n",
       "    <tr>\n",
       "      <th>travelling</th>\n",
       "      <td>0.180764</td>\n",
       "      <td>0.471370</td>\n",
       "      <td>0.256418</td>\n",
       "    </tr>\n",
       "    <tr>\n",
       "      <th>trip</th>\n",
       "      <td>0.305606</td>\n",
       "      <td>0.000000</td>\n",
       "      <td>0.000000</td>\n",
       "    </tr>\n",
       "    <tr>\n",
       "      <th>uk</th>\n",
       "      <td>0.000000</td>\n",
       "      <td>0.000000</td>\n",
       "      <td>0.000000</td>\n",
       "    </tr>\n",
       "    <tr>\n",
       "      <th>usa</th>\n",
       "      <td>0.000000</td>\n",
       "      <td>0.000000</td>\n",
       "      <td>0.000000</td>\n",
       "    </tr>\n",
       "    <tr>\n",
       "      <th>use</th>\n",
       "      <td>0.000000</td>\n",
       "      <td>0.000000</td>\n",
       "      <td>0.000000</td>\n",
       "    </tr>\n",
       "    <tr>\n",
       "      <th>used</th>\n",
       "      <td>0.000000</td>\n",
       "      <td>0.000000</td>\n",
       "      <td>0.000000</td>\n",
       "    </tr>\n",
       "    <tr>\n",
       "      <th>using</th>\n",
       "      <td>0.000000</td>\n",
       "      <td>0.000000</td>\n",
       "      <td>0.000000</td>\n",
       "    </tr>\n",
       "    <tr>\n",
       "      <th>usually</th>\n",
       "      <td>0.000000</td>\n",
       "      <td>0.000000</td>\n",
       "      <td>0.000000</td>\n",
       "    </tr>\n",
       "    <tr>\n",
       "      <th>valid</th>\n",
       "      <td>0.000000</td>\n",
       "      <td>0.000000</td>\n",
       "      <td>0.000000</td>\n",
       "    </tr>\n",
       "    <tr>\n",
       "      <th>visa</th>\n",
       "      <td>0.000000</td>\n",
       "      <td>0.000000</td>\n",
       "      <td>0.000000</td>\n",
       "    </tr>\n",
       "    <tr>\n",
       "      <th>visit</th>\n",
       "      <td>0.000000</td>\n",
       "      <td>0.000000</td>\n",
       "      <td>0.000000</td>\n",
       "    </tr>\n",
       "    <tr>\n",
       "      <th>want</th>\n",
       "      <td>0.276779</td>\n",
       "      <td>0.000000</td>\n",
       "      <td>0.000000</td>\n",
       "    </tr>\n",
       "    <tr>\n",
       "      <th>way</th>\n",
       "      <td>0.000000</td>\n",
       "      <td>0.000000</td>\n",
       "      <td>0.000000</td>\n",
       "    </tr>\n",
       "    <tr>\n",
       "      <th>website</th>\n",
       "      <td>0.000000</td>\n",
       "      <td>0.000000</td>\n",
       "      <td>0.000000</td>\n",
       "    </tr>\n",
       "    <tr>\n",
       "      <th>work</th>\n",
       "      <td>0.189612</td>\n",
       "      <td>0.000000</td>\n",
       "      <td>0.000000</td>\n",
       "    </tr>\n",
       "    <tr>\n",
       "      <th>year</th>\n",
       "      <td>0.000000</td>\n",
       "      <td>0.000000</td>\n",
       "      <td>0.000000</td>\n",
       "    </tr>\n",
       "  </tbody>\n",
       "</table>\n",
       "<p>109 rows × 3 columns</p>\n",
       "</div>"
      ],
      "text/plain": [
       "                                 0           1           2\n",
       "AnswerCount               4.000000    4.000000    4.000000\n",
       "question_comment_count    4.000000    4.000000    4.000000\n",
       "question_score            8.000000    8.000000    8.000000\n",
       "ViewCount               361.000000  361.000000  361.000000\n",
       "answer_comment_count      1.000000    0.000000    0.000000\n",
       "answer_score              7.000000    2.000000    3.000000\n",
       "answer_time               2.369750   66.159911   81.784922\n",
       "target                    1.000000    0.000000    0.000000\n",
       "last_editor               0.000000    1.000000    0.000000\n",
       "10                        0.000000    0.000000    0.000000\n",
       "able                      0.000000    0.000000    0.000000\n",
       "airline                   0.000000    0.000000    0.000000\n",
       "airlines                  0.000000    0.000000    0.000000\n",
       "airport                   0.000000    0.000000    0.000000\n",
       "answer                    0.189469    0.000000    0.000000\n",
       "apply                     0.000000    0.000000    0.000000\n",
       "area                      0.000000    0.000000    0.000000\n",
       "ask                       0.000000    0.000000    0.000000\n",
       "available                 0.000000    0.000000    0.000000\n",
       "best                      0.531820    0.231134    0.251467\n",
       "book                      0.000000    0.000000    0.000000\n",
       "booking                   0.000000    0.000000    0.000000\n",
       "border                    0.000000    0.000000    0.000000\n",
       "bus                       0.000000    0.000000    0.000000\n",
       "buy                       0.000000    0.000000    0.000000\n",
       "canada                    0.000000    0.000000    0.000000\n",
       "car                       0.000000    0.000000    0.000000\n",
       "card                      0.000000    0.000000    0.000000\n",
       "case                      0.000000    0.000000    0.000000\n",
       "check                     0.000000    0.000000    0.000000\n",
       "...                            ...         ...         ...\n",
       "return                    0.000000    0.000000    0.000000\n",
       "say                       0.000000    0.000000    0.000000\n",
       "schengen                  0.000000    0.000000    0.000000\n",
       "station                   0.000000    0.000000    0.000000\n",
       "stay                      0.000000    0.000000    0.000000\n",
       "sure                      0.000000    0.000000    0.000000\n",
       "ticket                    0.000000    0.000000    0.000000\n",
       "tickets                   0.000000    0.000000    0.000000\n",
       "time                      0.000000    0.000000    0.000000\n",
       "tourist                   0.000000    0.000000    0.000000\n",
       "train                     0.000000    0.000000    0.000000\n",
       "transit                   0.000000    0.000000    0.000000\n",
       "travel                    0.127737    0.000000    0.000000\n",
       "traveling                 0.191099    0.000000    0.000000\n",
       "travelling                0.180764    0.471370    0.256418\n",
       "trip                      0.305606    0.000000    0.000000\n",
       "uk                        0.000000    0.000000    0.000000\n",
       "usa                       0.000000    0.000000    0.000000\n",
       "use                       0.000000    0.000000    0.000000\n",
       "used                      0.000000    0.000000    0.000000\n",
       "using                     0.000000    0.000000    0.000000\n",
       "usually                   0.000000    0.000000    0.000000\n",
       "valid                     0.000000    0.000000    0.000000\n",
       "visa                      0.000000    0.000000    0.000000\n",
       "visit                     0.000000    0.000000    0.000000\n",
       "want                      0.276779    0.000000    0.000000\n",
       "way                       0.000000    0.000000    0.000000\n",
       "website                   0.000000    0.000000    0.000000\n",
       "work                      0.189612    0.000000    0.000000\n",
       "year                      0.000000    0.000000    0.000000\n",
       "\n",
       "[109 rows x 3 columns]"
      ]
     },
     "execution_count": 35,
     "metadata": {},
     "output_type": "execute_result"
    }
   ],
   "source": [
    "qa_final.head(3).T"
   ]
  },
  {
   "cell_type": "code",
   "execution_count": 36,
   "metadata": {
    "collapsed": false
   },
   "outputs": [
    {
     "name": "stdout",
     "output_type": "stream",
     "text": [
      "(23967, 108) (23967,)\n"
     ]
    }
   ],
   "source": [
    "y = qa_final['target']\n",
    "X = qa_final[[col for col in qa_final.columns if col not in ['target']]]\n",
    "\n",
    "print X.shape, y.shape"
   ]
  },
  {
   "cell_type": "code",
   "execution_count": 37,
   "metadata": {
    "collapsed": false
   },
   "outputs": [],
   "source": [
    "X_train, X_test, y_train, y_test = train_test_split(X, y, test_size=0.3)"
   ]
  },
  {
   "cell_type": "code",
   "execution_count": 38,
   "metadata": {
    "collapsed": false
   },
   "outputs": [
    {
     "name": "stdout",
     "output_type": "stream",
     "text": [
      "Fold Scores: [ 0.76302988  0.75399583  0.76286509  0.76634214  0.78079332]\n",
      "Cross Val Score: 0.765405252797\n"
     ]
    }
   ],
   "source": [
    "bag_log = BaggingClassifier(LogisticRegression())\n",
    "\n",
    "log_scores = cross_val_score(bag_log.fit(X_train,y_train),X_test,y_test,cv=5)\n",
    "\n",
    "print 'Fold Scores:', log_scores\n",
    "print 'Cross Val Score:', np.mean(log_scores)"
   ]
  },
  {
   "cell_type": "markdown",
   "metadata": {
    "collapsed": true
   },
   "source": [
    "<img src=\"http://imgur.com/l5NasQj.png\" style=\"float: left; margin: 25px 15px 0px 0px; height: 25px\">\n",
    "\n",
    "### 3. What is the score of a post?\n",
    "\n",
    "---\n",
    "\n",
    "**3.1 Build a model that predicts the score of a post.**\n",
    "\n",
    "- This is a regression problem now. \n",
    "- You can and should be predicting score for both \"question\" and \"answer\" posts, so keep them both in your dataset.\n",
    "- Again, use any techniques that you think will get you the best model.\n",
    "\n",
    "**3.2 Evaluate the performance of your model with cross-validation and report the results.**\n",
    "\n",
    "**3.3 What is important for determining the score of a post, if anything?**\n"
   ]
  },
  {
   "cell_type": "markdown",
   "metadata": {},
   "source": [
    "posttypeid = 1 & 2\n",
    "score\n",
    "regularized\n",
    "baggingclassifier"
   ]
  },
  {
   "cell_type": "code",
   "execution_count": 39,
   "metadata": {
    "collapsed": true
   },
   "outputs": [],
   "source": [
    "scores = posts[posts['PostTypeId']<=2]"
   ]
  },
  {
   "cell_type": "code",
   "execution_count": 40,
   "metadata": {
    "collapsed": false
   },
   "outputs": [
    {
     "data": {
      "text/plain": [
       "2    23967\n",
       "1    13988\n",
       "Name: PostTypeId, dtype: int64"
      ]
     },
     "execution_count": 40,
     "metadata": {},
     "output_type": "execute_result"
    }
   ],
   "source": [
    "scores['PostTypeId'].value_counts()"
   ]
  },
  {
   "cell_type": "code",
   "execution_count": 41,
   "metadata": {
    "collapsed": false
   },
   "outputs": [
    {
     "data": {
      "text/plain": [
       "AcceptedAnswerId         31439\n",
       "AnswerCount              23967\n",
       "Body                         0\n",
       "ClosedDate               35328\n",
       "CommentCount                 0\n",
       "CommunityOwnedDate       37793\n",
       "CreationDate                 0\n",
       "FavoriteCount            34433\n",
       "Id                           0\n",
       "LastActivityDate             0\n",
       "LastEditDate             17926\n",
       "LastEditorDisplayName    37271\n",
       "LastEditorUserId         18320\n",
       "OwnerDisplayName         36875\n",
       "OwnerUserId                710\n",
       "ParentId                 13988\n",
       "PostTypeId                   0\n",
       "Score                        0\n",
       "Tags                     23967\n",
       "Title                    23967\n",
       "ViewCount                23967\n",
       "dtype: int64"
      ]
     },
     "execution_count": 41,
     "metadata": {},
     "output_type": "execute_result"
    }
   ],
   "source": [
    "scores.isnull().sum()"
   ]
  },
  {
   "cell_type": "code",
   "execution_count": 42,
   "metadata": {
    "collapsed": false
   },
   "outputs": [
    {
     "name": "stderr",
     "output_type": "stream",
     "text": [
      "/home/llevin/anaconda2/envs/dsi/lib/python2.7/site-packages/ipykernel/__main__.py:1: SettingWithCopyWarning: \n",
      "A value is trying to be set on a copy of a slice from a DataFrame.\n",
      "Try using .loc[row_indexer,col_indexer] = value instead\n",
      "\n",
      "See the caveats in the documentation: http://pandas.pydata.org/pandas-docs/stable/indexing.html#indexing-view-versus-copy\n",
      "  if __name__ == '__main__':\n",
      "/home/llevin/anaconda2/envs/dsi/lib/python2.7/site-packages/ipykernel/__main__.py:2: SettingWithCopyWarning: \n",
      "A value is trying to be set on a copy of a slice from a DataFrame.\n",
      "Try using .loc[row_indexer,col_indexer] = value instead\n",
      "\n",
      "See the caveats in the documentation: http://pandas.pydata.org/pandas-docs/stable/indexing.html#indexing-view-versus-copy\n",
      "  from ipykernel import kernelapp as app\n",
      "/home/llevin/anaconda2/envs/dsi/lib/python2.7/site-packages/ipykernel/__main__.py:3: SettingWithCopyWarning: \n",
      "A value is trying to be set on a copy of a slice from a DataFrame.\n",
      "Try using .loc[row_indexer,col_indexer] = value instead\n",
      "\n",
      "See the caveats in the documentation: http://pandas.pydata.org/pandas-docs/stable/indexing.html#indexing-view-versus-copy\n",
      "  app.launch_new_instance()\n",
      "/home/llevin/anaconda2/envs/dsi/lib/python2.7/site-packages/ipykernel/__main__.py:4: SettingWithCopyWarning: \n",
      "A value is trying to be set on a copy of a slice from a DataFrame.\n",
      "Try using .loc[row_indexer,col_indexer] = value instead\n",
      "\n",
      "See the caveats in the documentation: http://pandas.pydata.org/pandas-docs/stable/indexing.html#indexing-view-versus-copy\n",
      "/home/llevin/anaconda2/envs/dsi/lib/python2.7/site-packages/ipykernel/__main__.py:5: SettingWithCopyWarning: \n",
      "A value is trying to be set on a copy of a slice from a DataFrame.\n",
      "Try using .loc[row_indexer,col_indexer] = value instead\n",
      "\n",
      "See the caveats in the documentation: http://pandas.pydata.org/pandas-docs/stable/indexing.html#indexing-view-versus-copy\n",
      "/home/llevin/anaconda2/envs/dsi/lib/python2.7/site-packages/ipykernel/__main__.py:6: SettingWithCopyWarning: \n",
      "A value is trying to be set on a copy of a slice from a DataFrame.\n",
      "Try using .loc[row_indexer,col_indexer] = value instead\n",
      "\n",
      "See the caveats in the documentation: http://pandas.pydata.org/pandas-docs/stable/indexing.html#indexing-view-versus-copy\n",
      "/home/llevin/anaconda2/envs/dsi/lib/python2.7/site-packages/ipykernel/__main__.py:7: SettingWithCopyWarning: \n",
      "A value is trying to be set on a copy of a slice from a DataFrame.\n",
      "Try using .loc[row_indexer,col_indexer] = value instead\n",
      "\n",
      "See the caveats in the documentation: http://pandas.pydata.org/pandas-docs/stable/indexing.html#indexing-view-versus-copy\n",
      "/home/llevin/anaconda2/envs/dsi/lib/python2.7/site-packages/ipykernel/__main__.py:8: SettingWithCopyWarning: \n",
      "A value is trying to be set on a copy of a slice from a DataFrame.\n",
      "Try using .loc[row_indexer,col_indexer] = value instead\n",
      "\n",
      "See the caveats in the documentation: http://pandas.pydata.org/pandas-docs/stable/indexing.html#indexing-view-versus-copy\n",
      "/home/llevin/anaconda2/envs/dsi/lib/python2.7/site-packages/ipykernel/__main__.py:9: SettingWithCopyWarning: \n",
      "A value is trying to be set on a copy of a slice from a DataFrame.\n",
      "Try using .loc[row_indexer,col_indexer] = value instead\n",
      "\n",
      "See the caveats in the documentation: http://pandas.pydata.org/pandas-docs/stable/indexing.html#indexing-view-versus-copy\n"
     ]
    }
   ],
   "source": [
    "scores['accepted_answer'] = scores['AcceptedAnswerId'].map(lambda x: 0 if np.isnan(x) else 1)\n",
    "scores['last_editor'] = scores['LastEditorUserId']-scores['OwnerUserId']\n",
    "scores['last_editor'] = scores['last_editor'].map(lambda x: 1 if x==0 else 0)\n",
    "scores['status'] = scores['ClosedDate'].map(lambda x: 0 if x!=x else 1)\n",
    "scores['LastActivityDate'] = pd.to_datetime(scores['LastActivityDate'])\n",
    "scores['CreationDate'] = pd.to_datetime(scores['CreationDate'])\n",
    "scores['active_time'] = scores['LastActivityDate'] - scores['CreationDate']\n",
    "scores['active_time'] = (scores['active_time']/np.timedelta64(1,'D')).astype(float)\n",
    "scores['post_length'] = scores['Body'].map(len)"
   ]
  },
  {
   "cell_type": "code",
   "execution_count": 43,
   "metadata": {
    "collapsed": false
   },
   "outputs": [
    {
     "name": "stderr",
     "output_type": "stream",
     "text": [
      "/home/llevin/anaconda2/envs/dsi/lib/python2.7/site-packages/ipykernel/__main__.py:1: SettingWithCopyWarning: \n",
      "A value is trying to be set on a copy of a slice from a DataFrame.\n",
      "Try using .loc[row_indexer,col_indexer] = value instead\n",
      "\n",
      "See the caveats in the documentation: http://pandas.pydata.org/pandas-docs/stable/indexing.html#indexing-view-versus-copy\n",
      "  if __name__ == '__main__':\n",
      "/home/llevin/anaconda2/envs/dsi/lib/python2.7/site-packages/ipykernel/__main__.py:2: SettingWithCopyWarning: \n",
      "A value is trying to be set on a copy of a slice from a DataFrame.\n",
      "Try using .loc[row_indexer,col_indexer] = value instead\n",
      "\n",
      "See the caveats in the documentation: http://pandas.pydata.org/pandas-docs/stable/indexing.html#indexing-view-versus-copy\n",
      "  from ipykernel import kernelapp as app\n",
      "/home/llevin/anaconda2/envs/dsi/lib/python2.7/site-packages/ipykernel/__main__.py:3: SettingWithCopyWarning: \n",
      "A value is trying to be set on a copy of a slice from a DataFrame.\n",
      "Try using .loc[row_indexer,col_indexer] = value instead\n",
      "\n",
      "See the caveats in the documentation: http://pandas.pydata.org/pandas-docs/stable/indexing.html#indexing-view-versus-copy\n",
      "  app.launch_new_instance()\n"
     ]
    }
   ],
   "source": [
    "scores['Text'] = scores['Body'] + scores['Title'] + scores['Tags']\n",
    "scores['Text'] = scores['Text'].map(lambda x: BeautifulSoup(str(x),'html.parser').get_text())\n",
    "scores['Text'] = scores['Text'].map(lambda x: x.replace('\\n',''))"
   ]
  },
  {
   "cell_type": "code",
   "execution_count": 44,
   "metadata": {
    "collapsed": false
   },
   "outputs": [
    {
     "data": {
      "text/plain": [
       "u\"My fianc\\xe9e and I are looking for a good Caribbean cruise in October and were wondering which islands are best to see and which Cruise line to take?It seems like a lot of the cruises don't run in this month due to Hurricane season so I'm looking for other good options.EDIT We'll be travelling in 2012.What are some Caribbean cruises for October?\""
      ]
     },
     "execution_count": 44,
     "metadata": {},
     "output_type": "execute_result"
    }
   ],
   "source": [
    "scores['Text'][0]"
   ]
  },
  {
   "cell_type": "code",
   "execution_count": 54,
   "metadata": {
    "collapsed": true
   },
   "outputs": [],
   "source": [
    "vectorizer = CountVectorizer(max_features=100,stop_words=stop_words,max_df=.9,min_df=.05)\n",
    "t_vectorizer = TfidfVectorizer(max_features=100, stop_words=stop_words,max_df=.9,min_df=.05)\n",
    "X = vectorizer.fit_transform(scores['Text'])\n",
    "X_t = t_vectorizer.fit_transform(scores['Text'])\n",
    "# docs = pd.DataFrame(X.toarray(), columns=vectorizer.get_feature_names())\n",
    "docs = pd.DataFrame(X_t.toarray(), columns=t_vectorizer.get_feature_names())"
   ]
  },
  {
   "cell_type": "code",
   "execution_count": 57,
   "metadata": {
    "collapsed": true
   },
   "outputs": [],
   "source": [
    "scores = scores[['AnswerCount','CommentCount','FavoriteCount','Score','PostTypeId','ViewCount','accepted_answer',\n",
    "                'last_editor','status','active_time','post_length']]\n",
    "scores[[col for col in docs.columns]] = docs[[col for col in docs.columns]]"
   ]
  },
  {
   "cell_type": "code",
   "execution_count": 66,
   "metadata": {
    "collapsed": false
   },
   "outputs": [
    {
     "data": {
      "text/plain": [
       "AnswerCount        23967\n",
       "CommentCount           0\n",
       "FavoriteCount      34433\n",
       "Score                  0\n",
       "PostTypeId             0\n",
       "ViewCount          23967\n",
       "accepted_answer        0\n",
       "last_editor            0\n",
       "status                 0\n",
       "active_time            0\n",
       "post_length            0\n",
       "does                3253\n",
       "flight              3253\n",
       "know                3253\n",
       "nan                 3253\n",
       "need                3253\n",
       "time                3253\n",
       "travel              3253\n",
       "trip                3253\n",
       "visa                3253\n",
       "want                3253\n",
       "dtype: int64"
      ]
     },
     "execution_count": 66,
     "metadata": {},
     "output_type": "execute_result"
    }
   ],
   "source": [
    "scores.isnull().sum()"
   ]
  },
  {
   "cell_type": "code",
   "execution_count": 69,
   "metadata": {
    "collapsed": false
   },
   "outputs": [],
   "source": [
    "def impute_nulls(x):\n",
    "    x = x.map(lambda x: 0. if x!=x else x)\n",
    "    return x\n",
    "\n",
    "scores = scores.apply(impute_nulls)"
   ]
  },
  {
   "cell_type": "code",
   "execution_count": 70,
   "metadata": {
    "collapsed": false
   },
   "outputs": [
    {
     "data": {
      "text/plain": [
       "AnswerCount        0\n",
       "CommentCount       0\n",
       "FavoriteCount      0\n",
       "Score              0\n",
       "PostTypeId         0\n",
       "ViewCount          0\n",
       "accepted_answer    0\n",
       "last_editor        0\n",
       "status             0\n",
       "active_time        0\n",
       "post_length        0\n",
       "does               0\n",
       "flight             0\n",
       "know               0\n",
       "nan                0\n",
       "need               0\n",
       "time               0\n",
       "travel             0\n",
       "trip               0\n",
       "visa               0\n",
       "want               0\n",
       "dtype: int64"
      ]
     },
     "execution_count": 70,
     "metadata": {},
     "output_type": "execute_result"
    }
   ],
   "source": [
    "scores.isnull().sum()"
   ]
  },
  {
   "cell_type": "code",
   "execution_count": 71,
   "metadata": {
    "collapsed": false
   },
   "outputs": [
    {
     "name": "stdout",
     "output_type": "stream",
     "text": [
      "(37955, 20) (37955,)\n"
     ]
    }
   ],
   "source": [
    "y = scores['Score'].values\n",
    "X = scores[[col for col in scores.columns if col not in ['Score']]]\n",
    "\n",
    "print X.shape, y.shape"
   ]
  },
  {
   "cell_type": "code",
   "execution_count": 72,
   "metadata": {
    "collapsed": true
   },
   "outputs": [],
   "source": [
    "X_train, X_test, y_train, y_test = train_test_split(X, y, test_size=0.3)"
   ]
  },
  {
   "cell_type": "code",
   "execution_count": 73,
   "metadata": {
    "collapsed": false
   },
   "outputs": [
    {
     "name": "stdout",
     "output_type": "stream",
     "text": [
      "Fold Scores: [ 0.40835707  0.35097866  0.20671942  0.25514116  0.46865318]\n",
      "Cross Val Score: 0.337969895882\n"
     ]
    }
   ],
   "source": [
    "bag_lasso = BaggingRegressor(Lasso())\n",
    "\n",
    "lasso_scores = cross_val_score(bag_lasso.fit(X_train,y_train),X_test,y_test,cv=5)\n",
    "\n",
    "print 'Fold Scores:', lasso_scores\n",
    "print 'Cross Val Score:', np.mean(lasso_scores)"
   ]
  },
  {
   "cell_type": "markdown",
   "metadata": {},
   "source": [
    "<img src=\"http://imgur.com/l5NasQj.png\" style=\"float: left; margin: 25px 15px 0px 0px; height: 25px\">\n",
    "\n",
    "### 4. How many views does a post have?\n",
    "\n",
    "---\n",
    "\n",
    "**4.1 Build a model that predicts the number of views a post has.**\n",
    "\n",
    "- This is another regression problem. \n",
    "- Predict the views for all posts, not just the \"answer\" posts.\n",
    "\n",
    "**4.2 Evaluate the performance of your model with cross-validation and report the results.**\n",
    "\n",
    "**4.3 What is important for the number of views a post has, if anything?**"
   ]
  },
  {
   "cell_type": "code",
   "execution_count": 77,
   "metadata": {
    "collapsed": true
   },
   "outputs": [],
   "source": [
    "views = posts[~posts['ViewCount'].isnull()]"
   ]
  },
  {
   "cell_type": "code",
   "execution_count": 78,
   "metadata": {
    "collapsed": false
   },
   "outputs": [
    {
     "data": {
      "text/plain": [
       "AcceptedAnswerId          7472\n",
       "AnswerCount                  0\n",
       "Body                         0\n",
       "ClosedDate               11361\n",
       "CommentCount                 0\n",
       "CommunityOwnedDate       13975\n",
       "CreationDate                 0\n",
       "FavoriteCount            10466\n",
       "Id                           0\n",
       "LastActivityDate             0\n",
       "LastEditDate              2911\n",
       "LastEditorDisplayName    13621\n",
       "LastEditorUserId          3231\n",
       "OwnerDisplayName         13613\n",
       "OwnerUserId                307\n",
       "ParentId                 13988\n",
       "PostTypeId                   0\n",
       "Score                        0\n",
       "Tags                         0\n",
       "Title                        0\n",
       "ViewCount                    0\n",
       "dtype: int64"
      ]
     },
     "execution_count": 78,
     "metadata": {},
     "output_type": "execute_result"
    }
   ],
   "source": [
    "views.isnull().sum()"
   ]
  },
  {
   "cell_type": "code",
   "execution_count": 79,
   "metadata": {
    "collapsed": false
   },
   "outputs": [
    {
     "name": "stderr",
     "output_type": "stream",
     "text": [
      "/home/llevin/anaconda2/envs/dsi/lib/python2.7/site-packages/ipykernel/__main__.py:1: SettingWithCopyWarning: \n",
      "A value is trying to be set on a copy of a slice from a DataFrame.\n",
      "Try using .loc[row_indexer,col_indexer] = value instead\n",
      "\n",
      "See the caveats in the documentation: http://pandas.pydata.org/pandas-docs/stable/indexing.html#indexing-view-versus-copy\n",
      "  if __name__ == '__main__':\n",
      "/home/llevin/anaconda2/envs/dsi/lib/python2.7/site-packages/ipykernel/__main__.py:2: SettingWithCopyWarning: \n",
      "A value is trying to be set on a copy of a slice from a DataFrame.\n",
      "Try using .loc[row_indexer,col_indexer] = value instead\n",
      "\n",
      "See the caveats in the documentation: http://pandas.pydata.org/pandas-docs/stable/indexing.html#indexing-view-versus-copy\n",
      "  from ipykernel import kernelapp as app\n",
      "/home/llevin/anaconda2/envs/dsi/lib/python2.7/site-packages/ipykernel/__main__.py:3: SettingWithCopyWarning: \n",
      "A value is trying to be set on a copy of a slice from a DataFrame.\n",
      "Try using .loc[row_indexer,col_indexer] = value instead\n",
      "\n",
      "See the caveats in the documentation: http://pandas.pydata.org/pandas-docs/stable/indexing.html#indexing-view-versus-copy\n",
      "  app.launch_new_instance()\n",
      "/home/llevin/anaconda2/envs/dsi/lib/python2.7/site-packages/ipykernel/__main__.py:4: SettingWithCopyWarning: \n",
      "A value is trying to be set on a copy of a slice from a DataFrame.\n",
      "Try using .loc[row_indexer,col_indexer] = value instead\n",
      "\n",
      "See the caveats in the documentation: http://pandas.pydata.org/pandas-docs/stable/indexing.html#indexing-view-versus-copy\n",
      "/home/llevin/anaconda2/envs/dsi/lib/python2.7/site-packages/ipykernel/__main__.py:5: SettingWithCopyWarning: \n",
      "A value is trying to be set on a copy of a slice from a DataFrame.\n",
      "Try using .loc[row_indexer,col_indexer] = value instead\n",
      "\n",
      "See the caveats in the documentation: http://pandas.pydata.org/pandas-docs/stable/indexing.html#indexing-view-versus-copy\n",
      "/home/llevin/anaconda2/envs/dsi/lib/python2.7/site-packages/ipykernel/__main__.py:6: SettingWithCopyWarning: \n",
      "A value is trying to be set on a copy of a slice from a DataFrame.\n",
      "Try using .loc[row_indexer,col_indexer] = value instead\n",
      "\n",
      "See the caveats in the documentation: http://pandas.pydata.org/pandas-docs/stable/indexing.html#indexing-view-versus-copy\n",
      "/home/llevin/anaconda2/envs/dsi/lib/python2.7/site-packages/ipykernel/__main__.py:7: SettingWithCopyWarning: \n",
      "A value is trying to be set on a copy of a slice from a DataFrame.\n",
      "Try using .loc[row_indexer,col_indexer] = value instead\n",
      "\n",
      "See the caveats in the documentation: http://pandas.pydata.org/pandas-docs/stable/indexing.html#indexing-view-versus-copy\n",
      "/home/llevin/anaconda2/envs/dsi/lib/python2.7/site-packages/ipykernel/__main__.py:8: SettingWithCopyWarning: \n",
      "A value is trying to be set on a copy of a slice from a DataFrame.\n",
      "Try using .loc[row_indexer,col_indexer] = value instead\n",
      "\n",
      "See the caveats in the documentation: http://pandas.pydata.org/pandas-docs/stable/indexing.html#indexing-view-versus-copy\n",
      "/home/llevin/anaconda2/envs/dsi/lib/python2.7/site-packages/ipykernel/__main__.py:9: SettingWithCopyWarning: \n",
      "A value is trying to be set on a copy of a slice from a DataFrame.\n",
      "Try using .loc[row_indexer,col_indexer] = value instead\n",
      "\n",
      "See the caveats in the documentation: http://pandas.pydata.org/pandas-docs/stable/indexing.html#indexing-view-versus-copy\n"
     ]
    }
   ],
   "source": [
    "views['accepted_answer'] = views['AcceptedAnswerId'].map(lambda x: 0 if np.isnan(x) else 1)\n",
    "views['last_editor'] = views['LastEditorUserId']-views['OwnerUserId']\n",
    "views['last_editor'] = views['last_editor'].map(lambda x: 1 if x==0 else 0)\n",
    "views['status'] = views['ClosedDate'].map(lambda x: 0 if x!=x else 1)\n",
    "views['LastActivityDate'] = pd.to_datetime(views['LastActivityDate'])\n",
    "views['CreationDate'] = pd.to_datetime(views['CreationDate'])\n",
    "views['active_time'] = views['LastActivityDate'] - views['CreationDate']\n",
    "views['active_time'] = (views['active_time']/np.timedelta64(1,'D')).astype(float)\n",
    "views['post_length'] = views['Body'].map(len)"
   ]
  },
  {
   "cell_type": "code",
   "execution_count": 80,
   "metadata": {
    "collapsed": false
   },
   "outputs": [
    {
     "name": "stderr",
     "output_type": "stream",
     "text": [
      "/home/llevin/anaconda2/envs/dsi/lib/python2.7/site-packages/ipykernel/__main__.py:1: SettingWithCopyWarning: \n",
      "A value is trying to be set on a copy of a slice from a DataFrame.\n",
      "Try using .loc[row_indexer,col_indexer] = value instead\n",
      "\n",
      "See the caveats in the documentation: http://pandas.pydata.org/pandas-docs/stable/indexing.html#indexing-view-versus-copy\n",
      "  if __name__ == '__main__':\n",
      "/home/llevin/anaconda2/envs/dsi/lib/python2.7/site-packages/ipykernel/__main__.py:2: SettingWithCopyWarning: \n",
      "A value is trying to be set on a copy of a slice from a DataFrame.\n",
      "Try using .loc[row_indexer,col_indexer] = value instead\n",
      "\n",
      "See the caveats in the documentation: http://pandas.pydata.org/pandas-docs/stable/indexing.html#indexing-view-versus-copy\n",
      "  from ipykernel import kernelapp as app\n",
      "/home/llevin/anaconda2/envs/dsi/lib/python2.7/site-packages/ipykernel/__main__.py:3: SettingWithCopyWarning: \n",
      "A value is trying to be set on a copy of a slice from a DataFrame.\n",
      "Try using .loc[row_indexer,col_indexer] = value instead\n",
      "\n",
      "See the caveats in the documentation: http://pandas.pydata.org/pandas-docs/stable/indexing.html#indexing-view-versus-copy\n",
      "  app.launch_new_instance()\n"
     ]
    }
   ],
   "source": [
    "views['Text'] = views['Body'] + views['Title'] + views['Tags']\n",
    "views['Text'] = views['Text'].map(lambda x: BeautifulSoup(str(x),'html.parser').get_text())\n",
    "views['Text'] = views['Text'].map(lambda x: x.replace('\\n',''))"
   ]
  },
  {
   "cell_type": "code",
   "execution_count": 82,
   "metadata": {
    "collapsed": false
   },
   "outputs": [],
   "source": [
    "vectorizer = CountVectorizer(max_features=100,stop_words=stop_words,max_df=.9,min_df=.05)\n",
    "t_vectorizer = TfidfVectorizer(max_features=100, stop_words=stop_words,max_df=.9,min_df=.05)\n",
    "X = vectorizer.fit_transform(views['Text'])\n",
    "X_t = t_vectorizer.fit_transform(views['Text'])\n",
    "# docs = pd.DataFrame(X.toarray(), columns=vectorizer.get_feature_names())\n",
    "docs = pd.DataFrame(X_t.toarray(), columns=t_vectorizer.get_feature_names())"
   ]
  },
  {
   "cell_type": "code",
   "execution_count": 83,
   "metadata": {
    "collapsed": false
   },
   "outputs": [],
   "source": [
    "views = views[['AnswerCount','CommentCount','Score','PostTypeId','ViewCount','accepted_answer','last_editor','status',\n",
    "              'active_time','post_length']]\n",
    "views[[col for col in docs.columns]] = docs[[col for col in docs.columns]]"
   ]
  },
  {
   "cell_type": "code",
   "execution_count": 85,
   "metadata": {
    "collapsed": false
   },
   "outputs": [
    {
     "data": {
      "text/plain": [
       "AnswerCount            0\n",
       "CommentCount           0\n",
       "Score                  0\n",
       "PostTypeId             0\n",
       "ViewCount              0\n",
       "accepted_answer        0\n",
       "last_editor            0\n",
       "status                 0\n",
       "active_time            0\n",
       "post_length            0\n",
       "able               10050\n",
       "airport            10050\n",
       "apply              10050\n",
       "best               10050\n",
       "buy                10050\n",
       "canada             10050\n",
       "car                10050\n",
       "card               10050\n",
       "case               10050\n",
       "check              10050\n",
       "citizen            10050\n",
       "city               10050\n",
       "countries          10050\n",
       "country            10050\n",
       "day                10050\n",
       "days               10050\n",
       "different          10050\n",
       "does               10050\n",
       "enter              10050\n",
       "entry              10050\n",
       "                   ...  \n",
       "return             10050\n",
       "schengen           10050\n",
       "stay               10050\n",
       "sure               10050\n",
       "ticket             10050\n",
       "tickets            10050\n",
       "time               10050\n",
       "tourist            10050\n",
       "train              10050\n",
       "transit            10050\n",
       "travel             10050\n",
       "traveling          10050\n",
       "travelling         10050\n",
       "trip               10050\n",
       "uk                 10050\n",
       "usa                10050\n",
       "use                10050\n",
       "using              10050\n",
       "valid              10050\n",
       "visa               10050\n",
       "visit              10050\n",
       "visiting           10050\n",
       "want               10050\n",
       "way                10050\n",
       "website            10050\n",
       "week               10050\n",
       "weeks              10050\n",
       "wondering          10050\n",
       "work               10050\n",
       "year               10050\n",
       "dtype: int64"
      ]
     },
     "execution_count": 85,
     "metadata": {},
     "output_type": "execute_result"
    }
   ],
   "source": [
    "views.isnull().sum()"
   ]
  },
  {
   "cell_type": "code",
   "execution_count": 86,
   "metadata": {
    "collapsed": true
   },
   "outputs": [],
   "source": [
    "views = views.apply(impute_nulls)"
   ]
  },
  {
   "cell_type": "code",
   "execution_count": 87,
   "metadata": {
    "collapsed": false
   },
   "outputs": [
    {
     "data": {
      "text/plain": [
       "AnswerCount        0\n",
       "CommentCount       0\n",
       "Score              0\n",
       "PostTypeId         0\n",
       "ViewCount          0\n",
       "accepted_answer    0\n",
       "last_editor        0\n",
       "status             0\n",
       "active_time        0\n",
       "post_length        0\n",
       "able               0\n",
       "airport            0\n",
       "apply              0\n",
       "best               0\n",
       "buy                0\n",
       "canada             0\n",
       "car                0\n",
       "card               0\n",
       "case               0\n",
       "check              0\n",
       "citizen            0\n",
       "city               0\n",
       "countries          0\n",
       "country            0\n",
       "day                0\n",
       "days               0\n",
       "different          0\n",
       "does               0\n",
       "enter              0\n",
       "entry              0\n",
       "                  ..\n",
       "return             0\n",
       "schengen           0\n",
       "stay               0\n",
       "sure               0\n",
       "ticket             0\n",
       "tickets            0\n",
       "time               0\n",
       "tourist            0\n",
       "train              0\n",
       "transit            0\n",
       "travel             0\n",
       "traveling          0\n",
       "travelling         0\n",
       "trip               0\n",
       "uk                 0\n",
       "usa                0\n",
       "use                0\n",
       "using              0\n",
       "valid              0\n",
       "visa               0\n",
       "visit              0\n",
       "visiting           0\n",
       "want               0\n",
       "way                0\n",
       "website            0\n",
       "week               0\n",
       "weeks              0\n",
       "wondering          0\n",
       "work               0\n",
       "year               0\n",
       "dtype: int64"
      ]
     },
     "execution_count": 87,
     "metadata": {},
     "output_type": "execute_result"
    }
   ],
   "source": [
    "views.isnull().sum()"
   ]
  },
  {
   "cell_type": "code",
   "execution_count": 88,
   "metadata": {
    "collapsed": false
   },
   "outputs": [],
   "source": [
    "views.reset_index(inplace=True,drop=True)"
   ]
  },
  {
   "cell_type": "code",
   "execution_count": 89,
   "metadata": {
    "collapsed": false
   },
   "outputs": [
    {
     "name": "stdout",
     "output_type": "stream",
     "text": [
      "(13988, 91) (13988,)\n"
     ]
    }
   ],
   "source": [
    "y = views['ViewCount'].values\n",
    "X = views[[col for col in views.columns if col not in ['index','ViewCount']]]\n",
    "\n",
    "print X.shape, y.shape"
   ]
  },
  {
   "cell_type": "code",
   "execution_count": 96,
   "metadata": {
    "collapsed": false
   },
   "outputs": [],
   "source": [
    "X_train, X_test, y_train, y_test = train_test_split(X, y, test_size=0.3)"
   ]
  },
  {
   "cell_type": "code",
   "execution_count": 97,
   "metadata": {
    "collapsed": false
   },
   "outputs": [
    {
     "name": "stdout",
     "output_type": "stream",
     "text": [
      "Fold Scores: [ 0.12411385  0.14358584  0.14505438  0.12839379  0.22943835]\n",
      "Cross Val Score: 0.154117241272\n"
     ]
    }
   ],
   "source": [
    "bag_lasso = BaggingRegressor(Lasso())\n",
    "\n",
    "lasso_scores = cross_val_score(bag_lasso.fit(X_train,y_train),X_test,y_test,cv=5)\n",
    "\n",
    "print 'Fold Scores:', lasso_scores\n",
    "print 'Cross Val Score:', np.mean(lasso_scores)"
   ]
  },
  {
   "cell_type": "markdown",
   "metadata": {},
   "source": [
    "<img src=\"http://imgur.com/l5NasQj.png\" style=\"float: left; margin: 25px 15px 0px 0px; height: 25px\">\n",
    "\n",
    "### 5. Build a pipeline or other code to automate evaluation of your models on the test data.\n",
    "\n",
    "---\n",
    "\n",
    "Now that you've constructed your three predictive models, build a pipeline or code that can easily load up the raw testing data and evaluate your models on it.\n",
    "\n",
    "The testing data that is held out is in the same raw format as the training data you have. _Any cleaning and preprocessing that you did on the training data will need to be done on the testing data as well!_\n",
    "\n",
    "This is a good opportunity to practice building pipelines, but you're not required to. Custom functions and classes are fine as long as they are able to process and test the new data.\n"
   ]
  },
  {
   "cell_type": "code",
   "execution_count": null,
   "metadata": {
    "collapsed": true
   },
   "outputs": [],
   "source": []
  }
 ],
 "metadata": {
  "anaconda-cloud": {},
  "kernelspec": {
   "display_name": "Python [dsi]",
   "language": "python",
   "name": "Python [dsi]"
  },
  "language_info": {
   "codemirror_mode": {
    "name": "ipython",
    "version": 2
   },
   "file_extension": ".py",
   "mimetype": "text/x-python",
   "name": "python",
   "nbconvert_exporter": "python",
   "pygments_lexer": "ipython2",
   "version": "2.7.12"
  }
 },
 "nbformat": 4,
 "nbformat_minor": 0
}
