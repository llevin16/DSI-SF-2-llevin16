{
 "cells": [
  {
   "cell_type": "markdown",
   "metadata": {},
   "source": [
    "# APIs Lab\n",
    "In this lab we will practice using APIs to retrieve and store data."
   ]
  },
  {
   "cell_type": "code",
   "execution_count": 3,
   "metadata": {
    "collapsed": false
   },
   "outputs": [],
   "source": [
    "# Imports at the top\n",
    "import json\n",
    "import urllib\n",
    "import pandas as pd\n",
    "import numpy as np\n",
    "import requests\n",
    "import json\n",
    "import re\n",
    "import matplotlib.pyplot as plt\n",
    "%matplotlib inline"
   ]
  },
  {
   "cell_type": "markdown",
   "metadata": {},
   "source": [
    "## Exercise 1: Get Data From Sheetsu\n",
    "\n",
    "[Sheetsu](https://sheetsu.com/) is an online service that allows you to access any Google spreadsheet from an API. This can be a very powerful way to share a dataset with colleagues as well as to create a mini centralized data storage, that is simpler to edit than a database.\n",
    "\n",
    "A Google Spreadsheet with Wine data can be found [here]().\n",
    "\n",
    "It can be accessed through sheetsu API at this endpoint: https://sheetsu.com/apis/v1.0/dab55afd\n",
    "\n",
    "Questions:\n",
    "\n",
    "1. Use the requests library to access the document. Inspect the response text. What kind of data is it?\n",
    "\n",
    "> Answer: it's a json string\n",
    "- Check the status code of the response object. What code is it?\n",
    "> 200\n",
    "- use the appropriate libraries and read functions to read the response into a Pandas Dataframe\n",
    "> Possible answers include: pd.read_json and json.loads + pd.Dataframe\n",
    "- once you've imported the data into a dataframe, check the value of the 5th line: what's the price? (should be 6)"
   ]
  },
  {
   "cell_type": "code",
   "execution_count": 4,
   "metadata": {
    "collapsed": false
   },
   "outputs": [],
   "source": [
    "response = requests.get(\"https://sheetsu.com/apis/v1.0/dab55afd\")"
   ]
  },
  {
   "cell_type": "code",
   "execution_count": 16,
   "metadata": {
    "collapsed": false
   },
   "outputs": [
    {
     "data": {
      "text/plain": [
       "{u'Color': u'W',\n",
       " u'Consumed In': u'2015',\n",
       " u'Country': u'France',\n",
       " u'Grape': u'',\n",
       " u'Name': u'',\n",
       " u'Price': u'17.8',\n",
       " u'Region': u'France',\n",
       " u'Score': u'3',\n",
       " u'Vintage': u'2013',\n",
       " u'Vinyard': u'Peyruchet'}"
      ]
     },
     "execution_count": 16,
     "metadata": {},
     "output_type": "execute_result"
    }
   ],
   "source": [
    "response.json()[1]"
   ]
  },
  {
   "cell_type": "markdown",
   "metadata": {},
   "source": [
    "### Exercise 2: Post Data to Sheetsu\n",
    "Now that we've learned how to read data, it'd be great if we could also write data. For this we will need to use a _POST_ request.\n",
    "\n",
    "1. Use the post command to add the following data to the spreadsheet:"
   ]
  },
  {
   "cell_type": "code",
   "execution_count": 58,
   "metadata": {
    "collapsed": false
   },
   "outputs": [
    {
     "data": {
      "text/plain": [
       "<Response [201]>"
      ]
     },
     "execution_count": 58,
     "metadata": {},
     "output_type": "execute_result"
    }
   ],
   "source": [
    "post_data = {\n",
    "'Grape' : \"Lenny's specific grape wine 1607\"\n",
    ", 'Name' : 'My wonderful wine'\n",
    ", 'Color' : 'R'\n",
    ", 'Country' : 'US'\n",
    ", 'Region' : 'Sonoma'\n",
    ", 'Vinyard' : ''\n",
    ", 'Score' : '10'\n",
    ", 'Consumed In' : '2015'\n",
    ", 'Vintage' : '1973'\n",
    ", 'Price' : '200'\n",
    "}\n",
    "\n",
    "requests.post(\"https://sheetsu.com/apis/v1.0/dab55afd\",data=post_data)"
   ]
  },
  {
   "cell_type": "code",
   "execution_count": 59,
   "metadata": {
    "collapsed": false
   },
   "outputs": [
    {
     "data": {
      "text/plain": [
       "{u'Color': u'R',\n",
       " u'Consumed In': u'2015',\n",
       " u'Country': u'US',\n",
       " u'Grape': u\"Lenny's specific grape wine 1607\",\n",
       " u'Name': u'My wonderful wine',\n",
       " u'Price': u'200',\n",
       " u'Region': u'Sonoma',\n",
       " u'Score': u'10',\n",
       " u'Vintage': u'1973',\n",
       " u'Vinyard': u''}"
      ]
     },
     "execution_count": 59,
     "metadata": {},
     "output_type": "execute_result"
    }
   ],
   "source": [
    "requests.get(\"https://sheetsu.com/apis/v1.0/dab55afd\").json()[-1]"
   ]
  },
  {
   "cell_type": "markdown",
   "metadata": {},
   "source": [
    "1. What status did you get? How can you check that you actually added the data correctly?\n",
    "- In this exercise, your classmates are adding data to the same spreadsheet. What happens because of this? Is it a problem? How could you mitigate it?"
   ]
  },
  {
   "cell_type": "code",
   "execution_count": null,
   "metadata": {
    "collapsed": false
   },
   "outputs": [],
   "source": []
  },
  {
   "cell_type": "markdown",
   "metadata": {},
   "source": [
    "## Exercise 3: Data munging\n",
    "\n",
    "Get back to the dataframe you've created in the beginning. Let's do some data munging:\n",
    "\n",
    "1. Search For missing data\n",
    "    - Is there any missing data? How do you deal with it?\n",
    "    - Is there any data you can just remove?\n",
    "    - Are the data types appropriate?\n",
    "- Summarize the data \n",
    "    - Try using describe, min, max, mean, var"
   ]
  },
  {
   "cell_type": "code",
   "execution_count": 26,
   "metadata": {
    "collapsed": false
   },
   "outputs": [],
   "source": [
    "df = pd.read_json(\"https://sheetsu.com/apis/v1.0/dab55afd\")"
   ]
  },
  {
   "cell_type": "code",
   "execution_count": 50,
   "metadata": {
    "collapsed": false
   },
   "outputs": [],
   "source": [
    "df_1 = df.applymap(lambda x: None if len(x.strip(' '))==0 else x)"
   ]
  },
  {
   "cell_type": "code",
   "execution_count": 55,
   "metadata": {
    "collapsed": false
   },
   "outputs": [
    {
     "data": {
      "text/plain": [
       "Color           0\n",
       "Consumed In     0\n",
       "Country         2\n",
       "Grape          99\n",
       "Name            9\n",
       "Price           6\n",
       "Region          1\n",
       "Score           1\n",
       "Vintage         0\n",
       "Vinyard        86\n",
       "dtype: int64"
      ]
     },
     "execution_count": 55,
     "metadata": {},
     "output_type": "execute_result"
    }
   ],
   "source": [
    "df_1.isnull().sum()"
   ]
  },
  {
   "cell_type": "code",
   "execution_count": 57,
   "metadata": {
    "collapsed": false
   },
   "outputs": [
    {
     "name": "stdout",
     "output_type": "stream",
     "text": [
      "R             101\n",
      "W              16\n",
      "Z               2\n",
      "Robin Hood      1\n",
      "P               1\n",
      "Name: Color, dtype: int64\n",
      "2015                102\n",
      "2014                  7\n",
      "2013                  4\n",
      "large quantities      2\n",
      "Always                2\n",
      "2012                  1\n",
      "2098                  1\n",
      "2016                  1\n",
      "15                    1\n",
      "Name: Consumed In, dtype: int64\n",
      "US          101\n",
      "France        9\n",
      "Italy         3\n",
      "Portugal      2\n",
      "Spain         2\n",
      "Oregon        1\n",
      "666           1\n",
      "Name: Country, dtype: int64\n",
      "sauvignon blanc                                                                    4\n",
      "grape drank                                                                        2\n",
      "merlot, cab                                                                        2\n",
      "sangiovese                                                                         2\n",
      "pinot noir                                                                         1\n",
      "merlot                                                                             1\n",
      "cab                                                                                1\n",
      "Chablis, Vincent Dampt, Vaillons 1er (Burgundy, France) 2012 W/ Limestone taste    1\n",
      "chiraz                                                                             1\n",
      "pinot griogio                                                                      1\n",
      "BIG                                                                                1\n",
      "GR8Pe!                                                                             1\n",
      "Albarino, Granbazan (Rias Baixas) 2012                                             1\n",
      "chiraz, cab                                                                        1\n",
      "cabernet sauvignon                                                                 1\n",
      "chardonay                                                                          1\n",
      "Name: Grape, dtype: int64\n",
      "My wonderful wine                                  61\n",
      "CK wonderful wine                                   3\n",
      "Ryans wine                                          2\n",
      "Pauls XXX Vinyards                                  2\n",
      "MG wonderful wine                                   2\n",
      "Sauvignon Blanc                                     2\n",
      "Haley's wonderful wine                              2\n",
      "Isaac's post                                        2\n",
      "Deligious Way                                       2\n",
      "christine's wine                                    2\n",
      "OMEEDS WINE STASH DONT TOUCH BIATCHESSSSSSSSSSS     2\n",
      "Saint Drezery Prestige                              2\n",
      "Some fantastic wine                                 2\n",
      "Bretts happy juice                                  2\n",
      "Dope Wines                                          1\n",
      "#14                                                 1\n",
      "Grape Squeezins                                     1\n",
      "Albarino                                            1\n",
      "Gotta Catch Em All                                  1\n",
      "Rosso Di Montalcino                                 1\n",
      "Uppercut North Coast                                1\n",
      "Meiomi                                              1\n",
      "Montepulciano D'Abruzzo                             1\n",
      "Chez Wilson                                         1\n",
      "Wwonderful wine                                     1\n",
      "Vincent Dampt                                       1\n",
      "$$ _ 5 seven ! _ $$                                 1\n",
      "Cape Blush                                          1\n",
      "Cru Classe                                          1\n",
      "Howies wonderful wine                               1\n",
      "Pinot Grigio                                        1\n",
      "Nero d'Avola                                        1\n",
      "Rosso Dei Poggi                                     1\n",
      "Spice Trader                                        1\n",
      "Domaine du Claouset                                 1\n",
      "Sancerre Cuvee Des Moulins Bales                    1\n",
      "Beyhtar                                             1\n",
      "Vinho Verde                                         1\n",
      "Name: Name, dtype: int64\n",
      "200        88\n",
      "13          4\n",
      "12          3\n",
      "10          2\n",
      "7           2\n",
      "15          2\n",
      "11.99       1\n",
      "2000000     1\n",
      "14          1\n",
      "22          1\n",
      "20          1\n",
      "11          1\n",
      "hahaha      1\n",
      "35          1\n",
      "9999        1\n",
      "21          1\n",
      "2           1\n",
      "6           1\n",
      "17.8        1\n",
      "14.5        1\n",
      "Name: Price, dtype: int64\n",
      "Sonoma          85\n",
      "France           3\n",
      "Tuscany          3\n",
      "Oregon           3\n",
      "Nappa            2\n",
      "Santa Monica     2\n",
      "Portugal         2\n",
      "Truro            2\n",
      "Dupont           2\n",
      "America!!!       2\n",
      "Napa             2\n",
      "Bordeaux         2\n",
      "California       1\n",
      "Spain            1\n",
      "Washington       1\n",
      "Sicily           1\n",
      "i like soup      1\n",
      "Loire            1\n",
      "Rias Baixas      1\n",
      "Provence         1\n",
      "Medoc            1\n",
      "Burgundy         1\n",
      "Name: Region, dtype: int64\n",
      "10           87\n",
      "3            10\n",
      "3.5           8\n",
      "4             6\n",
      "2.5           2\n",
      "11            2\n",
      "1 million     2\n",
      "112           1\n",
      "2             1\n",
      "4.5           1\n",
      "Name: Score, dtype: int64\n",
      "1973           84\n",
      "2012           14\n",
      "2013           10\n",
      "2011            4\n",
      "1776            2\n",
      "1986            2\n",
      "2010            1\n",
      "not an int!     1\n",
      "1800            1\n",
      "1980            1\n",
      "1900            1\n",
      "Name: Vintage, dtype: int64\n",
      "Top of the line wine      3\n",
      "Truro Vineyards           2\n",
      "Puech-Haut                2\n",
      "Abacela                   2\n",
      "Abacelo                   1\n",
      "Celestin Blobdeau         1\n",
      "Granbazan                 1\n",
      "THE BEST CHICKENS         1\n",
      "Mapreco                   1\n",
      "Two Angels                1\n",
      "Peyruchet                 1\n",
      "Ochoa                     1\n",
      "Provenance                1\n",
      "Heartland                 1\n",
      "Crow Canyon               1\n",
      "Sonoma Vines              1\n",
      "Vinho Verde               1\n",
      "Baglio Di Pianetto        1\n",
      "Belle Glos                1\n",
      "Wine Boys                 1\n",
      "Domaine du Claouset       1\n",
      "Rosso Dei Poggi           1\n",
      "Hyatt                     1\n",
      "Orizzonti                 1\n",
      "David Beaulieu            1\n",
      "Chateau de la Clapiere    1\n",
      "Honig                     1\n",
      "Vaillons                  1\n",
      "Ridolfi                   1\n",
      "Chantemerle               1\n",
      "Name: Vinyard, dtype: int64\n"
     ]
    }
   ],
   "source": [
    "for col in df_1.columns:\n",
    "    print df_1[col].value_counts()"
   ]
  },
  {
   "cell_type": "code",
   "execution_count": null,
   "metadata": {
    "collapsed": true
   },
   "outputs": [],
   "source": []
  },
  {
   "cell_type": "markdown",
   "metadata": {},
   "source": [
    "## Exercise 4: Feature Extraction\n",
    "\n",
    "We would like to use a regression tree to predict the score of a wine. In order to do that, we first need to select and engineer appropriate features.\n",
    "\n",
    "1. set the target to be the Score column, drop the rows with no score\n",
    "- use pd.get_dummies to create dummy features for all the text columns\n",
    "- fill the nan values in the numerical columns, using an appropriate method\n",
    "- train a Decision tree regressor on the Score, using a train test split:\n",
    "        X_train, X_test, y_train, y_test, = train_test_split(X, y, test_size=0.3, random_state=42)\n",
    "- plot the test values, the predicted values and the residuals\n",
    "- calculate R^2 score\n",
    "- discuss your findings\n"
   ]
  },
  {
   "cell_type": "code",
   "execution_count": null,
   "metadata": {
    "collapsed": false
   },
   "outputs": [],
   "source": []
  },
  {
   "cell_type": "markdown",
   "metadata": {},
   "source": [
    "## Exercise 5: IMDB Movies\n",
    "\n",
    "Sometimes an API doesn't provide all the information we would like to get and we need to be creative.\n",
    "Here we will use a combination of scraping and API calls to investigate the ratings and gross earnings of famous movies."
   ]
  },
  {
   "cell_type": "markdown",
   "metadata": {
    "collapsed": true
   },
   "source": [
    "## 5.a Get top movies\n",
    "\n",
    "The Internet Movie Database contains data about movies. Unfortunately it does not have a public API.\n",
    "\n",
    "The page http://www.imdb.com/chart/top contains the list of the top 250 movies of all times. Retrieve the page using the requests library and then parse the html to obtain a list of the `movie_ids` for these movies. You can parse it with regular expression or using a library like `BeautifulSoup`.\n",
    "\n",
    "**Hint:** movie_ids look like this: `tt2582802`"
   ]
  },
  {
   "cell_type": "code",
   "execution_count": null,
   "metadata": {
    "collapsed": false
   },
   "outputs": [],
   "source": []
  },
  {
   "cell_type": "markdown",
   "metadata": {},
   "source": [
    "## 5.b Get top movies data\n",
    "\n",
    "Although the Internet Movie Database does not have a public API, an open API exists at http://www.omdbapi.com.\n",
    "\n",
    "Use this API to retrieve information about each of the 250 movies you have extracted in the previous step.\n",
    "1. Check the documentation of omdbapi.com to learn how to request movie data by id\n",
    "- define a function that returns a python object with all the information for a given id\n",
    "- iterate on all the IDs and store the results in a list of such objects\n",
    "- create a Pandas Dataframe from the list"
   ]
  },
  {
   "cell_type": "code",
   "execution_count": null,
   "metadata": {
    "collapsed": false
   },
   "outputs": [],
   "source": []
  },
  {
   "cell_type": "markdown",
   "metadata": {},
   "source": [
    "## 5.c Get gross data\n",
    "\n",
    "The OMDB API is great, but it does not provide information about Gross Revenue of the movie. We'll revert back to scraping for this.\n",
    "\n",
    "1. Write a function that retrieves the gross revenue from the entry page at imdb.com\n",
    "- the function should handle the exception of when the page doesn't report gross revenue\n",
    "- retrieve the gross revenue for each movie and store it in a separate dataframe"
   ]
  },
  {
   "cell_type": "code",
   "execution_count": null,
   "metadata": {
    "collapsed": false
   },
   "outputs": [],
   "source": []
  },
  {
   "cell_type": "markdown",
   "metadata": {},
   "source": [
    "## 5.d Data munging\n",
    "\n",
    "1. Now that you have movie information and gross revenue information, let's clean the two datasets.\n",
    "- check if there are null values. Be careful they may appear to be valid strings.\n",
    "- convert the columns to the appropriate formats. In particular handle:\n",
    "    - Released\n",
    "    - Runtime\n",
    "    - year\n",
    "    - imdbRating\n",
    "    - imdbVotes\n",
    "- merge the data from the two datasets into a single one"
   ]
  },
  {
   "cell_type": "code",
   "execution_count": null,
   "metadata": {
    "collapsed": false
   },
   "outputs": [],
   "source": []
  },
  {
   "cell_type": "markdown",
   "metadata": {},
   "source": [
    "## 5.d Text vectorization\n",
    "\n",
    "There are several columns in the data that contain a comma separated list of items, for example the Genre column and the Actors column. Let's transform those to binary columns using the count vectorizer from scikit learn.\n",
    "\n",
    "Append these columns to the merged dataframe.\n",
    "\n",
    "**Hint:** In order to get the actors name right, you'll have to modify the `token_pattern` in the `CounteVectorizer`."
   ]
  },
  {
   "cell_type": "code",
   "execution_count": null,
   "metadata": {
    "collapsed": true
   },
   "outputs": [],
   "source": []
  },
  {
   "cell_type": "markdown",
   "metadata": {},
   "source": [
    "## Bonus: Final Questions:\n",
    "\n",
    "1. what are the top 10 grossing movies?\n",
    "- who are the 10 actors that appear in the most movies?\n",
    "- what's the average grossing of the movies in which each of these actors appear?\n",
    "- what genre is the oldest movie?\n"
   ]
  },
  {
   "cell_type": "code",
   "execution_count": null,
   "metadata": {
    "collapsed": false
   },
   "outputs": [],
   "source": []
  }
 ],
 "metadata": {
  "anaconda-cloud": {},
  "kernelspec": {
   "display_name": "Python [dsi]",
   "language": "python",
   "name": "Python [dsi]"
  },
  "language_info": {
   "codemirror_mode": {
    "name": "ipython",
    "version": 2
   },
   "file_extension": ".py",
   "mimetype": "text/x-python",
   "name": "python",
   "nbconvert_exporter": "python",
   "pygments_lexer": "ipython2",
   "version": "2.7.12"
  }
 },
 "nbformat": 4,
 "nbformat_minor": 0
}
