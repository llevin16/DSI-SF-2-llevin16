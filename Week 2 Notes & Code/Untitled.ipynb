{
 "cells": [
  {
   "cell_type": "code",
   "execution_count": 14,
   "metadata": {
    "collapsed": false
   },
   "outputs": [
    {
     "ename": "ImportError",
     "evalue": "No module named prep",
     "output_type": "error",
     "traceback": [
      "\u001b[1;31m---------------------------------------------------------------------------\u001b[0m",
      "\u001b[1;31mImportError\u001b[0m                               Traceback (most recent call last)",
      "\u001b[1;32m<ipython-input-14-0538cc18f544>\u001b[0m in \u001b[0;36m<module>\u001b[1;34m()\u001b[0m\n\u001b[0;32m     12\u001b[0m \u001b[1;32mif\u001b[0m \u001b[0mint\u001b[0m\u001b[1;33m(\u001b[0m\u001b[0mos\u001b[0m\u001b[1;33m.\u001b[0m\u001b[0menviron\u001b[0m\u001b[1;33m.\u001b[0m\u001b[0mget\u001b[0m\u001b[1;33m(\u001b[0m\u001b[1;34m\"MODERN_PANDAS_EPUB\"\u001b[0m\u001b[1;33m,\u001b[0m \u001b[1;36m0\u001b[0m\u001b[1;33m)\u001b[0m\u001b[1;33m)\u001b[0m\u001b[1;33m:\u001b[0m\u001b[1;33m\u001b[0m\u001b[0m\n\u001b[0;32m     13\u001b[0m     \u001b[1;32mimport\u001b[0m \u001b[0mprep\u001b[0m\u001b[1;33m\u001b[0m\u001b[0m\n\u001b[1;32m---> 14\u001b[1;33m \u001b[1;32mimport\u001b[0m \u001b[0mprep\u001b[0m\u001b[1;33m\u001b[0m\u001b[0m\n\u001b[0m",
      "\u001b[1;31mImportError\u001b[0m: No module named prep"
     ]
    }
   ],
   "source": [
    "import os\n",
    "#import zipfileimport \n",
    "import requests\n",
    "import numpy as np\n",
    "import pandas as pd\n",
    "import seaborn as sns\n",
    "import matplotlib.pyplot as plt\n",
    "import scipy.stats as stats\n",
    "sns.set_style('darkgrid')\n",
    "%config InlineBackend.figure_format = 'retina'\n",
    "%matplotlib inline\n",
    "if int(os.environ.get(\"MODERN_PANDAS_EPUB\", 0)):\n",
    "    import prep\n",
    "import prep"
   ]
  },
  {
   "cell_type": "code",
   "execution_count": 11,
   "metadata": {
    "collapsed": true
   },
   "outputs": [],
   "source": [
    "def mkdir_path(path):\n",
    "    if not os.access(path, os.F_OK):\n",
    "        os.mkdirs(path)"
   ]
  },
  {
   "cell_type": "code",
   "execution_count": 12,
   "metadata": {
    "collapsed": false
   },
   "outputs": [
    {
     "ename": "IOError",
     "evalue": "[Errno 2] No such file or directory: 'modern-1-url.txt'",
     "output_type": "error",
     "traceback": [
      "\u001b[1;31m---------------------------------------------------------------------------\u001b[0m",
      "\u001b[1;31mIOError\u001b[0m                                   Traceback (most recent call last)",
      "\u001b[1;32m<ipython-input-12-66c1bda07e87>\u001b[0m in \u001b[0;36m<module>\u001b[1;34m()\u001b[0m\n\u001b[0;32m     18\u001b[0m }\n\u001b[0;32m     19\u001b[0m \u001b[1;33m\u001b[0m\u001b[0m\n\u001b[1;32m---> 20\u001b[1;33m \u001b[1;32mwith\u001b[0m \u001b[0mio\u001b[0m\u001b[1;33m.\u001b[0m\u001b[0mopen\u001b[0m\u001b[1;33m(\u001b[0m\u001b[1;34m'modern-1-url.txt'\u001b[0m\u001b[1;33m,\u001b[0m \u001b[0mencoding\u001b[0m\u001b[1;33m=\u001b[0m\u001b[1;34m'utf-8'\u001b[0m\u001b[1;33m)\u001b[0m \u001b[1;32mas\u001b[0m \u001b[0mf\u001b[0m\u001b[1;33m:\u001b[0m\u001b[1;33m\u001b[0m\u001b[0m\n\u001b[0m\u001b[0;32m     21\u001b[0m     \u001b[0mdata\u001b[0m \u001b[1;33m=\u001b[0m \u001b[0mf\u001b[0m\u001b[1;33m.\u001b[0m\u001b[0mread\u001b[0m\u001b[1;33m(\u001b[0m\u001b[1;33m)\u001b[0m\u001b[1;33m.\u001b[0m\u001b[0mstrip\u001b[0m\u001b[1;33m(\u001b[0m\u001b[1;33m)\u001b[0m\u001b[1;31m# os.makedirs('data')\u001b[0m\u001b[1;33m\u001b[0m\u001b[0m\n\u001b[0;32m     22\u001b[0m \u001b[1;32mtry\u001b[0m\u001b[1;33m:\u001b[0m\u001b[1;33m\u001b[0m\u001b[0m\n",
      "\u001b[1;31mIOError\u001b[0m: [Errno 2] No such file or directory: 'modern-1-url.txt'"
     ]
    }
   ],
   "source": [
    "headers = {\n",
    "   'Pragma': 'no-cache',\n",
    "   'Origin': 'http://www.transtats.bts.gov',\n",
    "   'Accept-Encoding': 'gzip, deflate',\n",
    "   'Accept-Language': 'en-US,en;q=0.8',\n",
    "   'Upgrade-Insecure-Requests': '1',\n",
    "   'User-Agent': ('Mozilla/5.0 (Macintosh; Intel Mac OS X 10_11_2) '\n",
    "                  'AppleWebKit/537.36 (KHTML, like Gecko) Chrome/48.'\n",
    "                  '0.2564.116 Safari/537.36'),\n",
    "   'Content-Type': 'application/x-www-form-urlencoded',\n",
    "   'Accept': ('text/html,application/xhtml+xml,application/xml;q=0.9,'\n",
    "              'image/webp,​/​;q=0.8'),\n",
    "   'Cache-Control': 'no-cache',\n",
    "   'Referer': ('http://www.transtats.bts.gov/DL_SelectFields.asp?Table'\n",
    "               '_ID=236&DB_Short_Name=On-Time'),\n",
    "   'Connection': 'keep-alive',\n",
    "   'DNT': '1',\n",
    "}\n",
    "\n",
    "with io.open('modern-1-url.txt', encoding='utf-8') as f:\n",
    "    data = f.read().strip()# os.makedirs('data')\n",
    "try:\n",
    "    os.makedirs('data')\n",
    "except FileExistsError as exc:\n",
    "    pass\n",
    "\n",
    "dest = \"data/flights.csv.zip\"\n",
    "if not os.path.exists(dest):\n",
    "    r = requests.post('http://www.transtats.bts.gov/DownLoad_Table.asp?Table_ID=236'\n",
    "                     '&Has_Group=3&Is_Zipped=0',\n",
    "                     headers=headers, data=data, stream=True)\n",
    "with open(\"data/flights.csv.zip\", 'wb') as f:\n",
    "       for chunk in r.iter_content(chunk_size=102400):\n",
    "            if chunk:\n",
    "                f.write(chunk) "
   ]
  },
  {
   "cell_type": "code",
   "execution_count": null,
   "metadata": {
    "collapsed": true
   },
   "outputs": [],
   "source": []
  }
 ],
 "metadata": {
  "kernelspec": {
   "display_name": "Python [dsi]",
   "language": "python",
   "name": "Python [dsi]"
  },
  "language_info": {
   "codemirror_mode": {
    "name": "ipython",
    "version": 2
   },
   "file_extension": ".py",
   "mimetype": "text/x-python",
   "name": "python",
   "nbconvert_exporter": "python",
   "pygments_lexer": "ipython2",
   "version": "2.7.12"
  }
 },
 "nbformat": 4,
 "nbformat_minor": 0
}
